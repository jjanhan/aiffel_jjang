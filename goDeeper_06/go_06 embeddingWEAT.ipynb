{
 "cells": [
  {
   "cell_type": "markdown",
   "metadata": {},
   "source": [
    "## WEAT\n",
    "  - 잘 모르는 상태로 노드만 쫓아가고 있음\n",
    "  - 학습이 좀더 필요함\n",
    "  - 프로젝트의 요구사항을 정확히 인지 못하고 있음\n",
    "  - 제대로 하는지 잘 모르겠음"
   ]
  },
  {
   "cell_type": "code",
   "execution_count": null,
   "metadata": {},
   "outputs": [],
   "source": []
  },
  {
   "cell_type": "code",
   "execution_count": null,
   "metadata": {},
   "outputs": [],
   "source": []
  },
  {
   "cell_type": "code",
   "execution_count": null,
   "metadata": {},
   "outputs": [],
   "source": []
  },
  {
   "cell_type": "code",
   "execution_count": 1,
   "metadata": {},
   "outputs": [],
   "source": [
    "import numpy as np\n",
    "from numpy import dot\n",
    "from numpy.linalg import norm"
   ]
  },
  {
   "cell_type": "code",
   "execution_count": 2,
   "metadata": {},
   "outputs": [],
   "source": [
    "def cos_sim(i, j):\n",
    "    return dot(i, j.T) / (norm(i) * norm(j))\n",
    "\n",
    "def s(w, A, B):\n",
    "    c_a = cos_sim(w, A)\n",
    "    c_b = cos_sim(w, B)\n",
    "    mean_A = np.mean(c_a, axis=-1)\n",
    "    mean_B = np.mean(c_b, axis=-1)\n",
    "    return mean_A - mean_B"
   ]
  },
  {
   "cell_type": "code",
   "execution_count": null,
   "metadata": {},
   "outputs": [],
   "source": []
  },
  {
   "cell_type": "code",
   "execution_count": 3,
   "metadata": {},
   "outputs": [
    {
     "name": "stdout",
     "output_type": "stream",
     "text": [
      "사운드 엔지니어 상우(유지태 분)는 치매에 걸린 할머니(백성희 분)와\n",
      " 젊은 시절 상처한 한 아버지(박인환 분), 고모(신신애 분)와 함께 살고 있다.\n",
      " 어느 겨울 그는 지방 방송국 라디오 PD 은수(이영애 분)를 만난다.\n",
      " 자연의 소리를 채집해 틀어주는 라디오 프로그램을 준비하는 은수는 상우와 녹음 여행을 떠난다.\n",
      " 자연스레 가까워지는 두 사람은 어느 날, 은수의 아파트에서 밤을 보낸다.\n",
      " 너무 쉽게 사랑에 빠진 두 사람... 상우는 주체할 수 없을 정도로 그녀에게 빨려든다.\n",
      " 그러나 겨울에 만난 두 사람의 관계는 봄을 지나 여름을 맞이하면서 삐걱거린다.\n",
      " 이혼 경험이 있는 은수는 상우에게 결혼할 생각이 없다며 부담스러운 표정을 내비친다.\n",
      " \"어떻게 사랑이 변하니?...\"라고 묻는 상우에게 은수는 그저 \"헤어져\" 라고 단호하게 말한다.\n",
      " 영원히 변할 것 같지 않던 사랑이 변하고, 그 사실을 받아들이지 못하는 상우는 어찌 할 바를 모른다.\n",
      " 은수를 잊지 못하는 상우는 미련과 집착의 감정을 이기지 못하고 서울과 강릉을 오간다.\n",
      "유사 이래 연령, 성별, 빈부의 차이와 정치적인 입장을 불문하고 일거에 국민을 통합해 온 '애국심'이라는 성역에 일침을 가하는 다큐멘터리. 재작년 전국 민족민주 유가족협의회의 장기농성을 다룬 인상적인 다큐멘터리 <민들레>를 만들었던 독립영화집단 '빨간 눈사람'이 우리 사회 구석구석을 발빠르게 돌아다니며 애국심과 민족주의가 강요되는 현장을 발굴하여 카메라에 담았다. 박홍 서강대 명예총장, 이도형 '한국논단' 발행인, 축구해설자 신문선, 홍세화, 박노해 등 사회 각계의 '스타'들이 등장해 저마다의 확고한 신념을 성토한다. 감독 이경순과 최하동하는 이 작품을 위해 3년간 백여 명을 인터뷰했다고 한다. 2001 올해의 독립영화상 수상.\n",
      " 민족과 국가란 공동체에서 부단히 권력과 부를 얻는 자, 나아가 민족과 국가란 공동체에서 얻은 신분과 부귀를 영원히 그의 자손에게 대물림하려는 자, 그래서 민족과 국가란 공동체를 부단히 유지해야만 하는 자, 따라서 민족과 국가란 공동체의 당위성과 개인의 가치를 초월하는 그 존엄성을 끝도 없이 창조하고 되뇌어야 하는 자, 종국에는 민족과 국가란 공동체에 속해 있다고 태내에서부터 세뇌된 모든 이들의 삶과 행동에서 영원히 자기복제되는 순환의 고리, 영생하는 애국의 원동력은 그 순환의 골에서 온다.\n",
      "엽기적인 살인사건이 발생한 장소를 관광하는 투어팀. 그 팀에서 관광객들은 살인사건과 관련하여 히스테리컬한 반응을 보이는데 과연 이들의 정체는? (Tourists see whrer a murder take place. They respond hysterically to the murder…what are they?)\n",
      " 제46회 발라돌리드 국제영화제 (2001, 스페인)\n",
      "착하지만 엉뚱한 태희(배두나 분), 예쁜 깍쟁이 혜주(이요원 분), 그림을 잘 그리는 지영(옥지영 분), 명랑한 쌍둥이 비류(이은실 분)와 온조(이은주 분)는 단짝친구들. 늘 함께였던 그들이지만 스무 살이 되면서 길이 달라진다. 증권회사에 입사한 혜주는 성공한 커리어우먼의 야심을 키우고 미술에 재능이 있는 지영은 유학을 꿈꾼다. 한편 태희는 봉사활동에서 알게 된 뇌성마비 시인을 좋아하는데...\n",
      "  어느 날 지영이 길 잃은 새끼 고양이 티티를 만남면서 스무 살 그녀들의 삶에 고양이 한 마리가 끼어들게 된다. 혼자 있길 좋아하고, 쉽게 마음을 열지 않는 신비로운 동물 고양이. 고양이를 닮은 스무 살 그녀들. 고양이 티티와 함께 한 시간동안 삶은 예상못한 방향으로 흘러가지만 마침내 그녀들만의 해결책을 찾게 되는데... 사랑스런 몽상가 태희, 아름다운 야심가 혜주, 신비로운 아웃사이더 지영. 마지막으로 고양이를 부탁받은 사람은 누구일까?\n",
      "인도 등 아시아 식민지에 처음 발을 디딘 뒤 여행하고 “경영”한 이들은 과연 누구였을까? 과거의 이미지들은, 이민과 인종 문제, ‘오리엔탈리즘’이 격렬히 충돌하고 있는 현재와 강력하게 공명한다.\n",
      " [제19회 인디다큐페스티발]\n",
      "홀로 살아가는 미국 할머니와 한국 할머니의 이야기. 공원에서 가끔 마주치게 되는 그들은 비록 언어 소통의 어려움을 겪지만 시간이 흘러감에 따라 서로 가까워져 그들의 외로움과 우정을 공유하게 된다. 겨울이 지나고 봄이 왔을 때 길가의 민들레 홀씨는 삶의 이치를 말해주듯 한 할머니의 주위를 맴돈다. (Two elderly widows, an American and a Korean, frequent the same park in Philadelphia and attempt a friendship, though the Korean widow speaks no English. Driven by loneliness and a spark of hope, they persevere within the limits of body language, and the outcome poses a question of life as fundamental as a flower.)\n"
     ]
    }
   ],
   "source": [
    "import os\n",
    "\n",
    "with open(os.getenv('HOME') + '/aiffel/weat/synopsis/synopsis.txt', 'r') as file:\n",
    "    for i in range(20):\n",
    "        print(file.readline(), end='')"
   ]
  },
  {
   "cell_type": "code",
   "execution_count": 4,
   "metadata": {},
   "outputs": [],
   "source": [
    "import os\n",
    "from sklearn.feature_extraction.text import TfidfVectorizer\n",
    "import numpy as np\n",
    "from konlpy.tag import Okt\n",
    "\n",
    "art_txt = 'synopsis_art.txt'\n",
    "gen_txt = 'synopsis_gen.txt'\n",
    "\n",
    "def read_token(file_name):\n",
    "    okt = Okt()\n",
    "    result = []\n",
    "    \n",
    "    with open(os.getenv('HOME')+'/aiffel/weat/synopsis/'+file_name, 'r') as fread:\n",
    "        print(file_name, '파일을 읽고 있습니다.')\n",
    "        while True:\n",
    "            line = fread.readline()\n",
    "            if not line:\n",
    "                break\n",
    "            tokenlist = okt.pos(line, stem=True, norm=True)\n",
    "            for word in tokenlist:\n",
    "                if word[1] in ['Noun']:\n",
    "                    result.append((word[0]))\n",
    "    return ' '.join(result)\n"
   ]
  },
  {
   "cell_type": "code",
   "execution_count": 5,
   "metadata": {},
   "outputs": [],
   "source": [
    "from konlpy.tag import Okt\n",
    "\n",
    "okt = Okt()\n",
    "tokenized = []\n",
    "with open(os.getenv('HOME')+'/aiffel/weat/synopsis/synopsis.txt', 'r') as file:\n",
    "    while True:\n",
    "        line = file.readline()\n",
    "        if not line:\n",
    "            break\n",
    "        words = okt.pos(line, stem=True, norm=True)\n",
    "        res = []\n",
    "        for w in words:\n",
    "            if w[1] in ['Noun']:    # Adjective, Verb\n",
    "                res.append(w[0])\n",
    "                \n",
    "        tokenized.append(res)"
   ]
  },
  {
   "cell_type": "code",
   "execution_count": 6,
   "metadata": {},
   "outputs": [
    {
     "name": "stderr",
     "output_type": "stream",
     "text": [
      "/home/aiffel/anaconda3/envs/aiffel/lib/python3.7/site-packages/ipykernel_launcher.py:5: DeprecationWarning: Call to deprecated `most_similar` (Method will be removed in 4.0.0, use self.wv.most_similar() instead).\n",
      "  \"\"\"\n"
     ]
    },
    {
     "data": {
      "text/plain": [
       "[('작품', 0.8950704336166382),\n",
       " ('다큐멘터리', 0.8431891202926636),\n",
       " ('드라마', 0.8409242033958435),\n",
       " ('형식', 0.8079805970191956),\n",
       " ('소재', 0.7937343716621399),\n",
       " ('코미디', 0.7934932708740234),\n",
       " ('영화로', 0.7932129502296448),\n",
       " ('주제', 0.7885860800743103),\n",
       " ('편의', 0.7798042297363281),\n",
       " ('인터뷰', 0.7784631848335266)]"
      ]
     },
     "execution_count": 6,
     "metadata": {},
     "output_type": "execute_result"
    }
   ],
   "source": [
    "from gensim.models import Word2Vec\n",
    "\n",
    "# Gensim 3.x \n",
    "model = Word2Vec(tokenized, size=100, window=5, min_count=3, sg=0)\n",
    "model.most_similar(positive=['영화'])"
   ]
  },
  {
   "cell_type": "code",
   "execution_count": 21,
   "metadata": {},
   "outputs": [
    {
     "name": "stdout",
     "output_type": "stream",
     "text": [
      "synopsis_art.txt 파일을 읽고 있습니다.\n",
      "synopsis_gen.txt 파일을 읽고 있습니다.\n"
     ]
    }
   ],
   "source": [
    "art = read_token(art_txt)\n",
    "gen = read_token(gen_txt)"
   ]
  },
  {
   "cell_type": "code",
   "execution_count": 22,
   "metadata": {},
   "outputs": [],
   "source": [
    "vectorizer = TfidfVectorizer()\n",
    "X = vectorizer.fit_transform([art, gen])"
   ]
  },
  {
   "cell_type": "code",
   "execution_count": 25,
   "metadata": {},
   "outputs": [
    {
     "name": "stdout",
     "output_type": "stream",
     "text": [
      "예술영화를 대표하는 단어들: \n",
      "그녀, 자신, 시작, 위해, 사랑, 사람, 영화, 친구, 남자, 가족, 이야기, 마을, 사건, 마음, 세상, 아버지, 아이, 엄마, 모든, 여자, 대한, 서로, 과연, 다시, 시간, 아들, 소녀, 아내, 다른, 사이, 영화제, 세계, 사실, 하나, 점점, 남편, 감독, 여행, 인생, 발견, 모두, 순간, 우리, 가장, 마지막, 생활, 아빠, 모습, 통해, 죽음, 기억, 비밀, 학교, 음악, 한편, 소년, 생각, 도시, 명의, 사고, 결혼, 전쟁, 때문, 위기, 이제, 최고, 이자, 과거, 일상, 경찰, 상황, 간다, 미국, 결심, 운명, 현실, 관계, 지금, 단편, 여인, 하루, 이름, 이후, 준비, 인간, 감정, 만난, 국제, 처음, 충격, 살인, 누구, 동안, 존재, 그린, 어머니, 연인, 계속, 동생, 작품, \n",
      "\n",
      "일반영화를 대표하는 단어들: \n",
      "자신, 그녀, 영화제, 위해, 사람, 시작, 국제, 영화, 친구, 사랑, 남자, 이야기, 대한, 서울, 여자, 사건, 남편, 아이, 가족, 아버지, 다른, 마을, 시간, 엄마, 아들, 모든, 단편, 마음, 사실, 다시, 세계, 모습, 작품, 통해, 생각, 서로, 세상, 발견, 감독, 아내, 관계, 소녀, 사이, 하나, 우리, 애니메이션, 때문, 여성, 죽음, 과연, 점점, 인간, 생활, 한편, 결혼, 상황, 모두, 기억, 명의, 소년, 여행, 가장, 간다, 순간, 이제, 도시, 비밀, 학교, 과거, 가지, 이자, 경찰, 마지막, 미국, 동안, 전쟁, 주인공, 대해, 존재, 현실, 연출, 사고, 살인, 일상, 어머니, 계속, 사회, 인생, 다큐멘터리, 부문, 섹스, 최고, 바로, 동생, 의도, 하루, 위기, 계획, 정체, 한국, "
     ]
    }
   ],
   "source": [
    "m1 = X[0].tocoo()\n",
    "m2 = X[1].tocoo()\n",
    "\n",
    "w1 = [[i, j] for i, j in zip(m1.col, m1.data)]\n",
    "w2 = [[i, j] for i, j in zip(m2.col, m2.data)]\n",
    "\n",
    "w1.sort(key=lambda x: x[1], reverse=True)\n",
    "w2.sort(key=lambda x: x[1], reverse=True)\n",
    "\n",
    "print('예술영화를 대표하는 단어들: ')\n",
    "for i in range(100):\n",
    "    print(vectorizer.get_feature_names()[w1[i][0]], end=', ')\n",
    "    \n",
    "print('\\n')\n",
    "\n",
    "print('일반영화를 대표하는 단어들: ')\n",
    "for i in range(100):\n",
    "    print(vectorizer.get_feature_names()[w2[i][0]], end=', ')"
   ]
  },
  {
   "cell_type": "code",
   "execution_count": 26,
   "metadata": {},
   "outputs": [],
   "source": [
    "n = 15\n",
    "w1_, w2_ = [], []\n",
    "for i in range(100):\n",
    "    w1_.append(vectorizer.get_feature_names()[w1[i][0]])\n",
    "    w2_.append(vectorizer.get_feature_names()[w2[i][0]])\n",
    "    \n",
    "target_art, target_gen = [], []\n",
    "for i in range(100):\n",
    "    if (w1_[i] not in w2_) and (w1_[i] in model.wv):\n",
    "        target_art.append(w1_[i])\n",
    "    if len(target_art) == n:\n",
    "        break\n",
    "        \n",
    "for i in range(100):\n",
    "    if (w2_[i] not in w1_) and (w2_[i] in model.wv):\n",
    "        target_gen.append(w2_[i])\n",
    "    if len(target_gen) == n:\n",
    "        break"
   ]
  },
  {
   "cell_type": "code",
   "execution_count": null,
   "metadata": {},
   "outputs": [],
   "source": [
    "# print(target_art)\n",
    "# print(target_gen)"
   ]
  },
  {
   "cell_type": "code",
   "execution_count": 11,
   "metadata": {},
   "outputs": [],
   "source": [
    "genre_txt = ['synopsis_SF.txt', 'synopsis_family.txt', 'synopsis_show.txt', 'synopsis_horror.txt', 'synopsis_etc.txt', \n",
    "             'synopsis_documentary.txt', 'synopsis_drama.txt', 'synopsis_romance.txt', 'synopsis_musical.txt', \n",
    "             'synopsis_mystery.txt', 'synopsis_crime.txt', 'synopsis_historical.txt', 'synopsis_western.txt', \n",
    "             'synopsis_adult.txt', 'synopsis_thriller.txt', 'synopsis_animation.txt', 'synopsis_action.txt', \n",
    "             'synopsis_adventure.txt', 'synopsis_war.txt', 'synopsis_comedy.txt', 'synopsis_fantasy.txt']\n",
    "genre_name = ['SF', '가족', '공연', '공포(호러)', '기타', '다큐멘터리', '드라마', '멜로로맨스', '뮤지컬', '미스터리', '범죄', '사극', '서부극(웨스턴)',\n",
    "         '성인물(에로)', '스릴러', '애니메이션', '액션', '어드벤처', '전쟁', '코미디', '판타지']"
   ]
  },
  {
   "cell_type": "code",
   "execution_count": 12,
   "metadata": {},
   "outputs": [
    {
     "name": "stdout",
     "output_type": "stream",
     "text": [
      "synopsis_SF.txt 파일을 읽고 있습니다.\n",
      "synopsis_family.txt 파일을 읽고 있습니다.\n",
      "synopsis_show.txt 파일을 읽고 있습니다.\n",
      "synopsis_horror.txt 파일을 읽고 있습니다.\n",
      "synopsis_etc.txt 파일을 읽고 있습니다.\n",
      "synopsis_documentary.txt 파일을 읽고 있습니다.\n",
      "synopsis_drama.txt 파일을 읽고 있습니다.\n",
      "synopsis_romance.txt 파일을 읽고 있습니다.\n",
      "synopsis_musical.txt 파일을 읽고 있습니다.\n",
      "synopsis_mystery.txt 파일을 읽고 있습니다.\n",
      "synopsis_crime.txt 파일을 읽고 있습니다.\n",
      "synopsis_historical.txt 파일을 읽고 있습니다.\n",
      "synopsis_western.txt 파일을 읽고 있습니다.\n",
      "synopsis_adult.txt 파일을 읽고 있습니다.\n",
      "synopsis_thriller.txt 파일을 읽고 있습니다.\n",
      "synopsis_animation.txt 파일을 읽고 있습니다.\n",
      "synopsis_action.txt 파일을 읽고 있습니다.\n",
      "synopsis_adventure.txt 파일을 읽고 있습니다.\n",
      "synopsis_war.txt 파일을 읽고 있습니다.\n",
      "synopsis_comedy.txt 파일을 읽고 있습니다.\n",
      "synopsis_fantasy.txt 파일을 읽고 있습니다.\n"
     ]
    }
   ],
   "source": [
    "genre = []\n",
    "for file_name in genre_txt:\n",
    "    genre.append(read_token(file_name))"
   ]
  },
  {
   "cell_type": "code",
   "execution_count": 30,
   "metadata": {},
   "outputs": [
    {
     "name": "stdout",
     "output_type": "stream",
     "text": [
      "(21, 42191)\n"
     ]
    }
   ],
   "source": [
    "vectorizer = TfidfVectorizer()\n",
    "X = vectorizer.fit_transform(genre)\n",
    "\n",
    "print(X.shape)"
   ]
  },
  {
   "cell_type": "code",
   "execution_count": 31,
   "metadata": {},
   "outputs": [
    {
     "name": "stdout",
     "output_type": "stream",
     "text": [
      "SF: 지구, 시작, 사람, 인류, 인간, 미래, 우주, 로봇, 세계, 모든, 박사, 우주선, 외계, 존재, 세상, 발견, \n",
      "가족: 엄마, 아빠, 가족, 영화제, 친구, 아주르, 아버지, 시작, 아들, 마을, 국제, 낙타, 할머니, 씨제이, 동구, 사랑, \n",
      "공연: 오페라, 사랑, 토스카, 실황, 올레, 카바, 공연, 오텔로, 리골레토, 백작, 프레, 베르디, 카르피, 비바, 왕자, 콘서트, \n",
      "공포(호러): 시작, 사람, 친구, 사건, 공포, 발견, 죽음, 마을, 가족, 악령, 좀비, 영화, 사실, 소녀, 하나, 살인, \n",
      "기타: 영화제, 국제, 서울, 단편, 영화, 사람, 이야기, 시작, 사랑, 뉴미디어, 페스티벌, 여자, 대한, 독립, 친구, 작품, \n",
      "다큐멘터리: 영화제, 영화, 다큐, 국제, 다큐멘터리, 사람, 이야기, 대한, 감독, 서울, 우리, 시작, 세계, 통해, 여성, 가족, \n",
      "드라마: 영화제, 사람, 사랑, 영화, 시작, 국제, 친구, 이야기, 엄마, 여자, 아버지, 가족, 단편, 서울, 대한, 아들, \n",
      "멜로로맨스: 사랑, 시작, 여자, 사람, 친구, 섹스, 마음, 결혼, 서로, 관계, 부부, 엄마, 아버지, 사실, 영화, 점점, \n",
      "뮤지컬: 뮤지컬, 사랑, 에스메랄다, 음악, 충무로, 모차르트, 영화, 토스카, 니웨, 카바, 영화제, 바흐, 페뷔스, 프롤, 모도, 카르피, \n",
      "미스터리: 사건, 시작, 사람, 발견, 사고, 진실, 죽음, 기억, 살인, 친구, 아이, 민혁, 사실, 의문, 미스터리, 형사, \n",
      "범죄: 사건, 경찰, 시작, 범죄, 조직, 살인, 사람, 마약, 형사, 모든, 살해, 수사, 발견, 한길수, 범인, 계획, \n",
      "사극: 조선, 시작, 신기전, 사랑, 아가멤논, 황제, 루안, 최고, 운명, 사람, 하선, 전쟁, 윤서, 트로이, 세자, 허균, \n",
      "서부극(웨스턴): 서부, 보안관, 벌린, 카우보이, 그레이프바인, 헨리, 마을, 개릿, 아이, 시작, 무법자, 프린트, 마적, 태구, 현상금, 분노, \n",
      "성인물(에로): 마사지, 섹스, 관계, 영화, 정사, 시작, 여자, 유부녀, 마음, 사랑, 에피소드, 그린, 다시, 자위, 이야기, 회사, \n",
      "스릴러: 사건, 시작, 사람, 살인, 발견, 경찰, 친구, 모든, 사실, 살해, 가족, 형사, 점점, 비밀, 사랑, 여자, \n",
      "애니메이션: 애니메이션, 국제, 영화제, 친구, 인디애니페스트, 시작, 사람, 페스티벌, 서울, 이야기, 아이, 마을, 소녀, 세계, 세상, 애니, \n",
      "액션: 시작, 조직, 사건, 사람, 경찰, 전쟁, 모든, 목숨, 사실, 친구, 가족, 요원, 임무, 범죄, 세계, 살인, \n",
      "어드벤처: 시작, 친구, 마을, 아버지, 영화, 아이, 사람, 여행, 세계, 앤트, 세상, 가족, 모험, 비밀, 대한, 이야기, \n",
      "전쟁: 전쟁, 독일군, 전투, 작전, 시작, 부대, 윈터스, 독일, 연합군, 미군, 임무, 사람, 나치, 병사, 공격, 이지중대, \n",
      "코미디: 시작, 사랑, 사람, 친구, 영화, 여자, 영화제, 가족, 과연, 마을, 사건, 이야기, 인생, 아이, 아버지, 마음, \n",
      "판타지: 시작, 사람, 사랑, 요괴, 영화제, 이야기, 영화, 소녀, 인간, 세상, 마을, 세계, 국제, 마법, 알렉스, 존재, \n"
     ]
    }
   ],
   "source": [
    "m = [X[i].tocoo() for i in range(X.shape[0])]\n",
    "\n",
    "w = [[[i, j] for i, j in zip(mm.col, mm.data)] for mm in m]\n",
    "\n",
    "for i in range(len(w)):\n",
    "    w[i].sort(key=lambda x: x[1], reverse=True)\n",
    "  \n",
    "attributes = []\n",
    "\n",
    "not_word = ['그녀', '위해', '남편', '아내', '남자', '자신']\n",
    "\n",
    "for i in range(len(w)):\n",
    "    print(genre_name[i], end=': ')\n",
    "    attr = []\n",
    "    j = 0\n",
    "    while (len(attr) <= 15):\n",
    "        if ((vectorizer.get_feature_names()[w[i][j][0]] not in not_word) and\n",
    "                (vectorizer.get_feature_names()[w[i][j][0]] in model.wv)):\n",
    "            attr.append(vectorizer.get_feature_names()[w[i][j][0]])\n",
    "            print(vectorizer.get_feature_names()[w[i][j][0]], end=', ')\n",
    "        j += 1\n",
    "        \n",
    "    attributes.append(attr)\n",
    "    print() "
   ]
  },
  {
   "cell_type": "code",
   "execution_count": 32,
   "metadata": {},
   "outputs": [],
   "source": [
    "matrix = [[0 for _ in range(len(genre_name))] for _ in range(len(genre_name))]"
   ]
  },
  {
   "cell_type": "code",
   "execution_count": 33,
   "metadata": {},
   "outputs": [],
   "source": [
    "def weat_score(X, Y, A, B):\n",
    "    \n",
    "    s_X = s(X, A, B)\n",
    "    s_Y = s(Y, A, B)\n",
    "\n",
    "    mean_X = np.mean(s_X)\n",
    "    mean_Y = np.mean(s_Y)\n",
    "    \n",
    "    std_dev = np.std(np.concatenate([s_X, s_Y], axis=0))\n",
    "    \n",
    "    return  (mean_X-mean_Y)/std_dev"
   ]
  },
  {
   "cell_type": "code",
   "execution_count": 34,
   "metadata": {},
   "outputs": [],
   "source": [
    "A = np.array([model.wv[word] for word in target_art])\n",
    "B = np.array([model.wv[word] for word in target_gen])\n",
    "\n",
    "for i in range(len(genre_name)-1):\n",
    "    for j in range(i+1, len(genre_name)):\n",
    "        X = np.array([model.wv[word] for word in attributes[i]])\n",
    "        Y = np.array([model.wv[word] for word in attributes[j]])\n",
    "        matrix[i][j] = weat_score(X, Y, A, B)"
   ]
  },
  {
   "cell_type": "code",
   "execution_count": 35,
   "metadata": {},
   "outputs": [
    {
     "name": "stdout",
     "output_type": "stream",
     "text": [
      "SF 가족 -0.5857865\n",
      "SF 공연 -0.26919138\n",
      "SF 공포(호러) -0.76437455\n",
      "SF 기타 0.37112793\n",
      "SF 다큐멘터리 0.68454903\n",
      "SF 드라마 -0.24672604\n",
      "SF 멜로로맨스 -1.2592403\n",
      "SF 뮤지컬 0.3236329\n",
      "SF 미스터리 -1.0904838\n",
      "SF 범죄 -0.36193737\n",
      "SF 사극 -0.54342437\n",
      "SF 서부극(웨스턴) -0.7100099\n",
      "SF 성인물(에로) -0.9519977\n",
      "SF 스릴러 -1.072623\n",
      "SF 애니메이션 0.21285157\n",
      "SF 액션 -0.39609334\n",
      "SF 어드벤처 -0.77235234\n",
      "SF 전쟁 0.26891443\n",
      "SF 코미디 -0.6157012\n",
      "SF 판타지 -0.034663033\n",
      "가족 공연 0.31061947\n",
      "가족 공포(호러) 0.103039876\n",
      "가족 기타 0.715056\n",
      "가족 다큐멘터리 0.914164\n",
      "가족 드라마 0.28738913\n",
      "가족 멜로로맨스 -0.3623863\n",
      "가족 뮤지컬 0.6738917\n",
      "가족 미스터리 -0.069391966\n",
      "가족 범죄 0.41382343\n",
      "가족 사극 0.18468097\n",
      "가족 서부극(웨스턴) 0.16968761\n",
      "가족 성인물(에로) -0.11292669\n",
      "가족 스릴러 -0.08743785\n",
      "가족 애니메이션 0.6192073\n",
      "가족 액션 0.34483275\n",
      "가족 어드벤처 0.05690744\n",
      "가족 전쟁 0.7088131\n",
      "가족 코미디 0.055088796\n",
      "가족 판타지 0.46987903\n",
      "공연 공포(호러) -0.29581982\n",
      "공연 기타 0.49408463\n",
      "공연 다큐멘터리 0.720764\n",
      "공연 드라마 -0.005424835\n",
      "공연 멜로로맨스 -0.77298045\n",
      "공연 뮤지컬 0.45347762\n",
      "공연 미스터리 -0.5085047\n",
      "공연 범죄 0.047866825\n",
      "공연 사극 -0.1751366\n",
      "공연 서부극(웨스턴) -0.22985645\n",
      "공연 성인물(에로) -0.5076776\n",
      "공연 스릴러 -0.5190842\n",
      "공연 애니메이션 0.3726157\n",
      "공연 액션 -0.015469904\n",
      "공연 어드벤처 -0.3332514\n",
      "공연 전쟁 0.43162546\n",
      "공연 코미디 -0.28700212\n",
      "공연 판타지 0.18589772\n",
      "공포(호러) 기타 0.79895365\n",
      "공포(호러) 다큐멘터리 1.1045368\n",
      "공포(호러) 드라마 0.26062495\n",
      "공포(호러) 멜로로맨스 -0.68191546\n",
      "공포(호러) 뮤지컬 0.7359718\n",
      "공포(호러) 미스터리 -0.29237312\n",
      "공포(호러) 범죄 0.5059061\n",
      "공포(호러) 사극 0.1264969\n",
      "공포(호러) 서부극(웨스턴) 0.1031991\n",
      "공포(호러) 성인물(에로) -0.30820057\n",
      "공포(호러) 스릴러 -0.3111172\n",
      "공포(호러) 애니메이션 0.68861157\n",
      "공포(호러) 액션 0.3736693\n",
      "공포(호러) 어드벤처 -0.0646707\n",
      "공포(호러) 전쟁 0.93365204\n",
      "공포(호러) 코미디 -0.04658421\n",
      "공포(호러) 판타지 0.5060226\n",
      "기타 다큐멘터리 0.16084103\n",
      "기타 드라마 -0.4687082\n",
      "기타 멜로로맨스 -1.1265476\n",
      "기타 뮤지컬 -0.01782062\n",
      "기타 미스터리 -0.96791905\n",
      "기타 범죄 -0.56292963\n",
      "기타 사극 -0.6779635\n",
      "기타 서부극(웨스턴) -0.75954\n",
      "기타 성인물(에로) -0.93441486\n",
      "기타 스릴러 -0.96930605\n",
      "기타 애니메이션 -0.13595168\n",
      "기타 액션 -0.5843108\n",
      "기타 어드벤처 -0.8139595\n",
      "기타 전쟁 -0.21730554\n",
      "기타 코미디 -0.7324216\n",
      "기타 판타지 -0.32938173\n",
      "다큐멘터리 드라마 -0.67097324\n",
      "다큐멘터리 멜로로맨스 -1.3943833\n",
      "다큐멘터리 뮤지컬 -0.17151585\n",
      "다큐멘터리 미스터리 -1.2919961\n",
      "다큐멘터리 범죄 -0.90149707\n",
      "다큐멘터리 사극 -0.9484716\n",
      "다큐멘터리 서부극(웨스턴) -1.0791904\n",
      "다큐멘터리 성인물(에로) -1.2069178\n",
      "다큐멘터리 스릴러 -1.2827513\n",
      "다큐멘터리 애니메이션 -0.32054895\n",
      "다큐멘터리 액션 -0.889506\n",
      "다큐멘터리 어드벤처 -1.1017054\n",
      "다큐멘터리 전쟁 -0.500903\n",
      "다큐멘터리 코미디 -0.9668014\n",
      "다큐멘터리 판타지 -0.54427385\n",
      "드라마 멜로로맨스 -0.70091796\n",
      "드라마 뮤지컬 0.43266457\n",
      "드라마 미스터리 -0.44877127\n",
      "드라마 범죄 0.049200308\n",
      "드라마 사극 -0.15417513\n",
      "드라마 서부극(웨스턴) -0.19979969\n",
      "드라마 성인물(에로) -0.4581656\n",
      "드라마 스릴러 -0.46031824\n",
      "드라마 애니메이션 0.3531902\n",
      "드라마 액션 -0.0076068\n",
      "드라마 어드벤처 -0.29672265\n",
      "드라마 전쟁 0.39318934\n",
      "드라마 코미디 -0.26085964\n",
      "드라마 판타지 0.17795476\n",
      "멜로로맨스 뮤지컬 1.0605325\n",
      "멜로로맨스 미스터리 0.5082777\n",
      "멜로로맨스 범죄 1.1115155\n",
      "멜로로맨스 사극 0.7084764\n",
      "멜로로맨스 서부극(웨스턴) 0.7911968\n",
      "멜로로맨스 성인물(에로) 0.3486474\n",
      "멜로로맨스 스릴러 0.46155202\n",
      "멜로로맨스 애니메이션 1.0565214\n",
      "멜로로맨스 액션 0.9644237\n",
      "멜로로맨스 어드벤처 0.5895974\n",
      "멜로로맨스 전쟁 1.3525003\n",
      "멜로로맨스 코미디 0.48762345\n",
      "멜로로맨스 판타지 0.9367727\n",
      "뮤지컬 미스터리 -0.8958237\n",
      "뮤지컬 범죄 -0.5040682\n",
      "뮤지컬 사극 -0.62481916\n",
      "뮤지컬 서부극(웨스턴) -0.69565475\n",
      "뮤지컬 성인물(에로) -0.8731195\n",
      "뮤지컬 스릴러 -0.8991059\n",
      "뮤지컬 애니메이션 -0.11145051\n",
      "뮤지컬 액션 -0.52905923\n",
      "뮤지컬 어드벤처 -0.75355256\n",
      "뮤지컬 전쟁 -0.17995197\n",
      "뮤지컬 코미디 -0.6840741\n",
      "뮤지컬 판타지 -0.29525834\n",
      "미스터리 범죄 0.867149\n",
      "미스터리 사극 0.38021302\n",
      "미스터리 서부극(웨스턴) 0.4221682\n",
      "미스터리 성인물(에로) -0.08030405\n",
      "미스터리 스릴러 -0.035964534\n",
      "미스터리 애니메이션 0.8741437\n",
      "미스터리 액션 0.68047273\n",
      "미스터리 어드벤처 0.19999923\n",
      "미스터리 전쟁 1.2269425\n",
      "미스터리 코미디 0.16071123\n",
      "미스터리 판타지 0.7135856\n",
      "범죄 사극 -0.2982343\n",
      "범죄 서부극(웨스턴) -0.42626676\n",
      "범죄 성인물(에로) -0.7531322\n",
      "범죄 스릴러 -0.8560908\n",
      "범죄 애니메이션 0.42075777\n",
      "범죄 액션 -0.091312416\n",
      "범죄 어드벤처 -0.5348178\n",
      "범죄 전쟁 0.60926133\n",
      "범죄 코미디 -0.41432634\n",
      "범죄 판타지 0.19047336\n",
      "사극 서부극(웨스턴) -0.04231077\n",
      "사극 성인물(에로) -0.38759544\n",
      "사극 스릴러 -0.39478803\n",
      "사극 애니메이션 0.5618\n",
      "사극 액션 0.20356293\n",
      "사극 어드벤처 -0.17714263\n",
      "사극 전쟁 0.71352774\n",
      "사극 코미디 -0.14366215\n",
      "사극 판타지 0.37563813\n",
      "서부극(웨스턴) 성인물(에로) -0.40899524\n",
      "서부극(웨스턴) 스릴러 -0.4350264\n",
      "서부극(웨스턴) 애니메이션 0.64264804\n",
      "서부극(웨스턴) 액션 0.29184973\n",
      "서부극(웨스턴) 어드벤처 -0.16326079\n",
      "서부극(웨스턴) 전쟁 0.89523566\n",
      "서부극(웨스턴) 코미디 -0.124088556\n",
      "서부극(웨스턴) 판타지 0.44921154\n",
      "성인물(에로) 스릴러 0.049822245\n",
      "성인물(에로) 애니메이션 0.84334046\n",
      "성인물(에로) 액션 0.6261773\n",
      "성인물(에로) 어드벤처 0.23426132\n",
      "성인물(에로) 전쟁 1.0821313\n",
      "성인물(에로) 코미디 0.19909221\n",
      "성인물(에로) 판타지 0.6918703\n",
      "스릴러 애니메이션 0.8768627\n",
      "스릴러 액션 0.68275064\n",
      "스릴러 어드벤처 0.22164202\n",
      "스릴러 전쟁 1.2068071\n",
      "스릴러 코미디 0.17974466\n",
      "스릴러 판타지 0.7193018\n",
      "애니메이션 액션 -0.45127723\n",
      "애니메이션 어드벤처 -0.7081031\n",
      "애니메이션 전쟁 -0.049457483\n",
      "애니메이션 코미디 -0.6292407\n",
      "애니메이션 판타지 -0.19770174\n",
      "액션 어드벤처 -0.4126766\n",
      "액션 전쟁 0.6079434\n",
      "액션 코미디 -0.32980952\n",
      "액션 판타지 0.23779821\n",
      "어드벤처 전쟁 0.92995113\n",
      "어드벤처 코미디 0.0052765193\n",
      "어드벤처 판타지 0.5339097\n",
      "전쟁 코미디 -0.75684696\n",
      "전쟁 판타지 -0.20542684\n",
      "코미디 판타지 0.46537417\n"
     ]
    }
   ],
   "source": [
    "for i in range(len(genre_name)-1):\n",
    "    for j in range(i+1, len(genre_name)):\n",
    "#        if matrix[i][j] > 1.1 or matrix[i][j] < -1.1:\n",
    "            print(genre_name[i], genre_name[j],matrix[i][j])"
   ]
  },
  {
   "cell_type": "code",
   "execution_count": 36,
   "metadata": {},
   "outputs": [
    {
     "data": {
      "text/plain": [
       "<AxesSubplot:>"
      ]
     },
     "execution_count": 36,
     "metadata": {},
     "output_type": "execute_result"
    },
    {
     "data": {
      "image/png": "[encoded data removed]",
      "text/plain": [
       "<Figure size 432x288 with 2 Axes>"
      ]
     },
     "metadata": {},
     "output_type": "display_data"
    }
   ],
   "source": [
    "import numpy as np; \n",
    "import seaborn as sns; \n",
    "\n",
    "np.random.seed(0)\n",
    "\n",
    "# 한글 지원 폰트\n",
    "sns.set(font=\"Noto Sans CJK JP\")\n",
    "\n",
    "ax = sns.heatmap(matrix, xticklabels=genre_name, yticklabels=genre_name, annot=False,  cmap='RdYlGn_r')\n",
    "ax"
   ]
  },
  {
   "cell_type": "code",
   "execution_count": null,
   "metadata": {},
   "outputs": [],
   "source": []
  }
 ],
 "metadata": {
  "kernelspec": {
   "display_name": "Python 3",
   "language": "python",
   "name": "python3"
  },
  "language_info": {
   "codemirror_mode": {
    "name": "ipython",
    "version": 3
   },
   "file_extension": ".py",
   "mimetype": "text/x-python",
   "name": "python",
   "nbconvert_exporter": "python",
   "pygments_lexer": "ipython3",
   "version": "3.7.9"
  }
 },
 "nbformat": 4,
 "nbformat_minor": 4
}
