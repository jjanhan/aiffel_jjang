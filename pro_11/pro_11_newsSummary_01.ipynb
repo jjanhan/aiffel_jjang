{
 "cells": [
  {
   "cell_type": "markdown",
   "metadata": {},
   "source": [
    "# 1. 요약 : 절차\n",
    "  \n",
    "## 1.1. 데이터 준비\n",
    "  - 뉴스기사 데이터 : newssummarymore.csv\n",
    "  - text, headlines : 98401\n",
    "  - headlines를 summary로 변경\n",
    "\n",
    "## 1.2. 데이터 분석 / 전처리\n",
    "  - 데이터 전처리\n",
    "    - Text 열에서 중복을 배제한 유일한 샘플의 수 : 98358\n",
    "    - Summary 열에서 중복을 배제한 유일한 샘플의 수 : 98278    \n",
    "      - 중복샘플 제거 후 전체 샘플수 : 98358    \n",
    "    - null data : 없음\n",
    "  - 정규화 사전 / 불용어 사전\n",
    "    - 정규화 사전의 수:  120\n",
    "    - 불용어 개수 : 179\n",
    "      \n",
    "  - text, summary 전처리 함수 호출하여 전처리\n",
    "  \n",
    "  - 정해진 길이보다 길면 제외하는 방법으로 데이터 정제\n",
    "    - 전체 샘플수 : 98131\n",
    "\n",
    "  - test data : train data의 20%\n",
    "    - 훈련 데이터의 개수 : 78505\n",
    "    - 훈련 레이블의 개수 : 78505\n",
    "    - 테스트 데이터의 개수 : 19626\n",
    "    - 테스트 레이블의 개수 : 19626\n",
    "\n",
    "  - 단어 집합(vocaburary) 생성\n",
    "    - 등장 빈도가 낮은 희귀단어 제거\n",
    "    - 단어 집합의 크기 : 19438\n",
    "    - 희귀단어 제거 : 비어있는 샘플 생성 -> 제거\n",
    "    - train data : 145422 개\n",
    "    \n",
    "  - 리뷰 길이 평균과 표준편차를 이용해 max_length 지정\n",
    "    - max_length 포함될 확률 : 93.6 %\n",
    "\n",
    "  - text\n",
    "    - 단어 집합(vocabulary)의 크기 : 76762\n",
    "    - 등장 빈도가 9번 이하인 희귀 단어의 수: 56173\n",
    "    - 단어 집합에서 희귀 단어를 제외시킬 경우의 단어 집합의 크기 20589\n",
    "    - 단어 집합에서 희귀 단어의 비율: 73.17813501472082\n",
    "    - 전체 등장 빈도에서 희귀 단어 등장 빈도 비율: 3.9887173307397226\n",
    "\n",
    "  - summary\n",
    "    - 단어 집합(vocabulary)의 크기 : 32279\n",
    "    - 등장 빈도가 7번 이하인 희귀 단어의 수: 17815\n",
    "    - 단어 집합에서 희귀 단어를 제외시킬 경우의 단어 집합의 크기 14464\n",
    "    - 단어 집합에서 희귀 단어의 비율: 55.19068124787013\n",
    "    - 전체 등장 빈도에서 희귀 단어 등장 빈도 비율: 3.3683323595128054\n",
    "\n",
    "\n",
    "## 1.3. 토큰화 / 토큰화 후 처리\n",
    "  - 토큰화 \n",
    "    - stop_words 지정 : news 내용과 관련없는 토씨(조사) 등\n",
    "\n",
    "  - 길이가 1인 문장 삭제\n",
    "    - 훈련 데이터/레이블의 개수 : 78266\n",
    "    - 테스트 데이터/레이블의 개수 : 19546  \n",
    "      \n",
    "      \n",
    "## 1.4. 학습\n",
    "\n",
    "  - 어텐션 층(어텐션 함수)\n",
    "    - 인코더와 디코더의 모든 time step의 hidden state를 어텐션 층에 전달\n",
    "    - 어텐션의 결과와 디코더의 hidden state들을 연결\n",
    "  - 디코더 설계\n",
    "\n",
    "## 1.5. 추출적 요약\n",
    "\n",
    "  - txt file : 빨강머리앤 1권\n",
    "    - 빨강머리앤 1권 : Gutenberg Project 저작권 완료된 도서\n",
    "    - 길이 : 574936\n",
    "    - text[450000:] : 요약시킴\n",
    "    \n",
    "\n",
    "\n",
    "   "
   ]
  },
  {
   "cell_type": "markdown",
   "metadata": {},
   "source": [
    "# 2. 결과\n",
    "\n",
    "  - news\n",
    "    - headlines과 summary의 차이가 남  \n",
    "    \n",
    "    \n",
    "  - 빨강머리앤 1권 마지막 부분\n",
    "    - 앤이 대학에 합격하지만 포기하고 지역에 머무는 내용\n",
    "    - 문장이 매끄럽지는 않지만 내용은 간략하게나마 확인 가능  \n",
    "      \n",
    "        \n"
   ]
  },
  {
   "cell_type": "markdown",
   "metadata": {},
   "source": [
    "# 3. 회고\n",
    "\n",
    "  - 어려웠던 점\n",
    "    - 프로젝트 수행시 항상 시간에 쫓김\n",
    "    - 이전 프로젝트까지는 제대로 이해도 못하면서 복사 붙여넣기를 한 것을 살펴봄\n",
    "      - 이렇게 살펴보면서 알고 있다고 착각하고 있다는 반성\n",
    "    - lms에 있는 코드를 모두 다시 입력하면서 한 줄씩 파악함\n",
    "      - 이전 프로젝트보다는 훨씬 많은 것을 알게됨\n",
    "      - 너무 시간이 오래걸림.\n",
    "      - 시간이 걸리더라도 이렇게 학습해야 할 것 같음\n",
    "      \n",
    "  - 느낀 점\n",
    "    - 이렇게 시간이 쫓기는데, 다른 이들의 능력이 감탄스러움\n",
    "    - 스터디에도 참가하면서 다른 것들을 모두 하는 능력자들만 모인 듯\n",
    "    - 계속되는 문제점(시간 활용)을 해결할 방법을 찾으려 시도 줌\n",
    "    \n",
    " "
   ]
  },
  {
   "cell_type": "code",
   "execution_count": null,
   "metadata": {},
   "outputs": [],
   "source": []
  },
  {
   "cell_type": "code",
   "execution_count": 10,
   "metadata": {},
   "outputs": [],
   "source": [
    "import pandas as pd\n",
    "import urllib.request\n",
    "urllib.request.urlretrieve(\"https://raw.githubusercontent.com/sunnysai12345/News_Summary/master/news_summary_more.csv\", filename=\"news_summary_more.csv\")\n",
    "data = pd.read_csv('news_summary_more.csv', encoding='iso-8859-1')"
   ]
  },
  {
   "cell_type": "code",
   "execution_count": 11,
   "metadata": {},
   "outputs": [
    {
     "data": {
      "text/html": [
       "<div>\n",
       "<style scoped>\n",
       "    .dataframe tbody tr th:only-of-type {\n",
       "        vertical-align: middle;\n",
       "    }\n",
       "\n",
       "    .dataframe tbody tr th {\n",
       "        vertical-align: top;\n",
       "    }\n",
       "\n",
       "    .dataframe thead th {\n",
       "        text-align: right;\n",
       "    }\n",
       "</style>\n",
       "<table border=\"1\" class=\"dataframe\">\n",
       "  <thead>\n",
       "    <tr style=\"text-align: right;\">\n",
       "      <th></th>\n",
       "      <th>headlines</th>\n",
       "      <th>text</th>\n",
       "    </tr>\n",
       "  </thead>\n",
       "  <tbody>\n",
       "    <tr>\n",
       "      <th>64335</th>\n",
       "      <td>Rahul habitual of making ill-mannered statemen...</td>\n",
       "      <td>Union Petroleum Minister Dharmendra Pradhan on...</td>\n",
       "    </tr>\n",
       "    <tr>\n",
       "      <th>45699</th>\n",
       "      <td>Karti Chidambaram sent to 1-day custody in INX...</td>\n",
       "      <td>Former Finance Minister P Chidambaram's son Ka...</td>\n",
       "    </tr>\n",
       "    <tr>\n",
       "      <th>96186</th>\n",
       "      <td>Another African national attacked in Greater N...</td>\n",
       "      <td>According to reports, a female African student...</td>\n",
       "    </tr>\n",
       "    <tr>\n",
       "      <th>31655</th>\n",
       "      <td>Malaysia's Mahathir becomes world's oldest lea...</td>\n",
       "      <td>Malaysia's Mahathir Mohamad on Thursday became...</td>\n",
       "    </tr>\n",
       "    <tr>\n",
       "      <th>46171</th>\n",
       "      <td>CBSE helpline gets queries on break-ups, ill-t...</td>\n",
       "      <td>The CBSE's toll-free helpline for students tak...</td>\n",
       "    </tr>\n",
       "    <tr>\n",
       "      <th>53018</th>\n",
       "      <td>Girl pushes father off third floor to save lover</td>\n",
       "      <td>A man died after his daughter allegedly pushed...</td>\n",
       "    </tr>\n",
       "    <tr>\n",
       "      <th>6685</th>\n",
       "      <td>Bodies of 2 friends who disappeared 30 yrs ago...</td>\n",
       "      <td>The bodies of two mountaineering friends, Kris...</td>\n",
       "    </tr>\n",
       "    <tr>\n",
       "      <th>80726</th>\n",
       "      <td>Players change underwear at Wimbledon since it...</td>\n",
       "      <td>Boys' doubles top seeds, Hungary's Zsombor Pir...</td>\n",
       "    </tr>\n",
       "    <tr>\n",
       "      <th>66987</th>\n",
       "      <td>RBI to allow fund transfer among mobile wallets</td>\n",
       "      <td>The Reserve Bank of India has said that intero...</td>\n",
       "    </tr>\n",
       "    <tr>\n",
       "      <th>97104</th>\n",
       "      <td>India should lower tariffs on Harley-Davidson ...</td>\n",
       "      <td>White House National Trade Council Director Pe...</td>\n",
       "    </tr>\n",
       "  </tbody>\n",
       "</table>\n",
       "</div>"
      ],
      "text/plain": [
       "                                               headlines  \\\n",
       "64335  Rahul habitual of making ill-mannered statemen...   \n",
       "45699  Karti Chidambaram sent to 1-day custody in INX...   \n",
       "96186  Another African national attacked in Greater N...   \n",
       "31655  Malaysia's Mahathir becomes world's oldest lea...   \n",
       "46171  CBSE helpline gets queries on break-ups, ill-t...   \n",
       "53018   Girl pushes father off third floor to save lover   \n",
       "6685   Bodies of 2 friends who disappeared 30 yrs ago...   \n",
       "80726  Players change underwear at Wimbledon since it...   \n",
       "66987    RBI to allow fund transfer among mobile wallets   \n",
       "97104  India should lower tariffs on Harley-Davidson ...   \n",
       "\n",
       "                                                    text  \n",
       "64335  Union Petroleum Minister Dharmendra Pradhan on...  \n",
       "45699  Former Finance Minister P Chidambaram's son Ka...  \n",
       "96186  According to reports, a female African student...  \n",
       "31655  Malaysia's Mahathir Mohamad on Thursday became...  \n",
       "46171  The CBSE's toll-free helpline for students tak...  \n",
       "53018  A man died after his daughter allegedly pushed...  \n",
       "6685   The bodies of two mountaineering friends, Kris...  \n",
       "80726  Boys' doubles top seeds, Hungary's Zsombor Pir...  \n",
       "66987  The Reserve Bank of India has said that intero...  \n",
       "97104  White House National Trade Council Director Pe...  "
      ]
     },
     "execution_count": 11,
     "metadata": {},
     "output_type": "execute_result"
    }
   ],
   "source": [
    "data.sample(10)"
   ]
  },
  {
   "cell_type": "code",
   "execution_count": 12,
   "metadata": {},
   "outputs": [],
   "source": [
    "#data.to_csv('저장될 파일 경로\\파일명', header=False, index=False)"
   ]
  },
  {
   "cell_type": "code",
   "execution_count": null,
   "metadata": {},
   "outputs": [],
   "source": []
  },
  {
   "cell_type": "code",
   "execution_count": 1,
   "metadata": {},
   "outputs": [
    {
     "name": "stderr",
     "output_type": "stream",
     "text": [
      "[nltk_data] Downloading package stopwords to /home/aiffel/nltk_data...\n",
      "[nltk_data]   Package stopwords is already up-to-date!\n"
     ]
    }
   ],
   "source": [
    "import numpy as np\n",
    "import re\n",
    "import pandas as pd\n",
    "import csv\n",
    "\n",
    "import nltk\n",
    "nltk.download('stopwords')\n",
    "from nltk.corpus import stopwords\n",
    "from bs4 import BeautifulSoup \n",
    "import urllib.request\n",
    "\n",
    "from tensorflow.keras.preprocessing.text import Tokenizer\n",
    "from tensorflow.keras.preprocessing.sequence import pad_sequences\n",
    "\n",
    "urllib.request.urlretrieve(\"https://raw.githubusercontent.com/sunnysai12345/News_Summary/master/news_summary_more.csv\", filename=\"news_summary_more.csv\")\n",
    "data = pd.read_csv('news_summary_more.csv', encoding='iso-8859-1')\n",
    "\n",
    "data = data.dropna(axis=0)"
   ]
  },
  {
   "cell_type": "code",
   "execution_count": 27,
   "metadata": {},
   "outputs": [
    {
     "data": {
      "text/html": [
       "<div>\n",
       "<style scoped>\n",
       "    .dataframe tbody tr th:only-of-type {\n",
       "        vertical-align: middle;\n",
       "    }\n",
       "\n",
       "    .dataframe tbody tr th {\n",
       "        vertical-align: top;\n",
       "    }\n",
       "\n",
       "    .dataframe thead th {\n",
       "        text-align: right;\n",
       "    }\n",
       "</style>\n",
       "<table border=\"1\" class=\"dataframe\">\n",
       "  <thead>\n",
       "    <tr style=\"text-align: right;\">\n",
       "      <th></th>\n",
       "      <th>headlines</th>\n",
       "      <th>text</th>\n",
       "    </tr>\n",
       "  </thead>\n",
       "  <tbody>\n",
       "    <tr>\n",
       "      <th>0</th>\n",
       "      <td>upGrad learner switches to career in ML &amp; Al w...</td>\n",
       "      <td>Saurav Kant, an alumnus of upGrad and IIIT-B's...</td>\n",
       "    </tr>\n",
       "    <tr>\n",
       "      <th>1</th>\n",
       "      <td>Delhi techie wins free food from Swiggy for on...</td>\n",
       "      <td>Kunal Shah's credit card bill payment platform...</td>\n",
       "    </tr>\n",
       "    <tr>\n",
       "      <th>2</th>\n",
       "      <td>New Zealand end Rohit Sharma-led India's 12-ma...</td>\n",
       "      <td>New Zealand defeated India by 8 wickets in the...</td>\n",
       "    </tr>\n",
       "    <tr>\n",
       "      <th>3</th>\n",
       "      <td>Aegon life iTerm insurance plan helps customer...</td>\n",
       "      <td>With Aegon Life iTerm Insurance plan, customer...</td>\n",
       "    </tr>\n",
       "    <tr>\n",
       "      <th>4</th>\n",
       "      <td>Have known Hirani for yrs, what if MeToo claim...</td>\n",
       "      <td>Speaking about the sexual harassment allegatio...</td>\n",
       "    </tr>\n",
       "  </tbody>\n",
       "</table>\n",
       "</div>"
      ],
      "text/plain": [
       "                                           headlines  \\\n",
       "0  upGrad learner switches to career in ML & Al w...   \n",
       "1  Delhi techie wins free food from Swiggy for on...   \n",
       "2  New Zealand end Rohit Sharma-led India's 12-ma...   \n",
       "3  Aegon life iTerm insurance plan helps customer...   \n",
       "4  Have known Hirani for yrs, what if MeToo claim...   \n",
       "\n",
       "                                                text  \n",
       "0  Saurav Kant, an alumnus of upGrad and IIIT-B's...  \n",
       "1  Kunal Shah's credit card bill payment platform...  \n",
       "2  New Zealand defeated India by 8 wickets in the...  \n",
       "3  With Aegon Life iTerm Insurance plan, customer...  \n",
       "4  Speaking about the sexual harassment allegatio...  "
      ]
     },
     "execution_count": 27,
     "metadata": {},
     "output_type": "execute_result"
    }
   ],
   "source": [
    "data.head()"
   ]
  },
  {
   "cell_type": "code",
   "execution_count": null,
   "metadata": {},
   "outputs": [],
   "source": []
  },
  {
   "cell_type": "code",
   "execution_count": 31,
   "metadata": {},
   "outputs": [],
   "source": [
    "data['text'] = data['text'].str.lower()\n",
    "# data['text'] = data['text'].str.replace('[^\\w]', ' ')\n",
    "\n",
    "data['summary'] = data['headlines'].str.lower()\n",
    "# data['summary'] = data['summary'].str.replace('[^\\w]', ' ')"
   ]
  },
  {
   "cell_type": "code",
   "execution_count": 32,
   "metadata": {},
   "outputs": [
    {
     "data": {
      "text/html": [
       "<div>\n",
       "<style scoped>\n",
       "    .dataframe tbody tr th:only-of-type {\n",
       "        vertical-align: middle;\n",
       "    }\n",
       "\n",
       "    .dataframe tbody tr th {\n",
       "        vertical-align: top;\n",
       "    }\n",
       "\n",
       "    .dataframe thead th {\n",
       "        text-align: right;\n",
       "    }\n",
       "</style>\n",
       "<table border=\"1\" class=\"dataframe\">\n",
       "  <thead>\n",
       "    <tr style=\"text-align: right;\">\n",
       "      <th></th>\n",
       "      <th>headlines</th>\n",
       "      <th>text</th>\n",
       "      <th>summary</th>\n",
       "    </tr>\n",
       "  </thead>\n",
       "  <tbody>\n",
       "    <tr>\n",
       "      <th>0</th>\n",
       "      <td>upGrad learner switches to career in ML &amp; Al w...</td>\n",
       "      <td>saurav kant  an alumnus of upgrad and iiit b s...</td>\n",
       "      <td>upgrad learner switches to career in ml &amp; al w...</td>\n",
       "    </tr>\n",
       "    <tr>\n",
       "      <th>1</th>\n",
       "      <td>Delhi techie wins free food from Swiggy for on...</td>\n",
       "      <td>kunal shah s credit card bill payment platform...</td>\n",
       "      <td>delhi techie wins free food from swiggy for on...</td>\n",
       "    </tr>\n",
       "    <tr>\n",
       "      <th>2</th>\n",
       "      <td>New Zealand end Rohit Sharma-led India's 12-ma...</td>\n",
       "      <td>new zealand defeated india by 8 wickets in the...</td>\n",
       "      <td>new zealand end rohit sharma-led india's 12-ma...</td>\n",
       "    </tr>\n",
       "    <tr>\n",
       "      <th>3</th>\n",
       "      <td>Aegon life iTerm insurance plan helps customer...</td>\n",
       "      <td>with aegon life iterm insurance plan  customer...</td>\n",
       "      <td>aegon life iterm insurance plan helps customer...</td>\n",
       "    </tr>\n",
       "    <tr>\n",
       "      <th>4</th>\n",
       "      <td>Have known Hirani for yrs, what if MeToo claim...</td>\n",
       "      <td>speaking about the sexual harassment allegatio...</td>\n",
       "      <td>have known hirani for yrs, what if metoo claim...</td>\n",
       "    </tr>\n",
       "  </tbody>\n",
       "</table>\n",
       "</div>"
      ],
      "text/plain": [
       "                                           headlines  \\\n",
       "0  upGrad learner switches to career in ML & Al w...   \n",
       "1  Delhi techie wins free food from Swiggy for on...   \n",
       "2  New Zealand end Rohit Sharma-led India's 12-ma...   \n",
       "3  Aegon life iTerm insurance plan helps customer...   \n",
       "4  Have known Hirani for yrs, what if MeToo claim...   \n",
       "\n",
       "                                                text  \\\n",
       "0  saurav kant  an alumnus of upgrad and iiit b s...   \n",
       "1  kunal shah s credit card bill payment platform...   \n",
       "2  new zealand defeated india by 8 wickets in the...   \n",
       "3  with aegon life iterm insurance plan  customer...   \n",
       "4  speaking about the sexual harassment allegatio...   \n",
       "\n",
       "                                             summary  \n",
       "0  upgrad learner switches to career in ml & al w...  \n",
       "1  delhi techie wins free food from swiggy for on...  \n",
       "2  new zealand end rohit sharma-led india's 12-ma...  \n",
       "3  aegon life iterm insurance plan helps customer...  \n",
       "4  have known hirani for yrs, what if metoo claim...  "
      ]
     },
     "execution_count": 32,
     "metadata": {},
     "output_type": "execute_result"
    }
   ],
   "source": [
    "data.head()"
   ]
  },
  {
   "cell_type": "code",
   "execution_count": 33,
   "metadata": {},
   "outputs": [
    {
     "data": {
      "text/plain": [
       "98401"
      ]
     },
     "execution_count": 33,
     "metadata": {},
     "output_type": "execute_result"
    }
   ],
   "source": [
    "len(data)"
   ]
  },
  {
   "cell_type": "code",
   "execution_count": null,
   "metadata": {},
   "outputs": [],
   "source": []
  },
  {
   "cell_type": "code",
   "execution_count": 34,
   "metadata": {},
   "outputs": [
    {
     "name": "stdout",
     "output_type": "stream",
     "text": [
      "Text 열에서 중복을 배제한 유일한 샘플의 수 : 98358\n",
      "Summary 열에서 중복을 배제한 유일한 샘플의 수 : 98278\n"
     ]
    }
   ],
   "source": [
    "print('Text 열에서 중복을 배제한 유일한 샘플의 수 :', data['text'].nunique())\n",
    "print('Summary 열에서 중복을 배제한 유일한 샘플의 수 :', data['summary'].nunique())"
   ]
  },
  {
   "cell_type": "code",
   "execution_count": 35,
   "metadata": {},
   "outputs": [
    {
     "name": "stdout",
     "output_type": "stream",
     "text": [
      "전체 샘플수 : 98358\n"
     ]
    }
   ],
   "source": [
    "# 중복샘플을 제거\n",
    "\n",
    "data.drop_duplicates(subset = ['text'], inplace = True)\n",
    "print('전체 샘플수 :',(len(data)))"
   ]
  },
  {
   "cell_type": "code",
   "execution_count": 36,
   "metadata": {},
   "outputs": [
    {
     "name": "stdout",
     "output_type": "stream",
     "text": [
      "headlines    0\n",
      "text         0\n",
      "summary      0\n",
      "dtype: int64\n"
     ]
    }
   ],
   "source": [
    "print(data.isnull().sum())"
   ]
  },
  {
   "cell_type": "code",
   "execution_count": 37,
   "metadata": {},
   "outputs": [
    {
     "name": "stdout",
     "output_type": "stream",
     "text": [
      "정규화 사전의 수:  120\n"
     ]
    }
   ],
   "source": [
    "contractions = {\"ain't\": \"is not\", \"aren't\": \"are not\",\"can't\": \"cannot\", \"'cause\": \"because\", \"could've\": \"could have\", \"couldn't\": \"could not\",\n",
    "                           \"didn't\": \"did not\",  \"doesn't\": \"does not\", \"don't\": \"do not\", \"hadn't\": \"had not\", \"hasn't\": \"has not\", \"haven't\": \"have not\",\n",
    "                           \"he'd\": \"he would\",\"he'll\": \"he will\", \"he's\": \"he is\", \"how'd\": \"how did\", \"how'd'y\": \"how do you\", \"how'll\": \"how will\", \"how's\": \"how is\",\n",
    "                           \"I'd\": \"I would\", \"I'd've\": \"I would have\", \"I'll\": \"I will\", \"I'll've\": \"I will have\",\"I'm\": \"I am\", \"I've\": \"I have\", \"i'd\": \"i would\",\n",
    "                           \"i'd've\": \"i would have\", \"i'll\": \"i will\",  \"i'll've\": \"i will have\",\"i'm\": \"i am\", \"i've\": \"i have\", \"isn't\": \"is not\", \"it'd\": \"it would\",\n",
    "                           \"it'd've\": \"it would have\", \"it'll\": \"it will\", \"it'll've\": \"it will have\",\"it's\": \"it is\", \"let's\": \"let us\", \"ma'am\": \"madam\",\n",
    "                           \"mayn't\": \"may not\", \"might've\": \"might have\",\"mightn't\": \"might not\",\"mightn't've\": \"might not have\", \"must've\": \"must have\",\n",
    "                           \"mustn't\": \"must not\", \"mustn't've\": \"must not have\", \"needn't\": \"need not\", \"needn't've\": \"need not have\",\"o'clock\": \"of the clock\",\n",
    "                           \"oughtn't\": \"ought not\", \"oughtn't've\": \"ought not have\", \"shan't\": \"shall not\", \"sha'n't\": \"shall not\", \"shan't've\": \"shall not have\",\n",
    "                           \"she'd\": \"she would\", \"she'd've\": \"she would have\", \"she'll\": \"she will\", \"she'll've\": \"she will have\", \"she's\": \"she is\",\n",
    "                           \"should've\": \"should have\", \"shouldn't\": \"should not\", \"shouldn't've\": \"should not have\", \"so've\": \"so have\",\"so's\": \"so as\",\n",
    "                           \"this's\": \"this is\",\"that'd\": \"that would\", \"that'd've\": \"that would have\", \"that's\": \"that is\", \"there'd\": \"there would\",\n",
    "                           \"there'd've\": \"there would have\", \"there's\": \"there is\", \"here's\": \"here is\",\"they'd\": \"they would\", \"they'd've\": \"they would have\",\n",
    "                           \"they'll\": \"they will\", \"they'll've\": \"they will have\", \"they're\": \"they are\", \"they've\": \"they have\", \"to've\": \"to have\",\n",
    "                           \"wasn't\": \"was not\", \"we'd\": \"we would\", \"we'd've\": \"we would have\", \"we'll\": \"we will\", \"we'll've\": \"we will have\", \"we're\": \"we are\",\n",
    "                           \"we've\": \"we have\", \"weren't\": \"were not\", \"what'll\": \"what will\", \"what'll've\": \"what will have\", \"what're\": \"what are\",\n",
    "                           \"what's\": \"what is\", \"what've\": \"what have\", \"when's\": \"when is\", \"when've\": \"when have\", \"where'd\": \"where did\", \"where's\": \"where is\",\n",
    "                           \"where've\": \"where have\", \"who'll\": \"who will\", \"who'll've\": \"who will have\", \"who's\": \"who is\", \"who've\": \"who have\",\n",
    "                           \"why's\": \"why is\", \"why've\": \"why have\", \"will've\": \"will have\", \"won't\": \"will not\", \"won't've\": \"will not have\",\n",
    "                           \"would've\": \"would have\", \"wouldn't\": \"would not\", \"wouldn't've\": \"would not have\", \"y'all\": \"you all\",\n",
    "                           \"y'all'd\": \"you all would\",\"y'all'd've\": \"you all would have\",\"y'all're\": \"you all are\",\"y'all've\": \"you all have\",\n",
    "                           \"you'd\": \"you would\", \"you'd've\": \"you would have\", \"you'll\": \"you will\", \"you'll've\": \"you will have\",\n",
    "                           \"you're\": \"you are\", \"you've\": \"you have\"}\n",
    "\n",
    "print(\"정규화 사전의 수: \",len(contractions))"
   ]
  },
  {
   "cell_type": "code",
   "execution_count": 38,
   "metadata": {},
   "outputs": [
    {
     "name": "stdout",
     "output_type": "stream",
     "text": [
      "불용어 개수 : 179\n",
      "['i', 'me', 'my', 'myself', 'we', 'our', 'ours', 'ourselves', 'you', \"you're\", \"you've\", \"you'll\", \"you'd\", 'your', 'yours', 'yourself', 'yourselves', 'he', 'him', 'his', 'himself', 'she', \"she's\", 'her', 'hers', 'herself', 'it', \"it's\", 'its', 'itself', 'they', 'them', 'their', 'theirs', 'themselves', 'what', 'which', 'who', 'whom', 'this', 'that', \"that'll\", 'these', 'those', 'am', 'is', 'are', 'was', 'were', 'be', 'been', 'being', 'have', 'has', 'had', 'having', 'do', 'does', 'did', 'doing', 'a', 'an', 'the', 'and', 'but', 'if', 'or', 'because', 'as', 'until', 'while', 'of', 'at', 'by', 'for', 'with', 'about', 'against', 'between', 'into', 'through', 'during', 'before', 'after', 'above', 'below', 'to', 'from', 'up', 'down', 'in', 'out', 'on', 'off', 'over', 'under', 'again', 'further', 'then', 'once', 'here', 'there', 'when', 'where', 'why', 'how', 'all', 'any', 'both', 'each', 'few', 'more', 'most', 'other', 'some', 'such', 'no', 'nor', 'not', 'only', 'own', 'same', 'so', 'than', 'too', 'very', 's', 't', 'can', 'will', 'just', 'don', \"don't\", 'should', \"should've\", 'now', 'd', 'll', 'm', 'o', 're', 've', 'y', 'ain', 'aren', \"aren't\", 'couldn', \"couldn't\", 'didn', \"didn't\", 'doesn', \"doesn't\", 'hadn', \"hadn't\", 'hasn', \"hasn't\", 'haven', \"haven't\", 'isn', \"isn't\", 'ma', 'mightn', \"mightn't\", 'mustn', \"mustn't\", 'needn', \"needn't\", 'shan', \"shan't\", 'shouldn', \"shouldn't\", 'wasn', \"wasn't\", 'weren', \"weren't\", 'won', \"won't\", 'wouldn', \"wouldn't\"]\n"
     ]
    }
   ],
   "source": [
    "print('불용어 개수 :', len(stopwords.words('english') ))\n",
    "print(stopwords.words('english'))"
   ]
  },
  {
   "cell_type": "code",
   "execution_count": 39,
   "metadata": {},
   "outputs": [],
   "source": [
    "#데이터 전처리 함수\n",
    "def preprocess_sentence(sentence, remove_stopwords=True):\n",
    "    sentence = BeautifulSoup(sentence, \"lxml\").text # <br />, <a href = ...> 등의 html 태그 제거\n",
    "    sentence = re.sub(r'\\([^)]*\\)', '', sentence) # 괄호로 닫힌 문자열 (...) 제거 Ex) my husband (and myself!) for => my husband for\n",
    "    sentence = re.sub('\"','', sentence) # 쌍따옴표 \" 제거\n",
    "    sentence = ' '.join([contractions[t] if t in contractions else t for t in sentence.split(\" \")]) # 약어 정규화\n",
    "    sentence = re.sub(r\"'s\\b\",\"\",sentence) # 소유격 제거. Ex) roland's -> roland\n",
    "    sentence = re.sub(\"[^a-zA-Z]\", \" \", sentence) # 영어 외 문자(숫자, 특수문자 등) 공백으로 변환\n",
    "    sentence = re.sub('[m]{2,}', 'mm', sentence) # m이 3개 이상이면 2개로 변경. Ex) ummmmmmm yeah -> umm yeah\n",
    "    \n",
    "    # 불용어 제거 (Text)\n",
    "    if remove_stopwords:\n",
    "        tokens = ' '.join(word for word in sentence.split() if not word in stopwords.words('english') if len(word) > 1)\n",
    "    # 불용어 미제거 (Summary)\n",
    "    else:\n",
    "        tokens = ' '.join(word for word in sentence.split() if len(word) > 1)\n",
    "    return tokens"
   ]
  },
  {
   "cell_type": "code",
   "execution_count": 42,
   "metadata": {},
   "outputs": [],
   "source": [
    "# text, summary 전처리\n",
    "\n",
    "clean_text = []\n",
    "clean_summary = []\n",
    "\n",
    "for s in data['text']:\n",
    "    clean_text.append(preprocess_sentence(s))\n",
    "    \n",
    "for s in data['summary']:\n",
    "    clean_summary.append(preprocess_sentence(s))\n",
    "    \n",
    "data['text'] = clean_text\n",
    "data['summary'] = clean_summary\n",
    "\n",
    "# 빈 값을 Null 값으로 변환\n",
    "data.replace('', np.nan, inplace=True)"
   ]
  },
  {
   "cell_type": "code",
   "execution_count": 43,
   "metadata": {},
   "outputs": [
    {
     "name": "stdout",
     "output_type": "stream",
     "text": [
      "headlines    0\n",
      "text         0\n",
      "summary      0\n",
      "dtype: int64\n"
     ]
    }
   ],
   "source": [
    "print(data.isnull().sum())"
   ]
  },
  {
   "cell_type": "code",
   "execution_count": 51,
   "metadata": {},
   "outputs": [
    {
     "name": "stdout",
     "output_type": "stream",
     "text": [
      "전체 샘플수:  98358\n"
     ]
    }
   ],
   "source": [
    "data.dropna(axis=0, inplace=True)\n",
    "print('전체 샘플수: ', len(data))"
   ]
  },
  {
   "cell_type": "code",
   "execution_count": null,
   "metadata": {},
   "outputs": [],
   "source": []
  },
  {
   "cell_type": "code",
   "execution_count": 46,
   "metadata": {},
   "outputs": [
    {
     "name": "stdout",
     "output_type": "stream",
     "text": [
      "텍스트의 최소 길이 : 1\n",
      "텍스트의 최대 길이 : 60\n",
      "텍스트의 평균 길이 : 35.25750828605706\n",
      "요약의 최소 길이 : 1\n",
      "요약의 최대 길이 : 13\n",
      "요약의 평균 길이 : 7.136176010085606\n"
     ]
    },
    {
     "data": {
      "image/png": "[encoded data removed]",
      "text/plain": [
       "<Figure size 432x288 with 2 Axes>"
      ]
     },
     "metadata": {
      "needs_background": "light"
     },
     "output_type": "display_data"
    },
    {
     "data": {
      "image/png": "[encoded data removed]",
      "text/plain": [
       "<Figure size 432x288 with 1 Axes>"
      ]
     },
     "metadata": {
      "needs_background": "light"
     },
     "output_type": "display_data"
    },
    {
     "data": {
      "image/png": "[encoded data removed]",
      "text/plain": [
       "<Figure size 432x288 with 1 Axes>"
      ]
     },
     "metadata": {
      "needs_background": "light"
     },
     "output_type": "display_data"
    }
   ],
   "source": [
    "import matplotlib.pyplot as plt\n",
    "\n",
    "text_len = [len(s.split()) for s in data['text']]\n",
    "summary_len = [len(s.split()) for s in data['summary']]\n",
    "\n",
    "print('텍스트의 최소 길이 : {}'.format(np.min(text_len)))\n",
    "print('텍스트의 최대 길이 : {}'.format(np.max(text_len)))\n",
    "print('텍스트의 평균 길이 : {}'.format(np.mean(text_len)))\n",
    "print('요약의 최소 길이 : {}'.format(np.min(summary_len)))\n",
    "print('요약의 최대 길이 : {}'.format(np.max(summary_len)))\n",
    "print('요약의 평균 길이 : {}'.format(np.mean(summary_len)))\n",
    "\n",
    "plt.subplot(1,2,1)\n",
    "plt.boxplot(summary_len)\n",
    "plt.title('Summary')\n",
    "plt.subplot(1,2,2)\n",
    "plt.boxplot(text_len)\n",
    "plt.title('Text')\n",
    "plt.tight_layout()\n",
    "plt.show()\n",
    "\n",
    "plt.title('Summary')\n",
    "plt.hist(summary_len, bins = 40)\n",
    "plt.xlabel('length of samples')\n",
    "plt.ylabel('number of samples')\n",
    "plt.show()\n",
    "\n",
    "plt.title('Text')\n",
    "plt.hist(text_len, bins = 40)\n",
    "plt.xlabel('length of samples')\n",
    "plt.ylabel('number of samples')\n",
    "plt.show()"
   ]
  },
  {
   "cell_type": "code",
   "execution_count": 55,
   "metadata": {},
   "outputs": [
    {
     "data": {
      "text/plain": [
       "'kunal shah credit card bill payment platform cred gave users chance win free food swiggy one year pranav kaushik delhi techie bagged reward spending cred coins users get one cred coin per rupee bill paid used avail rewards brands like ixigo bookmyshow ubereats cult fit'"
      ]
     },
     "execution_count": 55,
     "metadata": {},
     "output_type": "execute_result"
    }
   ],
   "source": [
    "data['text'][1]"
   ]
  },
  {
   "cell_type": "code",
   "execution_count": 60,
   "metadata": {},
   "outputs": [],
   "source": [
    "# Text의 최대 길이와 Summary의 적절한 최대 길이를 임의로 결정\n",
    "\n",
    "text_max_len = 50\n",
    "summary_max_len = 10"
   ]
  },
  {
   "cell_type": "code",
   "execution_count": 61,
   "metadata": {},
   "outputs": [],
   "source": [
    "# 데이터와 샘플의 길이를 입력\n",
    "#  => 데이터의 몇 %가 해당하는지 계산\n",
    "\n",
    "def below_threshold_len(max_len, nested_list):\n",
    "    cnt = 0\n",
    "    for s in nested_list:\n",
    "        if(len(s.split()) <= max_len):\n",
    "            cnt = cnt + 1\n",
    "    print('전체 샘플 중 길이가 %s 이하인 샘플의 비율: %s'%(max_len, (cnt / len(nested_list))))"
   ]
  },
  {
   "cell_type": "code",
   "execution_count": 62,
   "metadata": {},
   "outputs": [
    {
     "name": "stdout",
     "output_type": "stream",
     "text": [
      "전체 샘플 중 길이가 50 이하인 샘플의 비율: 0.9998373289412148\n",
      "전체 샘플 중 길이가 10 이하인 샘플의 비율: 0.9978344415299213\n"
     ]
    }
   ],
   "source": [
    "below_threshold_len(text_max_len, data['text'])\n",
    "below_threshold_len(summary_max_len,  data['summary'])"
   ]
  },
  {
   "cell_type": "code",
   "execution_count": 63,
   "metadata": {},
   "outputs": [
    {
     "name": "stdout",
     "output_type": "stream",
     "text": [
      "전체 샘플수 : 98131\n"
     ]
    }
   ],
   "source": [
    "# 정해진 길이보다 길면 제외하는 방법으로 데이터 정제\n",
    "\n",
    "data = data[data['text'].apply(lambda x: len(x.split()) <= text_max_len)]\n",
    "data = data[data['summary'].apply(lambda x: len(x.split()) <= summary_max_len)]\n",
    "print('전체 샘플수 :',(len(data)))"
   ]
  },
  {
   "cell_type": "code",
   "execution_count": 65,
   "metadata": {},
   "outputs": [
    {
     "data": {
      "text/html": [
       "<div>\n",
       "<style scoped>\n",
       "    .dataframe tbody tr th:only-of-type {\n",
       "        vertical-align: middle;\n",
       "    }\n",
       "\n",
       "    .dataframe tbody tr th {\n",
       "        vertical-align: top;\n",
       "    }\n",
       "\n",
       "    .dataframe thead th {\n",
       "        text-align: right;\n",
       "    }\n",
       "</style>\n",
       "<table border=\"1\" class=\"dataframe\">\n",
       "  <thead>\n",
       "    <tr style=\"text-align: right;\">\n",
       "      <th></th>\n",
       "      <th>headlines</th>\n",
       "      <th>text</th>\n",
       "      <th>summary</th>\n",
       "      <th>decoder_input</th>\n",
       "      <th>decoder_target</th>\n",
       "    </tr>\n",
       "  </thead>\n",
       "  <tbody>\n",
       "    <tr>\n",
       "      <th>0</th>\n",
       "      <td>upGrad learner switches to career in ML &amp; Al w...</td>\n",
       "      <td>saurav kant alumnus upgrad iiit pg program mac...</td>\n",
       "      <td>upgrad learner switches career ml al salary hike</td>\n",
       "      <td>sostoken upgrad learner switches career ml al ...</td>\n",
       "      <td>upgrad learner switches career ml al salary hi...</td>\n",
       "    </tr>\n",
       "    <tr>\n",
       "      <th>1</th>\n",
       "      <td>Delhi techie wins free food from Swiggy for on...</td>\n",
       "      <td>kunal shah credit card bill payment platform c...</td>\n",
       "      <td>delhi techie wins free food swiggy one year cred</td>\n",
       "      <td>sostoken delhi techie wins free food swiggy on...</td>\n",
       "      <td>delhi techie wins free food swiggy one year cr...</td>\n",
       "    </tr>\n",
       "    <tr>\n",
       "      <th>2</th>\n",
       "      <td>New Zealand end Rohit Sharma-led India's 12-ma...</td>\n",
       "      <td>new zealand defeated india wickets fourth odi ...</td>\n",
       "      <td>new zealand end rohit sharma led india match w...</td>\n",
       "      <td>sostoken new zealand end rohit sharma led indi...</td>\n",
       "      <td>new zealand end rohit sharma led india match w...</td>\n",
       "    </tr>\n",
       "    <tr>\n",
       "      <th>3</th>\n",
       "      <td>Aegon life iTerm insurance plan helps customer...</td>\n",
       "      <td>aegon life iterm insurance plan customers enjo...</td>\n",
       "      <td>aegon life iterm insurance plan helps customer...</td>\n",
       "      <td>sostoken aegon life iterm insurance plan helps...</td>\n",
       "      <td>aegon life iterm insurance plan helps customer...</td>\n",
       "    </tr>\n",
       "    <tr>\n",
       "      <th>4</th>\n",
       "      <td>Have known Hirani for yrs, what if MeToo claim...</td>\n",
       "      <td>speaking sexual harassment allegations rajkuma...</td>\n",
       "      <td>known hirani yrs metoo claims true sonam</td>\n",
       "      <td>sostoken known hirani yrs metoo claims true sonam</td>\n",
       "      <td>known hirani yrs metoo claims true sonam eostoken</td>\n",
       "    </tr>\n",
       "  </tbody>\n",
       "</table>\n",
       "</div>"
      ],
      "text/plain": [
       "                                           headlines  \\\n",
       "0  upGrad learner switches to career in ML & Al w...   \n",
       "1  Delhi techie wins free food from Swiggy for on...   \n",
       "2  New Zealand end Rohit Sharma-led India's 12-ma...   \n",
       "3  Aegon life iTerm insurance plan helps customer...   \n",
       "4  Have known Hirani for yrs, what if MeToo claim...   \n",
       "\n",
       "                                                text  \\\n",
       "0  saurav kant alumnus upgrad iiit pg program mac...   \n",
       "1  kunal shah credit card bill payment platform c...   \n",
       "2  new zealand defeated india wickets fourth odi ...   \n",
       "3  aegon life iterm insurance plan customers enjo...   \n",
       "4  speaking sexual harassment allegations rajkuma...   \n",
       "\n",
       "                                             summary  \\\n",
       "0   upgrad learner switches career ml al salary hike   \n",
       "1   delhi techie wins free food swiggy one year cred   \n",
       "2  new zealand end rohit sharma led india match w...   \n",
       "3  aegon life iterm insurance plan helps customer...   \n",
       "4           known hirani yrs metoo claims true sonam   \n",
       "\n",
       "                                       decoder_input  \\\n",
       "0  sostoken upgrad learner switches career ml al ...   \n",
       "1  sostoken delhi techie wins free food swiggy on...   \n",
       "2  sostoken new zealand end rohit sharma led indi...   \n",
       "3  sostoken aegon life iterm insurance plan helps...   \n",
       "4  sostoken known hirani yrs metoo claims true sonam   \n",
       "\n",
       "                                      decoder_target  \n",
       "0  upgrad learner switches career ml al salary hi...  \n",
       "1  delhi techie wins free food swiggy one year cr...  \n",
       "2  new zealand end rohit sharma led india match w...  \n",
       "3  aegon life iterm insurance plan helps customer...  \n",
       "4  known hirani yrs metoo claims true sonam eostoken  "
      ]
     },
     "execution_count": 65,
     "metadata": {},
     "output_type": "execute_result"
    }
   ],
   "source": [
    "#요약 데이터에는 시작 토큰과 종료 토큰을 추가한다.\n",
    "data['decoder_input'] = data['summary'].apply(lambda x : 'sostoken '+ x)\n",
    "data['decoder_target'] = data['summary'].apply(lambda x : x + ' eostoken')\n",
    "data.head()"
   ]
  },
  {
   "cell_type": "code",
   "execution_count": 67,
   "metadata": {},
   "outputs": [],
   "source": [
    "# 인코더의 입력, 디코더의 입력과 레이블을 Numpy 타입으로 저장\n",
    "\n",
    "encoder_input = np.array(data['text']) # 인코더의 입력\n",
    "decoder_input = np.array(data['decoder_input']) # 디코더의 입력\n",
    "decoder_target = np.array(data['decoder_target']) # 디코더의 레이블"
   ]
  },
  {
   "cell_type": "code",
   "execution_count": 68,
   "metadata": {},
   "outputs": [
    {
     "name": "stdout",
     "output_type": "stream",
     "text": [
      "[96887 17473 64666 ... 41716 81730 52796]\n"
     ]
    }
   ],
   "source": [
    "indices = np.arange(encoder_input.shape[0])\n",
    "np.random.shuffle(indices)\n",
    "print(indices)"
   ]
  },
  {
   "cell_type": "code",
   "execution_count": 69,
   "metadata": {},
   "outputs": [],
   "source": [
    "encoder_input = encoder_input[indices]\n",
    "decoder_input = decoder_input[indices]\n",
    "decoder_target = decoder_target[indices]"
   ]
  },
  {
   "cell_type": "code",
   "execution_count": 70,
   "metadata": {},
   "outputs": [
    {
     "name": "stdout",
     "output_type": "stream",
     "text": [
      "테스트 데이터의 수 : 19626\n"
     ]
    }
   ],
   "source": [
    "n_of_val = int(len(encoder_input)*0.2)\n",
    "print('테스트 데이터의 수 :',n_of_val)"
   ]
  },
  {
   "cell_type": "code",
   "execution_count": 71,
   "metadata": {},
   "outputs": [
    {
     "name": "stdout",
     "output_type": "stream",
     "text": [
      "훈련 데이터의 개수 : 78505\n",
      "훈련 레이블의 개수 : 78505\n",
      "테스트 데이터의 개수 : 19626\n",
      "테스트 레이블의 개수 : 19626\n"
     ]
    }
   ],
   "source": [
    "encoder_input_train = encoder_input[:-n_of_val]\n",
    "decoder_input_train = decoder_input[:-n_of_val]\n",
    "decoder_target_train = decoder_target[:-n_of_val]\n",
    "\n",
    "encoder_input_test = encoder_input[-n_of_val:]\n",
    "decoder_input_test = decoder_input[-n_of_val:]\n",
    "decoder_target_test = decoder_target[-n_of_val:]\n",
    "\n",
    "print('훈련 데이터의 개수 :', len(encoder_input_train))\n",
    "print('훈련 레이블의 개수 :',len(decoder_input_train))\n",
    "print('테스트 데이터의 개수 :',len(encoder_input_test))\n",
    "print('테스트 레이블의 개수 :',len(decoder_input_test))"
   ]
  },
  {
   "cell_type": "code",
   "execution_count": null,
   "metadata": {},
   "outputs": [],
   "source": []
  },
  {
   "cell_type": "code",
   "execution_count": 73,
   "metadata": {},
   "outputs": [],
   "source": [
    "encoder_input, decoder_input, decoder_output = [], [], []\n",
    "\n",
    "for stc in data['text']:\n",
    "    encoder_input.append(stc.split())\n",
    "\n",
    "for stc in data['summary']:\n",
    "    decoder_input.append((\"<start> \"+stc).split())\n",
    "\n",
    "for stc in data['summary']:\n",
    "    decoder_output.append((stc+\" <end>\").split())"
   ]
  },
  {
   "cell_type": "code",
   "execution_count": null,
   "metadata": {},
   "outputs": [],
   "source": []
  },
  {
   "cell_type": "code",
   "execution_count": 74,
   "metadata": {},
   "outputs": [],
   "source": [
    "tokenizer_re = Tokenizer()\n",
    "tokenizer_re.fit_on_texts(encoder_input)\n",
    "encoder_input = tokenizer_re.texts_to_sequences(encoder_input)\n",
    "\n",
    "tokenizer_su = Tokenizer()\n",
    "tokenizer_su.fit_on_texts(decoder_input)\n",
    "tokenizer_su.fit_on_texts(decoder_output)\n",
    "decoder_input = tokenizer_su.texts_to_sequences(decoder_input)\n",
    "decoder_output = tokenizer_su.texts_to_sequences(decoder_output)\n",
    "\n",
    "encoder_input = pad_sequences(encoder_input, padding=\"post\")\n",
    "decoder_input = pad_sequences(decoder_input, padding=\"post\")\n",
    "decoder_output = pad_sequences(decoder_output, padding=\"post\")"
   ]
  },
  {
   "cell_type": "code",
   "execution_count": 75,
   "metadata": {},
   "outputs": [],
   "source": [
    "su_to_index = tokenizer_su.word_index\n",
    "index_to_su = tokenizer_su.index_word"
   ]
  },
  {
   "cell_type": "code",
   "execution_count": 78,
   "metadata": {},
   "outputs": [
    {
     "name": "stdout",
     "output_type": "stream",
     "text": [
      "단어 집합(vocabulary)의 크기 : 76762\n",
      "등장 빈도가 9번 이하인 희귀 단어의 수: 56173\n",
      "단어 집합에서 희귀 단어를 제외시킬 경우의 단어 집합의 크기 20589\n",
      "단어 집합에서 희귀 단어의 비율: 73.17813501472082\n",
      "전체 등장 빈도에서 희귀 단어 등장 빈도 비율: 3.9887173307397226\n"
     ]
    }
   ],
   "source": [
    "threshold = 10\n",
    "total_cnt = len(tokenizer_re.word_index) # 단어의 수\n",
    "#total_cnt = len(src_tokenizer.word_index) # 단어의 수\n",
    "rare_cnt = 0 # 등장 빈도수가 threshold보다 작은 단어의 개수를 카운트\n",
    "total_freq = 0 # 훈련 데이터의 전체 단어 빈도수 총 합\n",
    "rare_freq = 0 # 등장 빈도수가 threshold보다 작은 단어의 등장 빈도수의 총 합\n",
    "\n",
    "# 단어와 빈도수의 쌍(pair)을 key와 value로 받는다.\n",
    "#for key, value in src_tokenizer.word_counts.items():\n",
    "for key, value in tokenizer_re.word_counts.items():\n",
    "    total_freq = total_freq + value\n",
    "\n",
    "    # 단어의 등장 빈도수가 threshold보다 작으면\n",
    "    if(value < threshold):\n",
    "        rare_cnt = rare_cnt + 1\n",
    "        rare_freq = rare_freq + value\n",
    "\n",
    "print('단어 집합(vocabulary)의 크기 :',total_cnt)\n",
    "print('등장 빈도가 %s번 이하인 희귀 단어의 수: %s'%(threshold - 1, rare_cnt))\n",
    "print('단어 집합에서 희귀 단어를 제외시킬 경우의 단어 집합의 크기 %s'%(total_cnt - rare_cnt))\n",
    "print(\"단어 집합에서 희귀 단어의 비율:\", (rare_cnt / total_cnt)*100)\n",
    "print(\"전체 등장 빈도에서 희귀 단어 등장 빈도 비율:\", (rare_freq / total_freq)*100)"
   ]
  },
  {
   "cell_type": "code",
   "execution_count": 79,
   "metadata": {},
   "outputs": [],
   "source": [
    "src_vocab = 8000\n",
    "src_tokenizer = Tokenizer(num_words = src_vocab) # 단어 집합의 크기를 8,000으로 제한\n",
    "src_tokenizer.fit_on_texts(encoder_input_train) # 단어 집합 재생성."
   ]
  },
  {
   "cell_type": "code",
   "execution_count": 9,
   "metadata": {},
   "outputs": [],
   "source": [
    "# test_size = 2500\n",
    "# encoder_input_train = encoder_input[:-test_size]\n",
    "# decoder_input_train = decoder_input[:-test_size]\n",
    "# decoder_output_train = decoder_output[:-test_size]\n",
    "\n",
    "# encoder_input_test = encoder_input[-test_size:]\n",
    "# decoder_input_test = decoder_input[-test_size:]\n",
    "# decoder_output_test = decoder_output[-test_size:]"
   ]
  },
  {
   "cell_type": "code",
   "execution_count": 80,
   "metadata": {},
   "outputs": [
    {
     "name": "stdout",
     "output_type": "stream",
     "text": [
      "[[2195, 828, 58, 184, 4385, 1608, 95, 20, 3685, 1224, 4869, 3799, 8, 5062, 131, 20, 35, 68, 4869, 141, 347, 8, 26, 5394, 2515, 20, 6, 2565, 328, 27, 191, 828], [1195, 3078, 851, 31, 2904, 4685, 455, 3, 519, 31, 5549, 670, 268, 18, 332, 5199, 819, 2515, 1359, 1, 1195, 1724, 543], [167, 20, 590, 641, 4937, 25, 3550, 25, 9, 4937, 1065, 6280, 2088, 9, 1415, 2289, 394, 3445, 6344, 1086, 1084, 394, 2905, 158, 31, 1]]\n"
     ]
    }
   ],
   "source": [
    "# 텍스트 시퀀스를 정수 시퀀스로 변환\n",
    "encoder_input_train = src_tokenizer.texts_to_sequences(encoder_input_train) \n",
    "encoder_input_test = src_tokenizer.texts_to_sequences(encoder_input_test)\n",
    "\n",
    "#잘 진행되었는지 샘플 출력\n",
    "print(encoder_input_train[:3])\n",
    "\n",
    "# 텍스트 데이터가 아니라 정수가 표현됨"
   ]
  },
  {
   "cell_type": "code",
   "execution_count": 81,
   "metadata": {},
   "outputs": [],
   "source": [
    "tar_tokenizer = Tokenizer()\n",
    "tar_tokenizer.fit_on_texts(decoder_input_train)"
   ]
  },
  {
   "cell_type": "code",
   "execution_count": 84,
   "metadata": {},
   "outputs": [
    {
     "name": "stdout",
     "output_type": "stream",
     "text": [
      "단어 집합(vocabulary)의 크기 : 32279\n",
      "등장 빈도가 7번 이하인 희귀 단어의 수: 17815\n",
      "단어 집합에서 희귀 단어를 제외시킬 경우의 단어 집합의 크기 14464\n",
      "단어 집합에서 희귀 단어의 비율: 55.19068124787013\n",
      "전체 등장 빈도에서 희귀 단어 등장 빈도 비율: 3.3683323595128054\n"
     ]
    }
   ],
   "source": [
    "# 등장 빈도수가 6회 미만인 단어가 차지하는 비중을 확인\n",
    "\n",
    "threshold = 8\n",
    "total_cnt = len(tokenizer_su.word_index) # 단어의 수\n",
    "rare_cnt = 0 # 등장 빈도수가 threshold보다 작은 단어의 개수를 카운트\n",
    "total_freq = 0 # 훈련 데이터의 전체 단어 빈도수 총 합\n",
    "rare_freq = 0 # 등장 빈도수가 threshold보다 작은 단어의 등장 빈도수의 총 합\n",
    "\n",
    "# 단어와 빈도수의 쌍(pair)을 key와 value로 받는다.\n",
    "for key, value in tokenizer_su.word_counts.items():\n",
    "    total_freq = total_freq + value\n",
    "\n",
    "    # 단어의 등장 빈도수가 threshold보다 작으면\n",
    "    if(value < threshold):\n",
    "        rare_cnt = rare_cnt + 1\n",
    "        rare_freq = rare_freq + value\n",
    "\n",
    "print('단어 집합(vocabulary)의 크기 :',total_cnt)\n",
    "print('등장 빈도가 %s번 이하인 희귀 단어의 수: %s'%(threshold - 1, rare_cnt))\n",
    "print('단어 집합에서 희귀 단어를 제외시킬 경우의 단어 집합의 크기 %s'%(total_cnt - rare_cnt))\n",
    "print(\"단어 집합에서 희귀 단어의 비율:\", (rare_cnt / total_cnt)*100)\n",
    "print(\"전체 등장 빈도에서 희귀 단어 등장 빈도 비율:\", (rare_freq / total_freq)*100)"
   ]
  },
  {
   "cell_type": "code",
   "execution_count": 85,
   "metadata": {},
   "outputs": [
    {
     "name": "stdout",
     "output_type": "stream",
     "text": [
      "input\n",
      "input  [[1, 672, 168, 7, 251, 280, 751], [1, 584], [1, 8, 33, 728], [1, 1165, 1853, 235, 10, 3, 15], [1, 1506, 94, 435, 285, 452]]\n",
      "target\n",
      "decoder  [[672, 168, 7, 251, 280, 751, 2], [584, 2], [8, 33, 728, 2], [1165, 1853, 235, 10, 3, 15, 2], [1506, 94, 435, 285, 452, 2]]\n"
     ]
    }
   ],
   "source": [
    "tar_vocab = 2000\n",
    "tar_tokenizer = Tokenizer(num_words = tar_vocab) \n",
    "tar_tokenizer.fit_on_texts(decoder_input_train)\n",
    "tar_tokenizer.fit_on_texts(decoder_target_train)\n",
    "\n",
    "# 텍스트 시퀀스를 정수 시퀀스로 변환\n",
    "decoder_input_train = tar_tokenizer.texts_to_sequences(decoder_input_train) \n",
    "decoder_target_train = tar_tokenizer.texts_to_sequences(decoder_target_train)\n",
    "decoder_input_test = tar_tokenizer.texts_to_sequences(decoder_input_test)\n",
    "decoder_target_test = tar_tokenizer.texts_to_sequences(decoder_target_test)\n",
    "\n",
    "#잘 변환되었는지 확인\n",
    "print('input')\n",
    "print('input ',decoder_input_train[:5])\n",
    "print('target')\n",
    "print('decoder ',decoder_target_train[:5])"
   ]
  },
  {
   "cell_type": "code",
   "execution_count": 86,
   "metadata": {},
   "outputs": [
    {
     "name": "stdout",
     "output_type": "stream",
     "text": [
      "삭제할 훈련 데이터의 개수 : 239\n",
      "삭제할 테스트 데이터의 개수 : 80\n",
      "훈련 데이터의 개수 : 78266\n",
      "훈련 레이블의 개수 : 78266\n",
      "테스트 데이터의 개수 : 19546\n",
      "테스트 레이블의 개수 : 19546\n"
     ]
    }
   ],
   "source": [
    "drop_train = [index for index, sentence in enumerate(decoder_input_train) if len(sentence) == 1]\n",
    "drop_test = [index for index, sentence in enumerate(decoder_input_test) if len(sentence) == 1]\n",
    "\n",
    "print('삭제할 훈련 데이터의 개수 :',len(drop_train))\n",
    "print('삭제할 테스트 데이터의 개수 :',len(drop_test))\n",
    "\n",
    "encoder_input_train = np.delete(encoder_input_train, drop_train, axis=0)\n",
    "decoder_input_train = np.delete(decoder_input_train, drop_train, axis=0)\n",
    "decoder_target_train = np.delete(decoder_target_train, drop_train, axis=0)\n",
    "\n",
    "encoder_input_test = np.delete(encoder_input_test, drop_test, axis=0)\n",
    "decoder_input_test = np.delete(decoder_input_test, drop_test, axis=0)\n",
    "decoder_target_test = np.delete(decoder_target_test, drop_test, axis=0)\n",
    "\n",
    "print('훈련 데이터의 개수 :', len(encoder_input_train))\n",
    "print('훈련 레이블의 개수 :',len(decoder_input_train))\n",
    "print('테스트 데이터의 개수 :',len(encoder_input_test))\n",
    "print('테스트 레이블의 개수 :',len(decoder_input_test))"
   ]
  },
  {
   "cell_type": "code",
   "execution_count": 87,
   "metadata": {},
   "outputs": [],
   "source": [
    "encoder_input_train = pad_sequences(encoder_input_train, maxlen = text_max_len, padding='post')\n",
    "encoder_input_test = pad_sequences(encoder_input_test, maxlen = text_max_len, padding='post')\n",
    "decoder_input_train = pad_sequences(decoder_input_train, maxlen = summary_max_len, padding='post')\n",
    "decoder_target_train = pad_sequences(decoder_target_train, maxlen = summary_max_len, padding='post')\n",
    "decoder_input_test = pad_sequences(decoder_input_test, maxlen = summary_max_len, padding='post')\n",
    "decoder_target_test = pad_sequences(decoder_target_test, maxlen = summary_max_len, padding='post')"
   ]
  },
  {
   "cell_type": "code",
   "execution_count": null,
   "metadata": {},
   "outputs": [],
   "source": []
  },
  {
   "cell_type": "code",
   "execution_count": 88,
   "metadata": {},
   "outputs": [
    {
     "name": "stdout",
     "output_type": "stream",
     "text": [
      "WARNING:tensorflow:Layer lstm will not use cuDNN kernel since it doesn't meet the cuDNN kernel criteria. It will use generic GPU kernel as fallback when running on GPU\n",
      "WARNING:tensorflow:Layer lstm_1 will not use cuDNN kernel since it doesn't meet the cuDNN kernel criteria. It will use generic GPU kernel as fallback when running on GPU\n",
      "WARNING:tensorflow:Layer lstm_2 will not use cuDNN kernel since it doesn't meet the cuDNN kernel criteria. It will use generic GPU kernel as fallback when running on GPU\n"
     ]
    }
   ],
   "source": [
    "from tensorflow.keras.layers import Input, LSTM, Embedding, Dense, Concatenate\n",
    "from tensorflow.keras.models import Model\n",
    "from tensorflow.keras.callbacks import EarlyStopping, ModelCheckpoint\n",
    "\n",
    "\n",
    "# 인코더 설계 시작\n",
    "embedding_dim = 128\n",
    "hidden_size = 256\n",
    "\n",
    "# 인코더\n",
    "encoder_inputs = Input(shape=(text_max_len,))\n",
    "\n",
    "# 인코더의 임베딩 층\n",
    "enc_emb = Embedding(src_vocab, embedding_dim)(encoder_inputs)\n",
    "\n",
    "# 인코더의 LSTM 1\n",
    "encoder_lstm1 = LSTM(hidden_size, return_sequences=True, return_state=True ,dropout = 0.4, recurrent_dropout = 0.4)\n",
    "encoder_output1, state_h1, state_c1 = encoder_lstm1(enc_emb)\n",
    "\n",
    "# 인코더의 LSTM 2\n",
    "encoder_lstm2 = LSTM(hidden_size, return_sequences=True, return_state=True, dropout=0.4, recurrent_dropout=0.4)\n",
    "encoder_output2, state_h2, state_c2 = encoder_lstm2(encoder_output1)\n",
    "\n",
    "# 인코더의 LSTM 3\n",
    "encoder_lstm3 = LSTM(hidden_size, return_state=True, \n",
    "    return_sequences=True, dropout=0.4, recurrent_dropout=0.4)\n",
    "encoder_outputs, state_h, state_c= encoder_lstm3(\n",
    "    encoder_output2)"
   ]
  },
  {
   "cell_type": "code",
   "execution_count": 89,
   "metadata": {},
   "outputs": [
    {
     "name": "stdout",
     "output_type": "stream",
     "text": [
      "WARNING:tensorflow:Layer lstm_3 will not use cuDNN kernel since it doesn't meet the cuDNN kernel criteria. It will use generic GPU kernel as fallback when running on GPU\n"
     ]
    }
   ],
   "source": [
    "# 디코더 설계\n",
    "\n",
    "decoder_inputs = Input(shape=(None,))\n",
    "\n",
    "# 디코더의 임베딩 층\n",
    "dec_emb_layer = Embedding(tar_vocab, embedding_dim)\n",
    "dec_emb = dec_emb_layer(decoder_inputs)\n",
    "\n",
    "# 디코더의 LSTM\n",
    "decoder_lstm = LSTM(hidden_size, return_sequences = True, return_state = True, \n",
    "                    dropout = 0.4, recurrent_dropout=0.2)\n",
    "decoder_outputs, _, _ = decoder_lstm(dec_emb, initial_state = [state_h, state_c])"
   ]
  },
  {
   "cell_type": "code",
   "execution_count": 90,
   "metadata": {},
   "outputs": [
    {
     "name": "stdout",
     "output_type": "stream",
     "text": [
      "Model: \"model\"\n",
      "__________________________________________________________________________________________________\n",
      "Layer (type)                    Output Shape         Param #     Connected to                     \n",
      "==================================================================================================\n",
      "input_1 (InputLayer)            [(None, 50)]         0                                            \n",
      "__________________________________________________________________________________________________\n",
      "embedding (Embedding)           (None, 50, 128)      1024000     input_1[0][0]                    \n",
      "__________________________________________________________________________________________________\n",
      "lstm (LSTM)                     [(None, 50, 256), (N 394240      embedding[0][0]                  \n",
      "__________________________________________________________________________________________________\n",
      "input_2 (InputLayer)            [(None, None)]       0                                            \n",
      "__________________________________________________________________________________________________\n",
      "lstm_1 (LSTM)                   [(None, 50, 256), (N 525312      lstm[0][0]                       \n",
      "__________________________________________________________________________________________________\n",
      "embedding_1 (Embedding)         (None, None, 128)    256000      input_2[0][0]                    \n",
      "__________________________________________________________________________________________________\n",
      "lstm_2 (LSTM)                   [(None, 50, 256), (N 525312      lstm_1[0][0]                     \n",
      "__________________________________________________________________________________________________\n",
      "lstm_3 (LSTM)                   [(None, None, 256),  394240      embedding_1[0][0]                \n",
      "                                                                 lstm_2[0][1]                     \n",
      "                                                                 lstm_2[0][2]                     \n",
      "__________________________________________________________________________________________________\n",
      "dense (Dense)                   (None, None, 2000)   514000      lstm_3[0][0]                     \n",
      "==================================================================================================\n",
      "Total params: 3,633,104\n",
      "Trainable params: 3,633,104\n",
      "Non-trainable params: 0\n",
      "__________________________________________________________________________________________________\n"
     ]
    }
   ],
   "source": [
    "# 디코더의 출력층\n",
    "decoder_softmax_layer = Dense(tar_vocab, activation = 'softmax')\n",
    "decoder_softmax_outputs = decoder_softmax_layer(decoder_outputs) \n",
    "\n",
    "# 모델 정의\n",
    "model = Model([encoder_inputs, decoder_inputs], decoder_softmax_outputs)\n",
    "model.summary()"
   ]
  },
  {
   "cell_type": "code",
   "execution_count": 91,
   "metadata": {},
   "outputs": [],
   "source": [
    "urllib.request.urlretrieve(\"https://raw.githubusercontent.com/thushv89/attention_keras/master/src/layers/attention.py\", filename=\"attention.py\")\n",
    "from attention import AttentionLayer"
   ]
  },
  {
   "cell_type": "code",
   "execution_count": 92,
   "metadata": {},
   "outputs": [
    {
     "name": "stdout",
     "output_type": "stream",
     "text": [
      "Model: \"model_1\"\n",
      "__________________________________________________________________________________________________\n",
      "Layer (type)                    Output Shape         Param #     Connected to                     \n",
      "==================================================================================================\n",
      "input_1 (InputLayer)            [(None, 50)]         0                                            \n",
      "__________________________________________________________________________________________________\n",
      "embedding (Embedding)           (None, 50, 128)      1024000     input_1[0][0]                    \n",
      "__________________________________________________________________________________________________\n",
      "lstm (LSTM)                     [(None, 50, 256), (N 394240      embedding[0][0]                  \n",
      "__________________________________________________________________________________________________\n",
      "input_2 (InputLayer)            [(None, None)]       0                                            \n",
      "__________________________________________________________________________________________________\n",
      "lstm_1 (LSTM)                   [(None, 50, 256), (N 525312      lstm[0][0]                       \n",
      "__________________________________________________________________________________________________\n",
      "embedding_1 (Embedding)         (None, None, 128)    256000      input_2[0][0]                    \n",
      "__________________________________________________________________________________________________\n",
      "lstm_2 (LSTM)                   [(None, 50, 256), (N 525312      lstm_1[0][0]                     \n",
      "__________________________________________________________________________________________________\n",
      "lstm_3 (LSTM)                   [(None, None, 256),  394240      embedding_1[0][0]                \n",
      "                                                                 lstm_2[0][1]                     \n",
      "                                                                 lstm_2[0][2]                     \n",
      "__________________________________________________________________________________________________\n",
      "attention_layer (AttentionLayer ((None, None, 256),  131328      lstm_2[0][0]                     \n",
      "                                                                 lstm_3[0][0]                     \n",
      "__________________________________________________________________________________________________\n",
      "concat_layer (Concatenate)      (None, None, 512)    0           lstm_3[0][0]                     \n",
      "                                                                 attention_layer[0][0]            \n",
      "__________________________________________________________________________________________________\n",
      "dense_1 (Dense)                 (None, None, 2000)   1026000     concat_layer[0][0]               \n",
      "==================================================================================================\n",
      "Total params: 4,276,432\n",
      "Trainable params: 4,276,432\n",
      "Non-trainable params: 0\n",
      "__________________________________________________________________________________________________\n"
     ]
    }
   ],
   "source": [
    "# 어텐션 층(어텐션 함수)\n",
    "attn_layer = AttentionLayer(name='attention_layer')\n",
    "# 인코더와 디코더의 모든 time step의 hidden state를 \n",
    "# 어텐션 층에 전달하고 결과를 리턴\n",
    "attn_out, attn_states = attn_layer([encoder_outputs, decoder_outputs])\n",
    "\n",
    "# 어텐션의 결과와 디코더의 hidden state들을 연결\n",
    "decoder_concat_input = Concatenate(axis = -1,name='concat_layer')([decoder_outputs, attn_out])\n",
    "\n",
    "# 디코더의 출력층\n",
    "decoder_softmax_layer = Dense(tar_vocab, activation='softmax')\n",
    "decoder_softmax_outputs = decoder_softmax_layer(decoder_concat_input)\n",
    "\n",
    "# 모델 정의\n",
    "model = Model([encoder_inputs, decoder_inputs], decoder_softmax_outputs)\n",
    "model.summary()"
   ]
  },
  {
   "cell_type": "code",
   "execution_count": 93,
   "metadata": {},
   "outputs": [
    {
     "name": "stdout",
     "output_type": "stream",
     "text": [
      "Epoch 1/50\n",
      "306/306 [==============================] - 104s 341ms/step - loss: 3.5772 - val_loss: 3.2705\n",
      "Epoch 2/50\n",
      "306/306 [==============================] - 105s 342ms/step - loss: 3.1267 - val_loss: 2.9948\n",
      "Epoch 3/50\n",
      "306/306 [==============================] - 104s 340ms/step - loss: 2.9046 - val_loss: 2.8077\n",
      "Epoch 4/50\n",
      "306/306 [==============================] - 104s 341ms/step - loss: 2.7218 - val_loss: 2.6765\n",
      "Epoch 5/50\n",
      "306/306 [==============================] - 104s 340ms/step - loss: 2.5770 - val_loss: 2.5701\n",
      "Epoch 6/50\n",
      "306/306 [==============================] - 104s 339ms/step - loss: 2.4603 - val_loss: 2.4858\n",
      "Epoch 7/50\n",
      "306/306 [==============================] - 104s 339ms/step - loss: 2.3628 - val_loss: 2.4232\n",
      "Epoch 8/50\n",
      "306/306 [==============================] - 104s 340ms/step - loss: 2.2815 - val_loss: 2.3690\n",
      "Epoch 9/50\n",
      "306/306 [==============================] - 104s 338ms/step - loss: 2.2084 - val_loss: 2.3326\n",
      "Epoch 10/50\n",
      "306/306 [==============================] - 104s 339ms/step - loss: 2.1439 - val_loss: 2.2932\n",
      "Epoch 11/50\n",
      "306/306 [==============================] - 104s 339ms/step - loss: 2.0861 - val_loss: 2.2651\n",
      "Epoch 12/50\n",
      "306/306 [==============================] - 104s 338ms/step - loss: 2.0320 - val_loss: 2.2491\n",
      "Epoch 13/50\n",
      "306/306 [==============================] - 104s 340ms/step - loss: 1.9837 - val_loss: 2.2245\n",
      "Epoch 14/50\n",
      "306/306 [==============================] - 104s 339ms/step - loss: 1.9395 - val_loss: 2.2071\n",
      "Epoch 15/50\n",
      "306/306 [==============================] - 104s 339ms/step - loss: 1.8974 - val_loss: 2.1939\n",
      "Epoch 16/50\n",
      "306/306 [==============================] - 104s 340ms/step - loss: 1.8581 - val_loss: 2.1814\n",
      "Epoch 17/50\n",
      "306/306 [==============================] - 104s 339ms/step - loss: 1.8215 - val_loss: 2.1670\n",
      "Epoch 18/50\n",
      "306/306 [==============================] - 104s 340ms/step - loss: 1.7873 - val_loss: 2.1614\n",
      "Epoch 19/50\n",
      "306/306 [==============================] - 104s 340ms/step - loss: 1.7561 - val_loss: 2.1593\n",
      "Epoch 20/50\n",
      "306/306 [==============================] - 104s 339ms/step - loss: 1.7250 - val_loss: 2.1497\n",
      "Epoch 21/50\n",
      "306/306 [==============================] - 104s 340ms/step - loss: 1.6985 - val_loss: 2.1405\n",
      "Epoch 22/50\n",
      "306/306 [==============================] - 104s 340ms/step - loss: 1.6708 - val_loss: 2.1492\n",
      "Epoch 23/50\n",
      "306/306 [==============================] - 104s 339ms/step - loss: 1.6462 - val_loss: 2.1409\n",
      "Epoch 00023: early stopping\n"
     ]
    }
   ],
   "source": [
    "model.compile(optimizer='rmsprop', loss='sparse_categorical_crossentropy')\n",
    "es = EarlyStopping(monitor='val_loss', mode='min', verbose=1, patience = 2)\n",
    "history = model.fit(x = [encoder_input_train, decoder_input_train], y = decoder_target_train, \\\n",
    "          validation_data = ([encoder_input_test, decoder_input_test], decoder_target_test),\n",
    "          batch_size = 256, callbacks=[es], epochs = 50)"
   ]
  },
  {
   "cell_type": "code",
   "execution_count": 94,
   "metadata": {},
   "outputs": [
    {
     "data": {
      "image/png": "[encoded data removed]",
      "text/plain": [
       "<Figure size 432x288 with 1 Axes>"
      ]
     },
     "metadata": {
      "needs_background": "light"
     },
     "output_type": "display_data"
    }
   ],
   "source": [
    "plt.plot(history.history['loss'], label='train')\n",
    "plt.plot(history.history['val_loss'], label='test')\n",
    "plt.legend()\n",
    "plt.show()"
   ]
  },
  {
   "cell_type": "code",
   "execution_count": 95,
   "metadata": {},
   "outputs": [],
   "source": [
    "# 텍스트 데이터를 실제 데이터로 복원하기 위한 사전을 준비\n",
    "\n",
    "src_index_to_word = src_tokenizer.index_word # 원문 단어 집합에서 정수 -> 단어를 얻음\n",
    "tar_word_to_index = tar_tokenizer.word_index # 요약 단어 집합에서 단어 -> 정수를 얻음\n",
    "tar_index_to_word = tar_tokenizer.index_word # 요약 단어 집합에서 정수 -> 단어를 얻음"
   ]
  },
  {
   "cell_type": "code",
   "execution_count": 96,
   "metadata": {},
   "outputs": [],
   "source": [
    "# 인코더 설계\n",
    "encoder_model = Model(inputs=encoder_inputs, \n",
    "                outputs=[encoder_outputs, state_h, state_c])\n",
    "\n",
    "# 이전 시점의 상태들을 저장하는 텐서\n",
    "decoder_state_input_h = Input(shape=(hidden_size,))\n",
    "decoder_state_input_c = Input(shape=(hidden_size,))\n",
    "\n",
    "dec_emb2 = dec_emb_layer(decoder_inputs)\n",
    "# 문장의 다음 단어를 예측하기 위해서 초기 상태(initial_state)를 \n",
    "#이전 시점의 상태로 사용. 이는 뒤의 함수 decode_sequence()에 구현\n",
    "# 훈련 과정에서와 달리 LSTM의 리턴하는 은닉 상태와 셀 상태인 \n",
    "#state_h와 state_c를 버리지 않음.\n",
    "decoder_outputs2, state_h2, state_c2 = decoder_lstm(dec_emb2, \n",
    "        initial_state=[decoder_state_input_h, \n",
    "        decoder_state_input_c])"
   ]
  },
  {
   "cell_type": "code",
   "execution_count": 97,
   "metadata": {},
   "outputs": [],
   "source": [
    "# 어텐션 함수\n",
    "decoder_hidden_state_input = Input(shape=(text_max_len, hidden_size))\n",
    "attn_out_inf, attn_states_inf = attn_layer([decoder_hidden_state_input, decoder_outputs2])\n",
    "decoder_inf_concat = Concatenate(axis=-1, name='concat')([decoder_outputs2, attn_out_inf])\n",
    "\n",
    "# 디코더의 출력층\n",
    "decoder_outputs2 = decoder_softmax_layer(decoder_inf_concat) \n",
    "\n",
    "# 최종 디코더 모델\n",
    "decoder_model = Model(\n",
    "    [decoder_inputs] + [decoder_hidden_state_input,decoder_state_input_h, decoder_state_input_c],\n",
    "    [decoder_outputs2] + [state_h2, state_c2])"
   ]
  },
  {
   "cell_type": "code",
   "execution_count": 98,
   "metadata": {},
   "outputs": [],
   "source": [
    "# 인퍼런스 단계에서 단어 시퀀스를 완성하는 함수\n",
    "\n",
    "def decode_sequence(input_seq):\n",
    "    # 입력으로부터 인코더의 상태를 얻음\n",
    "    e_out, e_h, e_c = encoder_model.predict(input_seq)\n",
    "\n",
    "     # <SOS>에 해당하는 토큰 생성\n",
    "    target_seq = np.zeros((1,1))\n",
    "    target_seq[0, 0] = tar_word_to_index['sostoken']\n",
    "\n",
    "    stop_condition = False\n",
    "    decoded_sentence = ''\n",
    "    while not stop_condition: \n",
    "        # stop_condition이 True가 될 때까지 루프 반복\n",
    "\n",
    "        output_tokens, h, c = decoder_model.predict([target_seq] + [e_out, e_h, e_c])\n",
    "        sampled_token_index = np.argmax(output_tokens[0, -1, :])\n",
    "        sampled_token = tar_index_to_word[sampled_token_index]\n",
    "\n",
    "        if(sampled_token!='eostoken'):\n",
    "            decoded_sentence += ' '+sampled_token\n",
    "\n",
    "        #  <eos>에 도달하거나 최대 길이를 넘으면 중단.\n",
    "        if (sampled_token == 'eostoken'  or len(decoded_sentence.split()) >= (summary_max_len-1)):\n",
    "            stop_condition = True\n",
    "\n",
    "        # 길이가 1인 타겟 시퀀스를 업데이트\n",
    "        target_seq = np.zeros((1,1))\n",
    "        target_seq[0, 0] = sampled_token_index\n",
    "\n",
    "        # 상태를 업데이트 합니다.\n",
    "        e_h, e_c = h, c\n",
    "\n",
    "    return decoded_sentence"
   ]
  },
  {
   "cell_type": "code",
   "execution_count": 99,
   "metadata": {},
   "outputs": [],
   "source": [
    "# 원문의 정수 시퀀스를 텍스트 시퀀스로 변환\n",
    "def seq2text(input_seq):\n",
    "    temp=''\n",
    "    for i in input_seq:\n",
    "        if(i!=0):\n",
    "            temp = temp + src_index_to_word[i]+' '\n",
    "    return temp\n",
    "\n",
    "# 요약문의 정수 시퀀스를 텍스트 시퀀스로 변환\n",
    "def seq2summary(input_seq):\n",
    "    temp=''\n",
    "    for i in input_seq:\n",
    "        if((i!=0 and i!=tar_word_to_index['sostoken']) and i!=tar_word_to_index['eostoken']):\n",
    "            temp = temp + tar_index_to_word[i] + ' '\n",
    "    return temp"
   ]
  },
  {
   "cell_type": "code",
   "execution_count": 100,
   "metadata": {},
   "outputs": [
    {
     "name": "stdout",
     "output_type": "stream",
     "text": [
      "원문 : ninth anniversary mumbai attacks president ram nath kovind tweeted day resolve take defeat eliminate terrorism forms congress vice president rahul gandhi tweeted love families friends lost much hatred violence union minister arun jaitley terrorists \n",
      "실제 요약 : defeat terrorism president \n",
      "예측 요약 :  prez kovind praises pm president xi\n",
      "\n",
      "\n",
      "원문 : india added million new taxpayers financial year due demonetisation high valued notes witnessing increase annual average notably india million individual taxpayers end fiscal year reportedly india around six million taxpayers around one million stop paying taxes due death retirement every year \n",
      "실제 요약 : increase new due note ban \n",
      "예측 요약 :  india million note ban\n",
      "\n",
      "\n",
      "원문 : shark bit porn star underwater following needed adult film company said surface shark approached foot rose net said bad seems quickly still amazing experience \n",
      "실제 요약 : porn star \n",
      "예측 요약 :  denies\n",
      "\n",
      "\n",
      "원문 : paytm coo kiran said one allowed launch service unless systems clearly india data critical security india payments systems earlier paytm ceo vijay shekhar sharma talking whatsapp payments feature said opening banking system biggest possible fraud \n",
      "실제 요약 : firms india launch paytm \n",
      "예측 요약 :  paytm launch new india payments\n",
      "\n",
      "\n",
      "원문 : shared video hole iphone priced india iphone turn spinner toys ball bearing hole th inch wide make phones spin spinners meant stress toys \n",
      "실제 요약 : man hole iphone make \n",
      "예측 요약 :  video shows iphone iphone\n",
      "\n",
      "\n",
      "원문 : astronauts aboard international space station celebrated friday dinner turkey space grown earth altitude kilometres meal including apple delivered billion space laboratory part kg cargo nasa operated spacecraft \n",
      "실제 요약 : space station crew celebrates km earth \n",
      "예측 요약 :  space station space station\n",
      "\n",
      "\n",
      "원문 : origin switzerland players made apparently flag win friday celebrations sparked debate social media questioning need mix politics football also played marked flag recognised state russia \n",
      "실제 요약 : swiss players political slammed win \n",
      "예측 요약 :  indian origin flag\n",
      "\n",
      "\n",
      "원문 : super flash charge technology set foot india new pro charge phone almost minutes designed solution consumer strong demand quick safe long charging users watch engaging videos play favourite games \n",
      "실제 요약 : super technology sets foot india pro \n",
      "예측 요약 :  video shows open\n",
      "\n",
      "\n",
      "원문 : shooter wrestler sushil kumar among appointed sports minister vijay goel olympics respective five time world boxing champion london games bronze medalist mary kom boxing along kumar bobby george observe track field \n",
      "실제 요약 : kumar named govt olympic \n",
      "예측 요약 :  kumar hockey team\n",
      "\n",
      "\n",
      "원문 : teacher jammu kashmir arrested allegedly sexually assaulting minor boy december last year matter came light boy father filed police complaint january incident allegedly took place morning prayers teacher called boy room assaulted \n",
      "실제 요약 : teacher arrested minor boy \n",
      "예측 요약 :  teacher arrested sexually assaulting yr old boy\n",
      "\n",
      "\n",
      "원문 : authorities us admitted might shot killed wrong man pursuing suspect involved mall shooting african american man named jr shot ran away scene added man fire rounds wounded year old male year old girl \n",
      "실제 요약 : police killed wrong man us shooting \n",
      "예측 요약 :  us gun shoots shooting shooting\n",
      "\n",
      "\n",
      "원문 : many talented indian athletes come achieving international wants change status initiative aims known athletes sports nation support year old figure time national gold medalist represent india winter games \n",
      "실제 요약 : fan fire support \n",
      "예측 요약 :  indian\n",
      "\n",
      "\n",
      "원문 : uttar pradesh village lucknow years independence special drive villages reportedly villagers danced first switched village yojana centre lakh spent creating power infrastructure gm said \n",
      "실제 요약 : uttar pradesh village yrs independence \n",
      "예측 요약 :  village village gets\n",
      "\n",
      "\n",
      "원문 : swiss tennis player roger federer forward defence cricket shot wimbledon match cricket legend sachin tendulkar tweeted let exchange notes cricket tennis win th wimbledon title earlier reacting time grand slam champion shot icc official twitter account shared image showing tennis player top ranked test batsman \n",
      "실제 요약 : let us exchange notes cricket tennis sachin federer \n",
      "예측 요약 :  federer plays shot federer\n",
      "\n",
      "\n",
      "원문 : least people arrested amid ongoing protests rise fuel prices living costs paris video showed police vehicle smashing videos captured burning cars police firing tear gas protesters government spokesperson said country consider imposing state emergency \n",
      "실제 요약 : arrested paris protests fuel prices \n",
      "예측 요약 :  petrol protest petrol oil\n",
      "\n",
      "\n",
      "원문 : two terrorists alleged links isis arrested near red fort delhi special cell thursday night police said following orders leaders islamic state jammu kashmir outfit claims isis police also seized two \n",
      "실제 요약 : terrorists isis arrested near delhi red \n",
      "예측 요약 :  terrorists arrested delhi\n",
      "\n",
      "\n",
      "원문 : uk government considering jail terms six months less england wales bid ease pressure prisons justice minister said around criminals including could jail every year proposed move according reports would made violent sex offenders \n",
      "실제 요약 : uk may jail six months less \n",
      "예측 요약 :  uk jail treatment\n",
      "\n",
      "\n",
      "원문 : people killed since anti government protests began april association human rights said others injured protests president daniel proposed changes social security protests since civil war ended \n",
      "실제 요약 : killed anti government protests \n",
      "예측 요약 :  killed protests\n",
      "\n",
      "\n",
      "원문 : swara bhasker along brother launch production house confirming news swara said aim support good scripts filmmakers fresh powerful stories get right platform showcase reportedly working films announce projects soon \n",
      "실제 요약 : launch production house \n",
      "예측 요약 :  launch\n",
      "\n",
      "\n",
      "원문 : french company launched android powered electric scooter called connect features inch display handle bars equipped gb ram gb flash memory runs android supports according company scooter reach speed kmph range km urban areas \n",
      "실제 요약 : french company launches android electric \n",
      "예측 요약 :  french launches app\n",
      "\n",
      "\n",
      "원문 : former delhi daredevils captain gautam gambhir said nobody pakistan provided opportunity perform india unless relations two countries improve cricketing ties pakistan help ban imposed sectors films music gambhir added \n",
      "실제 요약 : pakistani allowed perform india gambhir \n",
      "예측 요약 :  india pakistan gambhir\n",
      "\n",
      "\n",
      "원문 : publishing india announced provide calls leave employees adopt employees able take working days adopt dog cat animal pet children need much attention human children ceo said \n",
      "실제 요약 : give leave staff \n",
      "예측 요약 :  pay employees leave\n",
      "\n",
      "\n",
      "원문 : us president donald trump saturday wife melania name tweet back home hospital trump later deleted tweet posted another correct year old first lady undergone surgery military hospital white house called kidney condition \n",
      "실제 요약 : trump wife name welcome home tweet \n",
      "예측 요약 :  trump tweets user\n",
      "\n",
      "\n",
      "원문 : days diesel banned delhi environment pollution control authority tuesday exempted upcoming event ministry food processing industries ban international event scheduled india gate november authority said exemption granted power supply could found \n",
      "실제 요약 : govt allows use diesel event delhi \n",
      "예측 요약 :  delhi bans pollution\n",
      "\n",
      "\n",
      "원문 : aamir khan backed furniture rental startup raised crore existing investor mumbai based chemical corporation comes weeks startup raised crore debt funding investors including rekha lakshmi krishna private trust founded bengaluru based allows users rent furniture month \n",
      "실제 요약 : aamir backed startup raises cr \n",
      "예측 요약 :  aamir backed startup raises crore\n",
      "\n",
      "\n",
      "원문 : delhi government decision allow free rides buses five days odd even scheme city could lead estimated loss crore officials said added burden us already making losses official said notably implemented encourage use public transport \n",
      "실제 요약 : free bus even scheme cost crore \n",
      "예측 요약 :  delhi metro free free free\n",
      "\n",
      "\n",
      "원문 : india world cup winning captain kapil dev made test debut october player test runs test wickets also holds record innings complete career without run best bowling figures test innings losing cause \n",
      "실제 요약 : kapil player runs wickets tests \n",
      "예측 요약 :  kapil vijay innings career career\n",
      "\n",
      "\n",
      "원문 : television actor karan said shot hours straight one shows lot episodes shot previously scrapped running time option added karan said sleep two hours take food sets \n",
      "실제 요약 : shot hrs straight tv show karan \n",
      "예측 요약 :  shot dead show\n",
      "\n",
      "\n",
      "원문 : assam sunday recorded estimate voter turnout second phase panchayat polls barring three incidents complaints received districts held polling peaceful state election commissioner said district recorded highest voter turnout added \n",
      "실제 요약 : assam records nd polls \n"
     ]
    },
    {
     "name": "stdout",
     "output_type": "stream",
     "text": [
      "예측 요약 :  gujarat records\n",
      "\n",
      "\n",
      "원문 : new zealand thursday ardern country third woman youngest prime minister years year old lead three party government pledged tackle climate change child poverty ardern elected leader labour party less three months polls \n",
      "실제 요약 : becomes new zealand youngest pm yrs \n",
      "예측 요약 :  nz nz nz nz nz pm\n",
      "\n",
      "\n",
      "원문 : photo sharing platform instagram recently updated video sound feature videos sound turned app closed users still tap speaker icon bottom left videos back silent however app closed sound feature automatically \n",
      "실제 요약 : instagram videos turned \n",
      "예측 요약 :  instagram video shows\n",
      "\n",
      "\n",
      "원문 : katrina kaif shared video swimming underwater alongside whale shark philippines world oceans day thursday video first shared underwater photographer verma working katrina shoot vogue india meanwhile actresses including parineeti chopra ileana cruz shared pictures mark world oceans day \n",
      "실제 요약 : katrina shares video whale \n",
      "예측 요약 :  katrina shares video blue whale challenge\n",
      "\n",
      "\n",
      "원문 : egyptian artist mohammed seeks set guinness world record creating largest recently created metre long stated self funded project past three years decorated displayed wooden box end \n",
      "실제 요약 : artist seeks set world record \n",
      "예측 요약 :  german artist sets record record\n",
      "\n",
      "\n",
      "원문 : two women found murdered toilets trains route assam two days police serial killer role victims hailed bihar strangled death killer leaving towel behind leaving behind must way sending message police said \n",
      "실제 요약 : women killed train toilets role suspected \n",
      "예측 요약 :  women found dead train madhya pradesh\n",
      "\n",
      "\n",
      "원문 : husband wife duo tom founded british luxury retailer com million crore selling majority stake online designer reportedly keep million stake business sells brands like notably couple started fashion retail one shop years ago \n",
      "실제 요약 : couple makes crore sale fashion stake \n",
      "예측 요약 :  wife buys stake stake crore\n",
      "\n",
      "\n",
      "원문 : fashion brand city based los angeles usa created designer shorts paired shirts men available various colours including pink blue green shirts shorts available pre sale around per item \n",
      "실제 요약 : fashion makes men \n",
      "예측 요약 :  launches\n",
      "\n",
      "\n",
      "원문 : meeting canadian pm justin trudeau punjab cm amarinder singh said given issue looked singh also met canadian defence minister allegedly called refused meet comes amid reports nda government trudeau stance \n",
      "실제 요약 : canada pm look issue punjab cm \n",
      "예측 요약 :  attend swaraj\n",
      "\n",
      "\n",
      "원문 : president bharatiya marathi joshi wednesday resigned amidst criticism invite meet extended writer withdrawn portrayed wrong manner plan meet explain situation said meet scheduled take place january \n",
      "실제 요약 : body chief resigns row \n",
      "예측 요약 :  president resigns\n",
      "\n",
      "\n",
      "원문 : instagram allows users share another user story story mentioned story someone mentioned user story receive notification message person option add story appear however public accounts stories shared \n",
      "실제 요약 : instagram lets users share story \n",
      "예측 요약 :  instagram user tweets user\n",
      "\n",
      "\n",
      "원문 : shares delhi based pc jeweller extended losses sixth straight session friday crashing nearly company said found reason fall clarified makes events information effect company performance company market capitalisation crore \n",
      "실제 요약 : shares firm says fall \n",
      "예측 요약 :  delhi stock falls\n",
      "\n",
      "\n",
      "원문 : singapore founded gaming company unveiled project concept ces smartphone full laptop features inch display shell recently launched phone functions laptop hardware runs laptop sized version android smartphone \n",
      "실제 요약 : project turns smartphone \n",
      "예측 요약 :  startup unveils smart\n",
      "\n",
      "\n",
      "원문 : social media platform facebook reported almost hour many users india users reported able access version website users also reported company photo sharing app instagram accessible previously facebook owned whatsapp faced global outage new year eve \n",
      "실제 요약 : facebook faces hour long users india \n",
      "예측 요약 :  facebook working users share india\n",
      "\n",
      "\n",
      "원문 : niti aayog said severe main problem facing india instead unemployment three year action plan released think tank added need promote creation high high wage jobs stated low rates unemployment reported government three decades \n",
      "실제 요약 : india \n",
      "예측 요약 :  non\n",
      "\n",
      "\n",
      "원문 : vicky kaushal talking upcoming film said karan said version kabhi khushi mughal era excited equally part world film directed karan johar also star ranveer singh kareena kapoor khan alia bhatt \n",
      "실제 요약 : part world \n",
      "예측 요약 :  karan johar\n",
      "\n",
      "\n",
      "원문 : finance ministry tuesday said operations bank accounts lakh companies restricted government said names companies struck register companies failing comply regulatory requirements existing directors authorised struck firms become ex directors ex authorised \n",
      "실제 요약 : govt operations lakh firms bank accounts \n",
      "예측 요약 :  govt bank data\n",
      "\n",
      "\n",
      "원문 : world number one rafael nadal friday defeated world number six juan martin del enter th french open final th grand slam final time french open winner face maiden grand slam austria summit clash sunday notably nadal lost two matches \n",
      "실제 요약 : time champion nadal enters th french open final \n",
      "예측 요약 :  nadal wins th match th grand slam final\n",
      "\n",
      "\n",
      "원문 : family delhi based journalist filed fir government hospital negligence sent buy medicines even complained severe chest pain survived heart attack last year reportedly died collapsed standing friday last week \n",
      "실제 요약 : journalist sent hospital buy dies \n",
      "예측 요약 :  doctor files fir food hospital\n",
      "\n",
      "\n",
      "원문 : snapchat parent company snap friday said cut global workforce march primarily affecting engineering sales teams result reduction force snap expects savings approximately million reduction force resources around top strategic snap said filings \n",
      "실제 요약 : snapchat parent cuts global march \n",
      "예측 요약 :  snapchat stock\n",
      "\n",
      "\n",
      "원문 : bsf jawan seven day pay cut putting shri referring pm narendra modi bsf later order said concerned dealing matter jawan reportedly used term modi programme parade giving report \n",
      "실제 요약 : jawan pay cut using pm name \n",
      "예측 요약 :  bsf jawan pay tribute\n",
      "\n",
      "\n",
      "원문 : election commission rejected nomination filed upcoming presidential elections man claiming god appeal heavy magnitude earthquake appear new delhi man nomination said candidates like kumar ram nath kovind elected magic added \n",
      "실제 요약 : ec rejects prez candidate god \n",
      "예측 요약 :  ec rejects polls\n",
      "\n",
      "\n"
     ]
    }
   ],
   "source": [
    "for i in range(50, 100):\n",
    "    print(\"원문 :\", seq2text(encoder_input_test[i]))\n",
    "    print(\"실제 요약 :\", seq2summary(decoder_input_test[i]))\n",
    "    print(\"예측 요약 :\", decode_sequence(encoder_input_test[i].reshape(1, text_max_len)))\n",
    "    print(\"\\n\")"
   ]
  },
  {
   "cell_type": "code",
   "execution_count": null,
   "metadata": {},
   "outputs": [],
   "source": []
  },
  {
   "cell_type": "code",
   "execution_count": 101,
   "metadata": {},
   "outputs": [],
   "source": [
    "#!pip install summa"
   ]
  },
  {
   "cell_type": "code",
   "execution_count": 2,
   "metadata": {},
   "outputs": [],
   "source": [
    "import requests\n",
    "from summa.summarizer import summarize"
   ]
  },
  {
   "cell_type": "code",
   "execution_count": 12,
   "metadata": {},
   "outputs": [],
   "source": [
    "# 빨강머리앤 1권 : Gutenberg Project 저작권 완료된 도서\n",
    "file = open('./data/anne11.txt', 'r')\n",
    "\n",
    "# file 객체에서 문자열을 읽은 후 변수 t에 저장\n",
    "t = file.read()"
   ]
  },
  {
   "cell_type": "code",
   "execution_count": 13,
   "metadata": {},
   "outputs": [
    {
     "data": {
      "text/plain": [
       "574936"
      ]
     },
     "execution_count": 13,
     "metadata": {},
     "output_type": "execute_result"
    }
   ],
   "source": [
    "len(t)"
   ]
  },
  {
   "cell_type": "code",
   "execution_count": 17,
   "metadata": {},
   "outputs": [
    {
     "data": {
      "text/plain": [
       "'ng to make it appear I was reading a\\nhistory when it was a storybook instead.  I had never realized\\nuntil that moment, Marilla, that what I was doing was deceitful.\\nI was shocked.  I cried bitterly, and asked Miss Stacy to forgive\\nme and I\\'d never do such a thing again; and I offered to do\\npenance by never so much as looking at Ben Hur for a whole week,\\nnot even to see how the chariot race turned out.  But Miss Stacy\\nsaid she wouldn\\'t require that, and she forgave me freely.  So I\\nthink it wasn\\'t very kind of her to come up here to you about it\\nafter all.\"\\n\\n\"Miss Stacy never mentioned such a thing to me, Anne, and its\\nonly your guilty conscience that\\'s the matter with you.  You have\\nno business to be taking storybooks to school.  You read too many\\nnovels anyhow.  When I was a girl I wasn\\'t so much as allowed to\\nlook at a novel.\"\\n\\n\"Oh, how can you call Ben Hur a novel when it\\'s really such a\\nreligious book?\" protested Anne.  \"Of course it\\'s a little too\\nexciting to be proper reading for Sunday, and I only read it on\\nweekdays.  And I never read ANY book now unless either Miss Stacy\\nor Mrs. Allan thinks it is a proper book for a girl thirteen and\\nthree-quarters to read.  Miss Stacy made me promise that.  She\\nfound me reading a book one day called, The Lurid Mystery of the\\nHaunted Hall.  It was one Ruby Gillis had lent me, and, oh,\\nMarilla, it was so fascinating and creepy.  It just curdled the\\nblood in my veins.  But Miss Stacy said it was a very silly,\\nunwholesome book, and she asked me not to read any more of it or\\nany like it.  I didn\\'t mind promising not to read any more like\\nit, but it was AGONIZING to give back that book without knowing\\nhow it turned out.  But my love for Miss Stacy stood the test and\\nI did.  It\\'s really wonderful, Marilla, what you can do when\\nyou\\'re truly anxious to please a certain person.\"\\n\\n\"Well, I guess I\\'ll light the lamp and get to work,\" said\\nMarilla.  \"I see plainly that you don\\'t want to hear what Miss\\nStacy had to say.  You\\'re more interested in the sound of your\\nown tongue than in anything else.\"\\n\\n\"Oh, indeed, Marilla, I do want to hear it,\" cried Anne contritely.\\n\"I won\\'t say another word--not one.  I know I talk too much, but I\\nam really trying to overcome it, and although I say far too much,\\nyet if you only knew how many things I want to say and don\\'t,\\nyou\\'d give me some credit for it.  Please tell me, Marilla.\"\\n\\n\"Well, Miss Stacy wants to organize a class among her advanced\\nstudents who mean to study for the entrance examination into\\nQueen\\'s.  She intends to give them extra lessons for an hour\\nafter school.  And she came to ask Matthew and me if we would\\nlike to have you join it.  What do you think about it yourself,\\nAnne?  Would you like to go to Queen\\'s and pass for a teacher?\"\\n\\n\"Oh, Marilla!\" Anne straightened to her knees and clasped her\\nhands.  \"It\\'s been the dream of my life--that is, for the last\\nsix months, ever since Ruby and Jane began to talk of studying\\nfor the Entrance.  But I didn\\'t say anything about it, because I\\nsupposed it would be perfectly useless.  I\\'d love to be a teacher.\\nBut won\\'t it be dreadfully expensive?  Mr. Andrews says it cost\\nhim one hundred and fifty dollars to put Prissy through, and\\nPrissy wasn\\'t a dunce in geometry.\"\\n\\n\"I guess you needn\\'t worry about that part of it.  When Matthew\\nand I took you to bring up we resolved we would do the best we\\ncould for you and give you a good education.  I believe in a girl\\nbeing fitted to earn her own living whether she ever has to or not.\\nYou\\'ll always have a home at Green Gables as long as Matthew and\\nI are here, but nobody knows what is going to happen in this\\nuncertain world, and it\\'s just as well to be prepared.\\nSo you can join the Queen\\'s class if you like, Anne.\"\\n\\n\"Oh, Marilla, thank you.\" Anne flung her arms about Marilla\\'s\\nwaist and looked up earnestly into her face.  \"I\\'m extremely\\ngrateful to you and Matthew.  And I\\'ll study as hard as I can and\\ndo my very best to be a credit to you.  I warn you not to expect\\nmuch in geometry, but I think I can hold my own in anything else\\nif I work hard.\"\\n\\n\"I dare say you\\'ll get along well enough.  Miss Stacy says you\\nare bright and diligent.\"  Not for worlds would Marilla have told\\nAnne just what Miss Stacy had said about her; that would have\\nbeen to pamper vanity.  \"You needn\\'t rush to any extreme of\\nkilling yourself over your books.  There is no hurry.  You won\\'t\\nbe ready to try the Entrance for a year and a half yet.  But it\\'s\\nwell to begin in time and be thoroughly grounded, Miss Stacy says.\"\\n\\n\"I shall take more interest than ever in my studies now,\" said\\nAnne blissfully, \"because I have a purpose in life.  Mr. Allan\\nsays everybody should have a purpose in life and pursue it\\nfaithfully.  Only he says we must first make sure that it is a\\nworthy purpose.  I would call it a worthy purpose to want to be a\\nteacher like Miss Stacy, wouldn\\'t you, Marilla?  I think it\\'s a\\nvery noble profession.\"\\n\\nThe Queen\\'s class was organized in due time.  Gilbert Blythe,\\nAnne Shirley, Ruby Gillis, Jane Andrews, Josie Pye, Charlie\\nSloane, and Moody Spurgeon MacPherson joined it.  Diana Barry did\\nnot, as her parents did not intend to send her to Queen\\'s.  This\\nseemed nothing short of a calamity to Anne.  Never, since the\\nnight on which Minnie May had had the croup, had she and Diana\\nbeen separated in anything.  On the evening when the Queen\\'s\\nclass first remained in school for the extra lessons and Anne saw\\nDiana go slowly out with the others, to walk home alone through\\nthe Birch Path and Violet Vale, it was all the former could do to\\nkeep her seat and refrain from rushing impulsively after her chum.\\nA lump came into her throat, and she hastily retired behind the\\npages of her uplifted Latin grammar to hide the tears in her eyes.\\nNot for worlds would Anne have had Gilbert Blythe or Josie Pye\\nsee those tears.\\n\\n\"But, oh, Marilla, I really felt that I had tasted the bitterness\\nof death, as Mr. Allan said in his sermon last Sunday, when I\\nsaw Diana go out alone,\" she said mournfully that night.  \"I\\nthought how splendid it would have been if Diana had only been\\ngoing to study for the Entrance, too.  But we can\\'t have things\\nperfect in this imperfect world, as Mrs. Lynde says.  Mrs. Lynde\\nisn\\'t exactly a comforting person sometimes, but there\\'s no\\ndoubt she says a great many very true things.  And I think the\\nQueen\\'s class is going to be extremely interesting.  Jane and\\nRuby are just going to study to be teachers.  That is the height\\nof their ambition.  Ruby says she will only teach for two years\\nafter she gets through, and then she intends to be married.  Jane\\nsays she will devote her whole life to teaching, and never, never\\nmarry, because you are paid a salary for teaching, but a husband\\nwon\\'t pay you anything, and growls if you ask for a share in the\\negg and butter money.  I expect Jane speaks from mournful\\nexperience, for Mrs. Lynde says that her father is a perfect old\\ncrank, and meaner than second skimmings.  Josie Pye says she is\\njust going to college for education\\'s sake, because she won\\'t\\nhave to earn her own living; she says of course it is different\\nwith orphans who are living on charity--THEY have to hustle.\\nMoody Spurgeon is going to be a minister.  Mrs. Lynde says he\\ncouldn\\'t be anything else with a name like that to live up to.\\nI hope it isn\\'t wicked of me, Marilla, but really the thought of\\nMoody Spurgeon being a minister makes me laugh.  He\\'s such a\\nfunny-looking boy with that big fat face, and his little blue\\neyes, and his ears sticking out like flaps.  But perhaps he will\\nbe more intellectual looking when he grows up.  Charlie Sloane\\nsays he\\'s going to go into politics and be a member of\\nParliament, but Mrs. Lynde says he\\'ll never succeed at that,\\nbecause the Sloanes are all honest people, and it\\'s only rascals\\nthat get on in politics nowadays.\"\\n\\n\"What is Gilbert Blythe going to be?\" queried Marilla, seeing\\nthat Anne was opening her Caesar.\\n\\n\"I don\\'t happen to know what Gilbert Blythe\\'s ambition in life is--\\nif he has any,\" said Anne scornfully.\\n\\nThere was open rivalry between Gilbert and Anne now.  Previously\\nthe rivalry had been rather onesided, but there was no longer any\\ndoubt that Gilbert was as determined to be first in class as Anne was.\\nHe was a foeman worthy of her steel.  The other members of the class\\ntacitly acknowledged their superiority, and never dreamed of trying\\nto compete with them.\\n\\nSince the day by the pond when she had refused to listen to his\\nplea for forgiveness, Gilbert, save for the aforesaid determined\\nrivalry, had evinced no recognition whatever of the existence of\\nAnne Shirley.  He talked and jested with the other girls, exchanged\\nbooks and puzzles with them, discussed lessons and plans, sometimes\\nwalked home with one or the other of them from prayer meeting or\\nDebating Club.  But Anne Shirley he simply ignored, and Anne found\\nout that it is not pleasant to be ignored.  It was in vain that\\nshe told herself with a toss of her head that she did not care.\\nDeep down in her wayward, feminine little heart she knew that\\nshe did care, and that if she had that chance of the Lake of\\nShining Waters again she would answer very differently.\\nAll at once, as it seemed, and to her secret dismay, she\\nfound that the old resentment she had cherished against him\\nwas gone--gone just when she most needed its sustaining power.\\nIt was in vain that she recalled every incident and emotion of\\nthat memorable occasion and tried to feel the old satisfying anger.\\nThat day by the pond had witnessed its last spasmodic flicker.\\nAnne realized that she had forgiven and forgotten without knowing it.\\nBut it was too late.\\n\\nAnd at least neither Gilbert nor anybody else, not even Diana,\\nshould ever suspect how sorry she was and how much she wished she\\nhadn\\'t been so proud and horrid!  She determined to \"shroud her\\nfeelings in deepest oblivion,\" and it may be stated here and now\\nthat she did it, so successfully that Gilbert, who possibly was\\nnot quite so indifferent as he seemed, could not console himself\\nwith any belief that Anne felt his retaliatory scorn.  The only\\npoor comfort he had was that she snubbed Charlie Sloane,\\nunmercifully, continually, and undeservedly.\\n\\nOtherwise the winter passed away in a round of pleasant duties\\nand studies.  For Anne the days slipped by like golden beads on\\nthe necklace of the year.  She was happy, eager, interested;\\nthere were lessons to be learned and honor to be won; delightful\\nbooks to read; new pieces to be practiced for the Sunday-school\\nchoir; pleasant Saturday afternoons at the manse with Mrs. Allan;\\nand then, almost before Anne realized it, spring had come again\\nto Green Gables and all the world was abloom once more.\\n\\nStudies palled just a wee bit then; the Queen\\'s class, left\\nbehind in school while the others scattered to green lanes and\\nleafy wood cuts and meadow byways, looked wistfully out of the\\nwindows and discovered that Latin verbs and French exercises had\\nsomehow lost the tang and zest they had possessed in the crisp\\nwinter months.  Even Anne and Gilbert lagged and grew indifferent.\\nTeacher and taught were alike glad when the term was ended and the\\nglad vacation days stretched rosily before them.\\n\\n\"But you\\'ve done good work this past year,\" Miss Stacy told them\\non the last evening, \"and you deserve a good, jolly vacation.\\nHave the best time you can in the out-of-door world and lay in a\\ngood stock of health and vitality and ambition to carry you\\nthrough next year.  It will be the tug of war, you know--the last\\nyear before the Entrance.\"\\n\\n\"Are you going to be back next year, Miss Stacy?\" asked Josie Pye.\\n\\nJosie Pye never scrupled to ask questions; in this instance the\\nrest of the class felt grateful to her; none of them would have\\ndared to ask it of Miss Stacy, but all wanted to, for there had\\nbeen alarming rumors running at large through the school for some\\ntime that Miss Stacy was not coming back the next year--that she\\nhad been offered a position in the grade school of her own home\\ndistrict and meant to accept.  The Queen\\'s class listened in\\nbreathless suspense for her answer.\\n\\n\"Yes, I think I will,\" said Miss Stacy.  \"I thought of taking\\nanother school, but I have decided to come back to Avonlea.  To\\ntell the truth, I\\'ve grown so interested in my pupils here that I\\nfound I couldn\\'t leave them.  So I\\'ll stay and see you through.\"\\n\\n\"Hurrah!\" said Moody Spurgeon.  Moody Spurgeon had never been so\\ncarried away by his feelings before, and he blushed uncomfortably\\nevery time he thought about it for a week.\\n\\n\"Oh, I\\'m so glad,\" said Anne, with shining eyes.  \"Dear Stacy, it would\\nbe perfectly dreadful if you didn\\'t come back.  I don\\'t believe I could\\nhave the heart to go on with my studies at all if another teacher came here.\"\\n\\nWhen Anne got home that night she stacked all her textbooks away\\nin an old trunk in the attic, locked it, and threw the key into\\nthe blanket box.\\n\\n\"I\\'m not even going to look at a schoolbook in vacation,\" she\\ntold Marilla.  \"I\\'ve studied as hard all the term as I possibly\\ncould and I\\'ve pored over that geometry until I know every\\nproposition in the first book off by heart, even when the letters\\nARE changed.  I just feel tired of everything sensible and I\\'m\\ngoing to let my imagination run riot for the summer.  Oh, you\\nneedn\\'t be alarmed, Marilla.  I\\'ll only let it run riot within\\nreasonable limits.  But I want to have a real good jolly time\\nthis summer, for maybe it\\'s the last summer I\\'ll be a little\\ngirl.  Mrs. Lynde says that if I keep stretching out next year\\nas I\\'ve done this I\\'ll have to put on longer skirts.  She says\\nI\\'m all running to legs and eyes.  And when I put on longer skirts\\nI shall feel that I have to live up to them and be very dignified.\\nIt won\\'t even do to believe in fairies then, I\\'m afraid; so I\\'m\\ngoing to believe in them with all my whole heart this summer.\\nI think we\\'re going to have a very gay vacation.  Ruby Gillis\\nis going to have a birthday party soon and there\\'s the Sunday\\nschool picnic and the missionary concert next month.\\nAnd Mr. Barry says that some evening he\\'ll take Diana and me\\nover to the White Sands Hotel and have dinner there.  They have\\ndinner there in the evening, you know.  Jane Andrews was over\\nonce last summer and she says it was a dazzling sight to see the\\nelectric lights and the flowers and all the lady guests in such\\nbeautiful dresses.  Jane says it was her first glimpse into high\\nlife and she\\'ll never forget it to her dying day.\"\\n\\nMrs. Lynde came up the next afternoon to find out why Marilla had\\nnot been at the Aid meeting on Thursday.  When Marilla was not at\\nAid meeting people knew there was something wrong at Green Gables.\\n\\n\"Matthew had a bad spell with his heart Thursday,\" Marilla\\nexplained, \"and I didn\\'t feel like leaving him.  Oh, yes, he\\'s\\nall right again now, but he takes them spells oftener than he\\nused to and I\\'m anxious about him.  The doctor says he must be\\ncareful to avoid excitement.  That\\'s easy enough, for Matthew\\ndoesn\\'t go about looking for excitement by any means and never did,\\nbut he\\'s not to do any very heavy work either and you might as well\\ntell Matthew not to breathe as not to work.  Come and lay off your\\nthings, Rachel.  You\\'ll stay to tea?\"\\n\\n\"Well, seeing you\\'re so pressing, perhaps I might as well, stay\"\\nsaid Mrs. Rachel, who had not the slightest intention of doing\\nanything else.\\n\\nMrs. Rachel and Marilla sat comfortably in the parlor while Anne\\ngot the tea and made hot biscuits that were light and white\\nenough to defy even Mrs. Rachel\\'s criticism.\\n\\n\"I must say Anne has turned out a real smart girl,\" admitted\\nMrs. Rachel, as Marilla accompanied her to the end of the lane\\nat sunset.  \"She must be a great help to you.\"\\n\\n\"She is,\" said Marilla, \"and she\\'s real steady and reliable now.\\nI used to be afraid she\\'d never get over her featherbrained ways,\\nbut she has and I wouldn\\'t be afraid to trust her in anything now.\"\\n\\n\"I never would have thought she\\'d have turned out so well that\\nfirst day I was here three years ago,\" said Mrs. Rachel.\\n\"Lawful heart, shall I ever forget that tantrum of hers!\\nWhen I went home that night I says to Thomas, says I, `Mark my words,\\nThomas, Marilla Cuthbert\\'ll live to rue the step she\\'s took.\\' But\\nI was mistaken and I\\'m real glad of it.  I ain\\'t one of those\\nkind of people, Marilla, as can never be brought to own up that\\nthey\\'ve made a mistake.  No, that never was my way, thank goodness.\\nI did make a mistake in judging Anne, but it weren\\'t no wonder,\\nfor an odder, unexpecteder witch of a child there never was in\\nthis world, that\\'s what.  There was no ciphering her out by\\nthe rules that worked with other children.  It\\'s nothing\\nshort of wonderful how she\\'s improved these three years, but\\nespecially in looks.  She\\'s a real pretty girl got to be, though I\\ncan\\'t say I\\'m overly partial to that pale, big-eyed style myself.\\nI like more snap and color, like Diana Barry has or Ruby Gillis.\\nRuby Gillis\\'s looks are real showy.  But somehow--I don\\'t know\\nhow it is but when Anne and them are together, though she ain\\'t\\nhalf as handsome, she makes them look kind of common and overdone--\\nsomething like them white June lilies she calls narcissus alongside\\nof the big, red peonies, that\\'s what.\"\\n\\n\\n\\n\\nCHAPTER XXXI\\n\\nWhere the Brook and River Meet\\n\\n\\nAnne had her \"good\" summer and enjoyed it wholeheartedly.  She\\nand Diana fairly lived outdoors, reveling in all the delights\\nthat Lover\\'s Lane and the Dryad\\'s Bubble and Willowmere and\\nVictoria Island afforded.  Marilla offered no objections to\\nAnne\\'s gypsyings.  The Spencervale doctor who had come the night\\nMinnie May had the croup met Anne at the house of a patient one\\nafternoon early in vacation, looked her over sharply, screwed up\\nhis mouth, shook his head, and sent a message to Marilla Cuthbert\\nby another person.  It was:\\n\\n\"Keep that redheaded girl of yours in the open air all summer and\\ndon\\'t let her read books until she gets more spring into her step.\"\\n\\nThis message frightened Marilla wholesomely.  She read Anne\\'s death\\nwarrant by consumption in it unless it was scrupulously obeyed.\\nAs a result, Anne had the golden summer of her life as far as\\nfreedom and frolic went.  She walked, rowed, berried, and dreamed\\nto her heart\\'s content; and when September came she was bright-eyed\\nand alert, with a step that would have satisfied the Spencervale\\ndoctor and a heart full of ambition and zest once more.\\n\\n\"I feel just like studying with might and main,\" she declared as\\nshe brought her books down from the attic.  \"Oh, you good old\\nfriends, I\\'m glad to see your honest faces once more--yes, even\\nyou, geometry.  I\\'ve had a perfectly beautiful summer, Marilla,\\nand now I\\'m rejoicing as a strong man to run a race, as Mr. Allan\\nsaid last Sunday.  Doesn\\'t Mr. Allan preach magnificent sermons?\\nMrs. Lynde says he is improving every day and the first thing we\\nknow some city church will gobble him up and then we\\'ll be left\\nand have to turn to and break in another green preacher.  But I\\ndon\\'t see the use of meeting trouble halfway, do you, Marilla?  I\\nthink it would be better just to enjoy Mr. Allan while we have him.\\nIf I were a man I think I\\'d be a minister.  They can have such\\nan influence for good, if their theology is sound; and it\\nmust be thrilling to preach splendid sermons and stir your\\nhearers\\' hearts.  Why can\\'t women be ministers, Marilla?  I asked\\nMrs. Lynde that and she was shocked and said it would be a\\nscandalous thing.  She said there might be female ministers in\\nthe States and she believed there was, but thank goodness we hadn\\'t\\ngot to that stage in Canada yet and she hoped we never would.\\nBut I don\\'t see why.  I think women would make splendid ministers.\\nWhen there is a social to be got up or a church tea or anything\\nelse to raise money the women have to turn to and do the work.\\nI\\'m sure Mrs. Lynde can pray every bit as well as Superintendent\\nBell and I\\'ve no doubt she could preach too with a little practice.\"\\n\\n\"Yes, I believe she could,\" said Marilla dryly.  \"She does plenty\\nof unofficial preaching as it is.  Nobody has much of a chance to\\ngo wrong in Avonlea with Rachel to oversee them.\"\\n\\n\"Marilla,\" said Anne in a burst of confidence, \"I want to tell\\nyou something and ask you what you think about it.  It has\\nworried me terribly--on Sunday afternoons, that is, when I think\\nspecially about such matters.  I do really want to be good; and\\nwhen I\\'m with you or Mrs. Allan or Miss Stacy I want it more\\nthan ever and I want to do just what would please you and what\\nyou would approve of.  But mostly when I\\'m with Mrs. Lynde I\\nfeel desperately wicked and as if I wanted to go and do the very\\nthing she tells me I oughtn\\'t to do.  I feel irresistibly tempted\\nto do it.  Now, what do you think is the reason I feel like that?\\nDo you think it\\'s because I\\'m really bad and unregenerate?\"\\n\\nMarilla looked dubious for a moment.  Then she laughed.\\n\\n\"If you are I guess I am too, Anne, for Rachel often has that\\nvery effect on me.  I sometimes think she\\'d have more of an\\ninfluence for good, as you say yourself, if she didn\\'t keep\\nnagging people to do right.  There should have been a special\\ncommandment against nagging.  But there, I shouldn\\'t talk so.\\nRachel is a good Christian woman and she means well.  There isn\\'t\\na kinder soul in Avonlea and she never shirks her share of work.\"\\n\\n\"I\\'m very glad you feel the same,\" said Anne decidedly.  \"It\\'s so\\nencouraging.  I shan\\'t worry so much over that after this.  But I\\ndare say there\\'ll be other things to worry me.  They keep coming\\nup new all the time--things to perplex you, you know.  You settle\\none question and there\\'s another right after.  There are so many\\nthings to be thought over and decided when you\\'re beginning to\\ngrow up.  It keeps me busy all the time thinking them over and\\ndeciding what is right.  It\\'s a serious thing to grow up, isn\\'t\\nit, Marilla?  But when I have such good friends as you and\\nMatthew and Mrs. Allan and Miss Stacy I ought to grow up\\nsuccessfully, and I\\'m sure it will be my own fault if I don\\'t.\\nI feel it\\'s a great responsibility because I have only the one\\nchance.  If I don\\'t grow up right I can\\'t go back and begin over\\nagain.  I\\'ve grown two inches this summer, Marilla.  Mr. Gillis\\nmeasured me at Ruby\\'s party.  I\\'m so glad you made my new dresses\\nlonger.  That dark-green one is so pretty and it was sweet of you\\nto put on the flounce.  Of course I know it wasn\\'t really\\nnecessary, but flounces are so stylish this fall and Josie Pye\\nhas flounces on all her dresses.  I know I\\'ll be able to study\\nbetter because of mine.  I shall have such a comfortable feeling\\ndeep down in my mind about that flounce.\"\\n\\n\"It\\'s worth something to have that,\" admitted Marilla.\\n\\nMiss Stacy came back to Avonlea school and found all her pupils\\neager for work once more.  Especially did the Queen\\'s class gird\\nup their loins for the fray, for at the end of the coming year,\\ndimly shadowing their pathway already, loomed up that fateful\\nthing known as \"the Entrance,\" at the thought of which one and\\nall felt their hearts sink into their very shoes.  Suppose they\\ndid not pass!  That thought was doomed to haunt Anne through the\\nwaking hours of that winter, Sunday afternoons inclusive, to the\\nalmost entire exclusion of moral and theological problems.  When\\nAnne had bad dreams she found herself staring miserably at pass\\nlists of the Entrance exams, where Gilbert Blythe\\'s name was\\nblazoned at the top and in which hers did not appear at all.\\n\\nBut it was a jolly, busy, happy swift-flying winter.  Schoolwork\\nwas as interesting, class rivalry as absorbing, as of yore.  New\\nworlds of thought, feeling, and ambition, fresh, fascinating\\nfields of unexplored knowledge seemed to be opening out before\\nAnne\\'s eager eyes.\\n\\n\\n           \"Hills peeped o\\'er hill and Alps on Alps arose.\"\\n\\n\\nMuch of all this was due to Miss Stacy\\'s tactful, careful,\\nbroadminded guidance.  She led her class to think and explore and\\ndiscover for themselves and encouraged straying from the old\\nbeaten paths to a degree that quite shocked Mrs. Lynde and the\\nschool trustees, who viewed all innovations on established\\nmethods rather dubiously.\\n\\nApart from her studies Anne expanded socially, for Marilla,\\nmindful of the Spencervale doctor\\'s dictum, no longer vetoed\\noccasional outings.  The Debating Club flourished and gave\\nseveral concerts; there were one or two parties almost verging on\\ngrown-up affairs; there were sleigh drives and skating frolics galore.\\n\\nBetweentimes Anne grew, shooting up so rapidly that Marilla was\\nastonished one day, when they were standing side by side, to find\\nthe girl was taller than herself.\\n\\n\"Why, Anne, how you\\'ve grown!\" she said, almost unbelievingly.  A\\nsigh followed on the words.  Marilla felt a queer regret over\\nAnne\\'s inches.  The child she had learned to love had vanished\\nsomehow and here was this tall, serious-eyed girl of fifteen,\\nwith the thoughtful brows and the proudly poised little head, in\\nher place.  Marilla loved the girl as much as she had loved the\\nchild, but she was conscious of a queer sorrowful sense of loss.\\nAnd that night, when Anne had gone to prayer meeting with Diana,\\nMarilla sat alone in the wintry twilight and indulged in the\\nweakness of a cry.  Matthew, coming in with a lantern, caught her\\nat it and gazed at her in such consternation that Marilla had to\\nlaugh through her tears.\\n\\n\"I was thinking about Anne,\" she explained.  \"She\\'s got to be\\nsuch a big girl--and she\\'ll probably be away from us next winter.\\nI\\'ll miss her terrible.\"\\n\\n\"She\\'ll be able to come home often,\" comforted Matthew, to whom\\nAnne was as yet and always would be the little, eager girl he had\\nbrought home from Bright River on that June evening four years before.\\n\"The branch railroad will be built to Carmody by that time.\"\\n\\n\"It won\\'t be the same thing as having her here all the time,\"\\nsighed Marilla gloomily, determined to enjoy her luxury of grief\\nuncomforted.  \"But there--men can\\'t understand these things!\"\\n\\nThere were other changes in Anne no less real than the physical change.\\nFor one thing, she became much quieter.  Perhaps she thought all the\\nmore and dreamed as much as ever, but she certainly talked less.\\nMarilla noticed and commented on this also.\\n\\n\"You don\\'t chatter half as much as you used to, Anne, nor use\\nhalf as many big words.  What has come over you?\"\\n\\nAnne colored and laughed a little, as she dropped her book and looked\\ndreamily out of the window, where big fat red buds were bursting out\\non the creeper in response to the lure of the spring sunshine.\\n\\n\"I don\\'t know--I don\\'t want to talk as much,\" she said, denting her\\nchin thoughtfully with her forefinger.  \"It\\'s nicer to think dear,\\npretty thoughts and keep them in one\\'s heart, like treasures.\\nI don\\'t like to have them laughed at or wondered over.\\nAnd somehow I don\\'t want to use big words any more.\\nIt\\'s almost a pity, isn\\'t it, now that I\\'m really growing\\nbig enough to say them if I did want to.  It\\'s fun to be\\nalmost grown up in some ways, but it\\'s not the kind of fun\\nI expected, Marilla.  There\\'s so much to learn and do and think\\nthat there isn\\'t time for big words.  Besides, Miss Stacy says\\nthe short ones are much stronger and better.  She makes us write\\nall our essays as simply as possible.  It was hard at first.\\nI was so used to crowding in all the fine big words I could\\nthink of--and I thought of any number of them.  But I\\'ve got\\nused to it now and I see it\\'s so much better.\"\\n\\n\"What has become of your story club?  I haven\\'t heard you speak\\nof it for a long time.\"\\n\\n\"The story club isn\\'t in existence any longer.  We hadn\\'t time\\nfor it--and anyhow I think we had got tired of it.  It was silly\\nto be writing about love and murder and elopements and mysteries.\\nMiss Stacy sometimes has us write a story for training in\\ncomposition, but she won\\'t let us write anything but what might\\nhappen in Avonlea in our own lives, and she criticizes it very\\nsharply and makes us criticize our own too.  I never thought my\\ncompositions had so many faults until I began to look for them\\nmyself.  I felt so ashamed I wanted to give up altogether, but\\nMiss Stacy said I could learn to write well if I only trained\\nmyself to be my own severest critic.  And so I am trying to.\"\\n\\n\"You\\'ve only two more months before the Entrance,\" said Marilla.\\n\"Do you think you\\'ll be able to get through?\"\\n\\nAnne shivered.\\n\\n\"I don\\'t know.  Sometimes I think I\\'ll be all right--and then I\\nget horribly afraid.  We\\'ve studied hard and Miss Stacy has\\ndrilled us thoroughly, but we mayn\\'t get through for all that.\\nWe\\'ve each got a stumbling block.  Mine is geometry of course,\\nand Jane\\'s is Latin, and Ruby and Charlie\\'s is algebra, and\\nJosie\\'s is arithmetic.  Moody Spurgeon says he feels it in his\\nbones that he is going to fail in English history.  Miss Stacy is\\ngoing to give us examinations in June just as hard as we\\'ll have at\\nthe Entrance and mark us just as strictly, so we\\'ll have some idea.\\nI wish it was all over, Marilla.  It haunts me.  Sometimes I wake up\\nin the night and wonder what I\\'ll do if I don\\'t pass.\"\\n\\n\"Why, go to school next year and try again,\" said Marilla unconcernedly.\\n\\n\"Oh, I don\\'t believe I\\'d have the heart for it.  It would be such\\na disgrace to fail, especially if Gil--if the others passed.  And\\nI get so nervous in an examination that I\\'m likely to make a mess\\nof it.  I wish I had nerves like Jane Andrews.  Nothing rattles her.\"\\n\\nAnne sighed and, dragging her eyes from the witcheries of the\\nspring world, the beckoning day of breeze and blue, and the green\\nthings upspringing in the garden, buried herself resolutely in\\nher book.  There would be other springs, but if she did not\\nsucceed in passing the Entrance, Anne felt convinced that she\\nwould never recover sufficiently to enjoy them.\\n\\n\\n\\n\\n\\nCHAPTER XXXII\\n\\nThe Pass List Is Out\\n\\n\\nWith the end of June came the close of the term and the close of\\nMiss Stacy\\'s rule in Avonlea school.  Anne and Diana walked home that\\nevening feeling very sober indeed.  Red eyes and damp handkerchiefs\\nbore convincing testimony to the fact that Miss Stacy\\'s farewell words\\nmust have been quite as touching as Mr. Phillips\\'s had been under\\nsimilar circumstances three years before.  Diana looked back at the\\nschoolhouse from the foot of the spruce hill and sighed deeply.\\n\\n\"It does seem as if it was the end of everything, doesn\\'t it?\"\\nshe said dismally.\\n\\n\"You oughtn\\'t to feel half as badly as I do,\" said Anne, hunting\\nvainly for a dry spot on her handkerchief.  \"You\\'ll be back again\\nnext winter, but I suppose I\\'ve left the dear old school forever--\\nif I have good luck, that is.\"\\n\\n\"It won\\'t be a bit the same.  Miss Stacy won\\'t be there, nor you\\nnor Jane nor Ruby probably.  I shall have to sit all alone, for I\\ncouldn\\'t bear to have another deskmate after you.  Oh, we have had\\njolly times, haven\\'t we, Anne?  It\\'s dreadful to think they\\'re all over.\"\\n\\nTwo big tears rolled down by Diana\\'s nose.\\n\\n\"If you would stop crying I could,\" said Anne imploringly.  \"Just\\nas soon as I put away my hanky I see you brimming up and that\\nstarts me off again.  As Mrs. Lynde says, `If you can\\'t be cheerful,\\nbe as cheerful as you can.\\'  After all, I dare say I\\'ll be back\\nnext year.  This is one of the times I KNOW I\\'m not going to pass.\\nThey\\'re getting alarmingly frequent.\"\\n\\n\"Why, you came out splendidly in the exams Miss Stacy gave.\"\\n\\n\"Yes, but those exams didn\\'t make me nervous.  When I think of\\nthe real thing you can\\'t imagine what a horrid cold fluttery\\nfeeling comes round my heart.  And then my number is thirteen and\\nJosie Pye says it\\'s so unlucky.  I am NOT superstitious and I know\\nit can make no difference.  But still I wish it wasn\\'t thirteen.\"\\n\\n\"I do wish I was going in with you,\" said Diana.  \"Wouldn\\'t we\\nhave a perfectly elegant time?  But I suppose you\\'ll have to cram\\nin the evenings.\"\\n\\n\"No; Miss Stacy has made us promise not to open a book at all.\\nShe says it would only tire and confuse us and we are to go out\\nwalking and not think about the exams at all and go to bed early.\\nIt\\'s good advice, but I expect it will be hard to follow; good\\nadvice is apt to be, I think.  Prissy Andrews told me that she\\nsat up half the night every night of her Entrance week and\\ncrammed for dear life; and I had determined to sit up AT LEAST as\\nlong as she did.  It was so kind of your Aunt Josephine to ask me\\nto stay at Beechwood while I\\'m in town.\"\\n\\n\"You\\'ll write to me while you\\'re in, won\\'t you?\"\\n\\n\"I\\'ll write Tuesday night and tell you how the first day goes,\"\\npromised Anne.\\n\\n\"I\\'ll be haunting the post office Wednesday,\" vowed Diana.\\n\\nAnne went to town the following Monday and on Wednesday Diana\\nhaunted the post office, as agreed, and got her letter.\\n\\n\\n\"Dearest Diana\" [wrote Anne],\\n\\n\"Here it is Tuesday night and I\\'m writing this in the library at\\nBeechwood.  Last night I was horribly lonesome all alone in my\\nroom and wished so much you were with me.  I couldn\\'t \"cram\"\\nbecause I\\'d promised Miss Stacy not to, but it was as hard to\\nkeep from opening my history as it used to be to keep from\\nreading a story before my lessons were learned.\\n\\n\"This morning Miss Stacy came for me and we went to the Academy,\\ncalling for Jane and Ruby and Josie on our way.  Ruby asked me to\\nfeel her hands and they were as cold as ice.  Josie said I looked\\nas if I hadn\\'t slept a wink and she didn\\'t believe I was strong\\nenough to stand the grind of the teacher\\'s course even if I did get\\nthrough.  There are times and seasons even yet when I don\\'t feel\\nthat I\\'ve made any great headway in learning to like Josie Pye!\\n\\n\"When we reached the Academy there were scores of students there\\nfrom all over the Island.  The first person we saw was Moody\\nSpurgeon sitting on the steps and muttering away to himself.\\nJane asked him what on earth he was doing and he said he was\\nrepeating the multiplication table over and over to steady his\\nnerves and for pity\\'s sake not to interrupt him, because if he\\nstopped for a moment he got frightened and forgot everything he\\never knew, but the multiplication table kept all his facts firmly\\nin their proper place!\\n\\n\"When we were assigned to our rooms Miss Stacy had to leave us.\\nJane and I sat together and Jane was so composed that I envied her.\\nNo need of the multiplication table for good, steady,\\nsensible Jane!  I wondered if I looked as I felt and\\nif they could hear my heart thumping clear across the room.\\nThen a man came in and began distributing the English\\nexamination sheets.  My hands grew cold then and my head\\nfairly whirled around as I picked it up.  Just one awful\\nmoment--Diana, I felt exactly as I did four years ago when\\nI asked Marilla if I might stay at Green Gables--and then\\neverything cleared up in my mind and my heart began beating\\nagain--I forgot to say that it had stopped altogether!--for\\nI knew I could do something with THAT paper anyhow.\\n\\n\"At noon we went home for dinner and then back again for history\\nin the afternoon.  The history was a pretty hard paper and I got\\ndreadfully mixed up in the dates.  Still, I think I did fairly\\nwell today.  But oh, Diana, tomorrow the geometry exam comes off\\nand when I think of it it takes every bit of determination I\\npossess to keep from opening my Euclid.  If I thought the\\nmultiplication table would help me any I would recite it\\nfrom now till tomorrow morning.\\n\\n\"I went down to see the other girls this evening.  On my way I met\\nMoody Spurgeon wandering distractedly around.  He said he knew he\\nhad failed in history and he was born to be a disappointment to\\nhis parents and he was going home on the morning train; and it\\nwould be easier to be a carpenter than a minister, anyhow.  I\\ncheered him up and persuaded him to stay to the end because it\\nwould be unfair to Miss Stacy if he didn\\'t.  Sometimes I have\\nwished I was born a boy, but when I see Moody Spurgeon I\\'m always\\nglad I\\'m a girl and not his sister.\\n\\n\"Ruby was in hysterics when I reached their boardinghouse; she had\\njust discovered a fearful mistake she had made in her English\\npaper.  When she recovered we went uptown and had an ice cream.\\nHow we wished you had been with us.\\n\\n\"Oh, Diana, if only the geometry examination were over!\\nBut there, as Mrs. Lynde would say, the sun will go on\\nrising and setting whether I fail in geometry or not.\\nThat is true but not especially comforting.  I think I\\'d\\nrather it didn\\'t go on if I failed!\\n\\n                                         Yours devotedly,\\n                                         Anne\"\\n\\n\\nThe geometry examination and all the others were over in due time\\nand Anne arrived home on Friday evening, rather tired but with an\\nair of chastened triumph about her.  Diana was over at Green Gables\\nwhen she arrived and they met as if they had been parted for years.\\n\\n\"You old darling, it\\'s perfectly splendid to see you back again.\\nIt seems like an age since you went to town and oh, Anne, how did\\nyou get along?\"\\n\\n\"Pretty well, I think, in everything but the geometry.  I don\\'t\\nknow whether I passed in it or not and I have a creepy, crawly\\npresentiment that I didn\\'t.  Oh, how good it is to be back!  Green\\nGables is the dearest, loveliest spot in the world.\"\\n\\n\"How did the others do?\"\\n\\n\"The girls say they know they didn\\'t pass, but I think they did\\npretty well.  Josie says the geometry was so easy a child of ten\\ncould do it!  Moody Spurgeon still thinks he failed in history\\nand Charlie says he failed in algebra.  But we don\\'t really know\\nanything about it and won\\'t until the pass list is out.  That won\\'t\\nbe for a fortnight.  Fancy living a fortnight in such suspense!\\nI wish I could go to sleep and never wake up until it is over.\"\\n\\nDiana knew it would be useless to ask how Gilbert Blythe had fared,\\nso she merely said:\\n\\n\"Oh, you\\'ll pass all right.  Don\\'t worry.\"\\n\\n\"I\\'d rather not pass at all than not come out pretty well up on\\nthe list,\" flashed Anne, by which she meant--and Diana knew she\\nmeant--that success would be incomplete and bitter if she did not\\ncome out ahead of Gilbert Blythe.\\n\\nWith this end in view Anne had strained every nerve during the\\nexaminations.  So had Gilbert.  They had met and passed each\\nother on the street a dozen times without any sign of recognition\\nand every time Anne had held her head a little higher and wished\\na little more earnestly that she had made friends with Gilbert\\nwhen he asked her, and vowed a little more determinedly to\\nsurpass him in the examination.  She knew that all Avonlea junior\\nwas wondering which would come out first; she even knew that\\nJimmy Glover and Ned Wright had a bet on the question and that\\nJosie Pye had said there was no doubt in the world that Gilbert\\nwould be first; and she felt that her humiliation would be\\nunbearable if she failed.\\n\\nBut she had another and nobler motive for wishing to do well.\\nShe wanted to \"pass high\" for the sake of Matthew and Marilla--\\nespecially Matthew.  Matthew had declared to her his conviction\\nthat she \"would beat the whole Island.\"  That, Anne felt,\\nwas something it would be foolish to hope for even in the\\nwildest dreams.  But she did hope fervently that she would be\\namong the first ten at least, so that she might see Matthew\\'s\\nkindly brown eyes gleam with pride in her achievement.  That, she\\nfelt, would be a sweet reward indeed for all her hard work and\\npatient grubbing among unimaginative equations and conjugations.\\n\\nAt the end of the fortnight Anne took to \"haunting\" the post\\noffice also, in the distracted company of Jane, Ruby, and Josie,\\nopening the Charlottetown dailies with shaking hands and cold,\\nsinkaway feelings as bad as any experienced during the Entrance\\nweek.  Charlie and Gilbert were not above doing this too, but\\nMoody Spurgeon stayed resolutely away.\\n\\n\"I haven\\'t got the grit to go there and look at a paper in cold\\nblood,\" he told Anne.  \"I\\'m just going to wait until somebody\\ncomes and tells me suddenly whether I\\'ve passed or not.\"\\n\\nWhen three weeks had gone by without the pass list appearing Anne\\nbegan to feel that she really couldn\\'t stand the strain much longer.\\nHer appetite failed and her interest in Avonlea doings languished.\\nMrs. Lynde wanted to know what else you could expect with a Tory\\nsuperintendent of education at the head of affairs, and Matthew,\\nnoting Anne\\'s paleness and indifference and the lagging steps that\\nbore her home from the post office every afternoon, began seriously\\nto wonder if he hadn\\'t better vote Grit at the next election.\\n\\nBut one evening the news came.  Anne was sitting at her open window,\\nfor the time forgetful of the woes of examinations and the cares\\nof the world, as she drank in the beauty of the summer dusk,\\nsweet-scented with flower breaths from the garden below and sibilant\\nand rustling from the stir of poplars.  The eastern sky above the\\nfirs was flushed faintly pink from the reflection of the west,\\nand Anne was wondering dreamily if the spirit of color looked\\nlike that, when she saw Diana come flying down through the firs,\\nover the log bridge, and up the slope, with a fluttering newspaper\\nin her hand.\\n\\nAnne sprang to her feet, knowing at once what that paper\\ncontained.  The pass list was out!  Her head whirled and her heart\\nbeat until it hurt her.  She could not move a step.  It seemed an\\nhour to her before Diana came rushing along the hall and burst\\ninto the room without even knocking, so great was her excitement.\\n\\n\"Anne, you\\'ve passed,\" she cried, \"passed the VERY FIRST--you and\\nGilbert both--you\\'re ties--but your name is first.  Oh, I\\'m so proud!\"\\n\\nDiana flung the paper on the table and herself on Anne\\'s bed,\\nutterly breathless and incapable of further speech.  Anne lighted\\nthe lamp, oversetting the match safe and using up half a dozen\\nmatches before her shaking hands could accomplish the task.\\nThen she snatched up the paper.  Yes, she had passed--there was\\nher name at the very top of a list of two hundred!  That moment\\nwas worth living for.\\n\\n\"You did just splendidly, Anne,\" puffed Diana, recovering\\nsufficiently to sit up and speak, for Anne, starry eyed and rapt,\\nhad not uttered a word.  \"Father brought the paper home from\\nBright River not ten minutes ago--it came out on the afternoon\\ntrain, you know, and won\\'t be here till tomorrow by mail--and\\nwhen I saw the pass list I just rushed over like a wild thing.\\nYou\\'ve all passed, every one of you, Moody Spurgeon and all,\\nalthough he\\'s conditioned in history.  Jane and Ruby did pretty\\nwell--they\\'re halfway up--and so did Charlie.  Josie just scraped\\nthrough with three marks to spare, but you\\'ll see she\\'ll put on\\nas many airs as if she\\'d led.  Won\\'t Miss Stacy be delighted?\\nOh, Anne, what does it feel like to see your name at the head of\\na pass list like that?  If it were me I know I\\'d go crazy with joy.\\nI am pretty near crazy as it is, but you\\'re as calm and cool as a\\nspring evening.\"\\n\\n\"I\\'m just dazzled inside,\" said Anne.  \"I want to say a hundred\\nthings, and I can\\'t find words to say them in.  I never dreamed\\nof this--yes, I did too, just once!  I let myself think ONCE,\\n`What if I should come out first?\\' quakingly, you know, for it\\nseemed so vain and presumptuous to think I could lead the Island.\\nExcuse me a minute, Diana.  I must run right out to the field to\\ntell Matthew.  Then we\\'ll go up the road and tell the good news\\nto the others.\"\\n\\nThey hurried to the hayfield below the barn where Matthew was\\ncoiling hay, and, as luck would have it, Mrs. Lynde was talking\\nto Marilla at the lane fence.\\n\\n\"Oh, Matthew,\" exclaimed Anne, \"I\\'ve passed and I\\'m first--or one\\nof the first!  I\\'m not vain, but I\\'m thankful.\"\\n\\n\"Well now, I always said it,\" said Matthew, gazing at the pass\\nlist delightedly.  \"I knew you could beat them all easy.\"\\n\\n\"You\\'ve done pretty well, I must say, Anne,\" said Marilla,\\ntrying to hide her extreme pride in Anne from Mrs. Rachel\\'s\\ncritical eye.  But that good soul said heartily:\\n\\n\"I just guess she has done well, and far be it from me to be\\nbackward in saying it.  You\\'re a credit to your friends, Anne,\\nthat\\'s what, and we\\'re all proud of you.\"\\n\\nThat night Anne, who had wound up the delightful evening with a\\nserious little talk with Mrs. Allan at the manse, knelt sweetly\\nby her open window in a great sheen of moonshine and murmured a\\nprayer of gratitude and aspiration that came straight from her\\nheart.  There was in it thankfulness for the past and reverent\\npetition for the future; and when she slept on her white pillow\\nher dreams were as fair and bright and beautiful as maidenhood\\nmight desire.\\n\\n\\n\\n\\nCHAPTER XXXIII\\n\\nThe Hotel Concert\\n\\n\\n\"Put on your white organdy, by all means, Anne,\" advised Diana decidedly.\\n\\nThey were together in the east gable chamber; outside it was\\nonly twilight--a lovely yellowish-green twilight with a clear-blue\\ncloudless sky.  A big round moon, slowly deepening from her\\npallid luster into burnished silver, hung over the Haunted Wood;\\nthe air was full of sweet summer sounds--sleepy birds twittering,\\nfreakish breezes, faraway voices and laughter.  But in Anne\\'s room\\nthe blind was drawn and the lamp lighted, for an important toilet\\nwas being made.\\n\\nThe east gable was a very different place from what it had been\\non that night four years before, when Anne had felt its bareness\\npenetrate to the marrow of her spirit with its inhospitable chill.\\nChanges had crept in, Marilla conniving at them resignedly, until\\nit was as sweet and dainty a nest as a young girl could desire.\\n\\nThe velvet carpet with the pink roses and the pink silk curtains\\nof Anne\\'s early visions had certainly never materialized; but her\\ndreams had kept pace with her growth, and it is not probable she\\nlamented them.  The floor was covered with a pretty matting, and\\nthe curtains that softened the high window and fluttered in the\\nvagrant breezes were of pale-green art muslin.  The walls, hung\\nnot with gold and silver brocade tapestry, but with a dainty\\napple-blossom paper, were adorned with a few good pictures given\\nAnne by Mrs. Allan.  Miss Stacy\\'s photograph occupied the place\\nof honor, and Anne made a sentimental point of keeping fresh\\nflowers on the bracket under it.  Tonight a spike of white lilies\\nfaintly perfumed the room like the dream of a fragrance.  There\\nwas no \"mahogany furniture,\" but there was a white-painted\\nbookcase filled with books, a cushioned wicker rocker, a toilet\\ntable befrilled with white muslin, a quaint, gilt-framed mirror\\nwith chubby pink Cupids and purple grapes painted over its arched\\ntop, that used to hang in the spare room, and a low white bed.\\n\\nAnne was dressing for a concert at the White Sands Hotel.\\nThe guests had got it up in aid of the Charlottetown hospital,\\nand had hunted out all the available amateur talent in the\\nsurrounding districts to help it along.  Bertha Sampson and\\nPearl Clay of the White Sands Baptist choir had been asked to\\nsing a duet; Milton Clark of Newbridge was to give a violin solo;\\nWinnie Adella Blair of Carmody was to sing a Scotch ballad; and Laura\\nSpencer of Spencervale and Anne Shirley of Avonlea were to recite.\\n\\nAs Anne would have said at one time, it was \"an epoch in her life,\"\\nand she was deliciously athrill with the excitement of it.\\nMatthew was in the seventh heaven of gratified pride over the\\nhonor conferred on his Anne and Marilla was not far behind,\\nalthough she would have died rather than admit it, and said she\\ndidn\\'t think it was very proper for a lot of young folks to be\\ngadding over to the hotel without any responsible person with them.\\n\\nAnne and Diana were to drive over with Jane Andrews and her\\nbrother Billy in their double-seated buggy; and several other\\nAvonlea girls and boys were going too.  There was a party of\\nvisitors expected out from town, and after the concert a supper\\nwas to be given to the performers.\\n\\n\"Do you really think the organdy will be best?\" queried Anne anxiously.\\n\"I don\\'t think it\\'s as pretty as my blue-flowered muslin--and it certainly\\nisn\\'t so fashionable.\"\\n\\n \"But it suits you ever so much better,\" said Diana.  \"It\\'s so soft\\nand frilly and clinging.  The muslin is stiff, and makes you look too\\ndressed up.  But the organdy seems as if it grew on you.\"\\n\\nAnne sighed and yielded.  Diana was beginning to have a\\nreputation for notable taste in dressing, and her advice on such\\nsubjects was much sought after.  She was looking very pretty\\nherself on this particular night in a dress of the lovely\\nwild-rose pink, from which Anne was forever debarred; but she was\\nnot to take any part in the concert, so her appearance was of\\nminor importance.  All her pains were bestowed upon Anne, who,\\nshe vowed, must, for the credit of Avonlea, be dressed and combed\\nand adorned to the Queen\\'s taste.\\n\\n\"Pull out that frill a little more--so; here, let me tie your\\nsash; now for your slippers.  I\\'m going to braid your hair in two\\nthick braids, and tie them halfway up with big white bows--no,\\ndon\\'t pull out a single curl over your forehead--just have the\\nsoft part.  There is no way you do your hair suits you so well,\\nAnne, and Mrs. Allan says you look like a Madonna when you part\\nit so.  I shall fasten this little white house rose just behind\\nyour ear.  There was just one on my bush, and I saved it for you.\"\\n\\n\"Shall I put my pearl beads on?\" asked Anne.  \"Matthew brought me a\\nstring from town last week, and I know he\\'d like to see them on me.\"\\n\\nDiana pursed up her lips, put her black head on one side\\ncritically, and finally pronounced in favor of the beads, which\\nwere thereupon tied around Anne\\'s slim milk-white throat.\\n\\n\"There\\'s something so stylish about you, Anne,\" said Diana,\\nwith unenvious admiration.  \"You hold your head with such an air.\\nI suppose it\\'s your figure.  I am just a dumpling.  I\\'ve always\\nbeen afraid of it, and now I know it is so.  Well, I suppose I\\nshall just have to resign myself to it.\"\\n\\n\"But you have such dimples,\" said Anne, smiling affectionately\\ninto the pretty, vivacious face so near her own.  \"Lovely dimples,\\nlike little dents in cream.  I have given up all hope of dimples.\\nMy dimple-dream will never come true; but so many of my dreams\\nhave that I mustn\\'t complain.  Am I all ready now?\"\\n\\n\"All ready,\" assured Diana, as Marilla appeared in the doorway,\\na gaunt figure with grayer hair than of yore and no fewer angles,\\nbut with a much softer face.  \"Come right in and look at our\\nelocutionist, Marilla.  Doesn\\'t she look lovely?\"\\n\\nMarilla emitted a sound between a sniff and a grunt.\\n\\n\"She looks neat and proper.  I like that way of fixing her hair.\\nBut I expect she\\'ll ruin that dress driving over there in the dust\\nand dew with it, and it looks most too thin for these damp nights.\\nOrgandy\\'s the most unserviceable stuff in the world anyhow, and I\\ntold Matthew so when he got it.  But there is no use in saying\\nanything to Matthew nowadays.  Time was when he would take my advice,\\nbut now he just buys things for Anne regardless, and the clerks at\\nCarmody know they can palm anything off on him.  Just let them tell\\nhim a thing is pretty and fashionable, and Matthew plunks his money\\ndown for it.  Mind you keep your skirt clear of the wheel, Anne, and\\nput your warm jacket on.\"\\n\\nThen Marilla stalked downstairs, thinking proudly how sweet Anne\\nlooked, with that\\n\\n\\n         \"One moonbeam from the forehead to the crown\"\\n\\n\\nand regretting that she could not go to the concert herself to\\nhear her girl recite.\\n\\n\"I wonder if it IS too damp for my dress,\" said Anne anxiously.\\n\\n\"Not a bit of it,\" said Diana, pulling up the window blind.\\n\"It\\'s a perfect night, and there won\\'t be any dew.  Look at\\nthe moonlight.\"\\n\\n\"I\\'m so glad my window looks east into the sunrising,\" said Anne,\\ngoing over to Diana.  \"It\\'s so splendid to see the morning coming\\nup over those long hills and glowing through those sharp fir tops.\\nIt\\'s new every morning, and I feel as if I washed my very soul in\\nthat bath of earliest sunshine.  Oh, Diana, I love this little\\nroom so dearly.  I don\\'t know how I\\'ll get along without it when\\nI go to town next month.\"\\n\\n\"Don\\'t speak of your going away tonight,\" begged Diana.  \"I don\\'t\\nwant to think of it, it makes me so miserable, and I do want to\\nhave a good time this evening.  What are you going to recite, Anne?\\nAnd are you nervous?\"\\n\\n\"Not a bit.  I\\'ve recited so often in public I don\\'t mind at all\\nnow.  I\\'ve decided to give `The Maiden\\'s Vow.\\'  It\\'s so pathetic.\\nLaura Spencer is going to give a comic recitation, but I\\'d rather\\nmake people cry than laugh.\"\\n\\n\"What will you recite if they encore you?\"\\n\\n\"They won\\'t dream of encoring me,\" scoffed Anne, who was not\\nwithout her own secret hopes that they would, and already\\nvisioned herself telling Matthew all about it at the next\\nmorning\\'s breakfast table.  \"There are Billy and Jane now--\\nI hear the wheels.  Come on.\"\\n\\nBilly Andrews insisted that Anne should ride on the front seat\\nwith him, so she unwillingly climbed up.  She would have much\\npreferred to sit back with the girls, where she could have\\nlaughed and chattered to her heart\\'s content.  There was not much\\nof either laughter or chatter in Billy.  He was a big, fat,\\nstolid youth of twenty, with a round, expressionless face, and a\\npainful lack of conversational gifts.  But he admired Anne\\nimmensely, and was puffed up with pride over the prospect of\\ndriving to White Sands with that slim, upright figure beside him.\\n\\nAnne, by dint of talking over her shoulder to the girls and\\noccasionally passing a sop of civility to Billy--who grinned and\\nchuckled and never could think of any reply until it was too\\nlate--contrived to enjoy the drive in spite of all.  It was a\\nnight for enjoyment.  The road was full of buggies, all bound for\\nthe hotel, and laughter, silver clear, echoed and reechoed along it.\\nWhen they reached the hotel it was a blaze of light from top\\nto bottom.  They were met by the ladies of the concert committee,\\none of whom took Anne off to the performers\\' dressing room which\\nwas filled with the members of a Charlottetown Symphony Club,\\namong whom Anne felt suddenly shy and frightened and countrified.\\nHer dress, which, in the east gable, had seemed so dainty and\\npretty, now seemed simple and plain--too simple and plain, she\\nthought, among all the silks and laces that glistened and rustled\\naround her.  What were her pearl beads compared to the diamonds\\nof the big, handsome lady near her?  And how poor her one wee white\\nrose must look beside all the hothouse flowers the others wore!\\nAnne laid her hat and jacket away, and shrank miserably into a corner.\\nShe wished herself back in the white room at Green Gables.\\n\\nIt was still worse on the platform of the big concert hall of the\\nhotel, where she presently found herself.  The electric lights\\ndazzled her eyes, the perfume and hum bewildered her.  She wished\\nshe were sitting down in the audience with Diana and Jane, who\\nseemed to be having a splendid time away at the back.  She was\\nwedged in between a stout lady in pink silk and a tall,\\nscornful-looking girl in a white-lace dress.  The stout lady\\noccasionally turned her head squarely around and surveyed Anne\\nthrough her eyeglasses until Anne, acutely sensitive of being so\\nscrutinized, felt that she must scream aloud; and the white-lace\\ngirl kept talking audibly to her next neighbor about the \"country\\nbumpkins\" and \"rustic belles\" in the audience, languidly anticipating\\n\"such fun\" from the displays of local talent on the program.\\nAnne believed that she would hate that white-lace girl to the end of life.\\n\\nUnfortunately for Anne, a professional elocutionist was staying\\nat the hotel and had consented to recite.  She was a lithe,\\ndark-eyed woman in a wonderful gown of shimmering gray stuff\\nlike woven moonbeams, with gems on her neck and in her dark hair.\\nShe had a marvelously flexible voice and wonderful power of\\nexpression; the audience went wild over her selection.  Anne,\\nforgetting all about herself and her troubles for the time,\\nlistened with rapt and shining eyes; but when the recitation\\nended she suddenly put her hands over her face.  She could never\\nget up and recite after that--never.  Had she ever thought she\\ncould recite?  Oh, if she were only back at Green Gables!\\n\\nAt this unpropitious moment her name was called.  Somehow\\nAnne--who did not notice the rather guilty little start of\\nsurprise the white-lace girl gave, and would not have understood\\nthe subtle compliment implied therein if she had--got on her\\nfeet, and moved dizzily out to the front.  She was so pale that\\nDiana and Jane, down in the audience, clasped each other\\'s hands\\nin nervous sympathy.\\n\\nAnne was the victim of an overwhelming attack of stage fright.\\nOften as she had recited in public, she had never before faced\\nsuch an audience as this, and the sight of it paralyzed her\\nenergies completely.  Everything was so strange, so brilliant,\\nso bewildering--the rows of ladies in evening dress, the critical\\nfaces, the whole atmosphere of wealth and culture about her.\\nVery different this from the plain benches at the Debating Club,\\nfilled with the homely, sympathetic faces of friends and neighbors.\\nThese people, she thought, would be merciless critics.  Perhaps,\\nlike the white-lace girl, they anticipated amusement from her \"rustic\"\\nefforts.  She felt hopelessly, helplessly ashamed and miserable.\\nHer knees trembled, her heart fluttered, a horrible faintness\\ncame over her; not a word could she utter, and the next moment\\nshe would have fled from the platform despite the humiliation which,\\nshe felt, must ever after be her portion if she did so.\\n\\nBut suddenly, as her dilated, frightened eyes gazed out over the\\naudience, she saw Gilbert Blythe away at the back of the room,\\nbending forward with a smile on his face--a smile which seemed to\\nAnne at once triumphant and taunting.  In reality it was nothing\\nof the kind.  Gilbert was merely smiling with appreciation of the\\nwhole affair in general and of the effect produced by Anne\\'s\\nslender white form and spiritual face against a background of\\npalms in particular.  Josie Pye, whom he had driven over, sat\\nbeside him, and her face certainly was both triumphant and\\ntaunting.  But Anne did not see Josie, and would not have cared\\nif she had.  She drew a long breath and flung her head up\\nproudly, courage and determination tingling over her like an\\nelectric shock.  She WOULD NOT fail before Gilbert Blythe--he\\nshould never be able to laugh at her, never, never!  Her fright\\nand nervousness vanished; and she began her recitation, her clear,\\nsweet voice reaching to the farthest corner of the room without a\\ntremor or a break.  Self-possession was fully restored to her,\\nand in the reaction from that horrible moment of powerlessness\\nshe recited as she had never done before.  When she finished\\nthere were bursts of honest applause.  Anne, stepping back to\\nher seat, blushing with shyness and delight, found her hand\\nvigorously clasped and shaken by the stout lady in pink silk.\\n\\n\"My dear, you did splendidly,\" she puffed.  \"I\\'ve been crying\\nlike a baby, actually I have.  There, they\\'re encoring you--\\nthey\\'re bound to have you back!\"\\n\\n\"Oh, I can\\'t go,\" said Anne confusedly.  \"But yet--I must, or\\nMatthew will be disappointed.  He said they would encore me.\"\\n\\n\"Then don\\'t disappoint Matthew,\" said the pink lady, laughing.\\n\\nSmiling, blushing, limpid eyed, Anne tripped back and gave a quaint,\\nfunny little selection that captivated her audience still further.\\nThe rest of the evening was quite a little triumph for her.\\n\\nWhen the concert was over, the stout, pink lady--who was the wife\\nof an American millionaire--took her under her wing, and\\nintroduced her to everybody; and everybody was very nice to her.\\nThe professional elocutionist, Mrs. Evans, came and chatted with\\nher, telling her that she had a charming voice and \"interpreted\"\\nher selections beautifully.  Even the white-lace girl paid her a\\nlanguid little compliment.  They had supper in the big,\\nbeautifully decorated dining room; Diana and Jane were invited to\\npartake of this, also, since they had come with Anne, but Billy\\nwas nowhere to be found, having decamped in mortal fear of some\\nsuch invitation.  He was in waiting for them, with the team,\\nhowever, when it was all over, and the three girls came merrily\\nout into the calm, white moonshine radiance.  Anne breathed deeply,\\nand looked into the clear sky beyond the dark boughs of the firs.\\n\\nOh, it was good to be out again in the purity and silence of the night!\\nHow great and still and wonderful everything was, with the murmur of\\nthe sea sounding through it and the darkling cliffs beyond like grim\\ngiants guarding enchanted coasts.\\n\\n\"Hasn\\'t it been a perfectly splendid time?\" sighed Jane, as they\\ndrove away.  \"I just wish I was a rich American and could spend\\nmy summer at a hotel and wear jewels and low-necked dresses and\\nhave ice cream and chicken salad every blessed day.  I\\'m sure it\\nwould be ever so much more fun than teaching school.  Anne, your\\nrecitation was simply great, although I thought at first you were\\nnever going to begin.  I think it was better than Mrs. Evans\\'s.\"\\n\\n\"Oh, no, don\\'t say things like that, Jane,\" said Anne quickly,\\n\"because it sounds silly.  It couldn\\'t be better than Mrs. Evans\\'s,\\nyou know, for she is a professional, and I\\'m only a schoolgirl,\\nwith a little knack of reciting.  I\\'m quite satisfied if the\\npeople just liked mine pretty well.\"\\n\\n\"I\\'ve a compliment for you, Anne,\" said Diana.  \"At least I think\\nit must be a compliment because of the tone he said it in.  Part\\nof it was anyhow.  There was an American sitting behind Jane and\\nme--such a romantic-looking man, with coal-black hair and eyes.\\nJosie Pye says he is a distinguished artist, and that her mother\\'s\\ncousin in Boston is married to a man that used to go to school\\nwith him.  Well, we heard him say--didn\\'t we, Jane?--`Who is that\\ngirl on the platform with the splendid Titian hair?  She has a\\nface I should like to paint.\\' There now, Anne.  But what does\\nTitian hair mean?\"\\n\\n\"Being interpreted it means plain red, I guess,\" laughed Anne.\\n\"Titian was a very famous artist who liked to paint red-haired women.\"\\n\\n\"DID you see all the diamonds those ladies wore?\" sighed Jane.\\n\"They were simply dazzling.  Wouldn\\'t you just love to be rich, girls?\"\\n\\n\"We ARE rich,\" said Anne staunchly.  \"Why, we have sixteen years to\\nour credit, and we\\'re happy as queens, and we\\'ve all got imaginations,\\nmore or less.  Look at that sea, girls--all silver and shadow and\\nvision of things not seen.  We couldn\\'t enjoy its loveliness\\nany more if we had millions of dollars and ropes of diamonds.\\nYou wouldn\\'t change into any of those women if you could.\\nWould you want to be that white-lace girl and wear a sour\\nlook all your life, as if you\\'d been born turning up your nose at\\nthe world?  Or the pink lady, kind and nice as she is, so stout\\nand short that you\\'d really no figure at all?  Or even Mrs. Evans,\\nwith that sad, sad look in her eyes?  She must have been dreadfully\\nunhappy sometime to have such a look.  You KNOW you wouldn\\'t,\\nJane Andrews!\"\\n\\n\"I DON\\'T know--exactly,\" said Jane unconvinced.  \"I think\\ndiamonds would comfort a person for a good deal.\"\\n\\n\"Well, I don\\'t want to be anyone but myself, even if I\\ngo uncomforted by diamonds all my life,\" declared Anne.\\n\"I\\'m quite content to be Anne of Green Gables, with my\\nstring of pearl beads.  I know Matthew gave me as much\\nlove with them as ever went with Madame the Pink Lady\\'s jewels.\"\\n\\n\\n\\nCHAPTER XXXIV\\n\\nA Queen\\'s Girl\\n\\n\\nThe next three weeks were busy ones at Green Gables, for\\nAnne was getting ready to go to Queen\\'s, and there was\\nmuch sewing to be done, and many things to be talked\\nover and arranged.  Anne\\'s outfit was ample and pretty, for\\nMatthew saw to that, and Marilla for once made no objections\\nwhatever to anything he purchased or suggested.  More--\\none evening she went up to the east gable with her arms full\\nof a delicate pale green material.\\n\\n\"Anne, here\\'s something for a nice light dress for you.\\nI don\\'t suppose you really need it; you\\'ve plenty of\\npretty waists; but I thought maybe you\\'d like something\\nreal dressy to wear if you were asked out anywhere of an\\nevening in town, to a party or anything like that.  I hear\\nthat Jane and Ruby and Josie have got `evening dresses,\\' as\\nthey call them, and I don\\'t mean you shall be behind them.\\nI got Mrs. Allan to help me pick it in town last week,\\nand we\\'ll get Emily Gillis to make it for you.  Emily\\nhas got taste, and her fits aren\\'t to be equaled.\"\\n\\n\"Oh, Marilla, it\\'s just lovely,\" said Anne.  \"Thank you so\\nmuch.  I don\\'t believe you ought to be so kind to me--it\\'s\\nmaking it harder every day for me to go away.\"\\n\\nThe green dress was made up with as many tucks and frills\\nand shirrings as Emily\\'s taste permitted.  Anne put it\\non one evening for Matthew\\'s and Marilla\\'s benefit,\\nand recited \"The Maiden\\'s Vow\" for them in the kitchen.\\nAs Marilla watched the bright, animated face and graceful\\nmotions her thoughts went back to the evening Anne had\\narrived at Green Gables, and memory recalled a vivid\\npicture of the odd, frightened child in her preposterous\\nyellowish-brown wincey dress, the heartbreak looking out\\nof her tearful eyes.  Something in the memory brought\\ntears to Marilla\\'s own eyes.\\n\\n\"I declare, my recitation has made you cry, Marilla,\"\\nsaid Anne gaily stooping over Marilla\\'s chair to drop a\\nbutterfly kiss on that lady\\'s cheek.  \"Now, I call that a\\npositive triumph.\"\\n\\n\"No, I wasn\\'t crying over your piece,\" said Marilla, who\\nwould have scorned to be betrayed into such weakness by\\nany poetry stuff.  \"I just couldn\\'t help thinking of the\\nlittle girl you used to be, Anne.  And I was wishing you could\\nhave stayed a little girl, even with all your queer ways.\\nYou\\'ve grown up now and you\\'re going away; and you look\\nso tall and stylish and so--so--different altogether\\nin that dress--as if you didn\\'t belong in Avonlea at all--\\nand I just got lonesome thinking it all over.\"\\n\\n\"Marilla!\"  Anne sat down on Marilla\\'s gingham lap, took\\nMarilla\\'s lined face between her hands, and looked gravely\\nand tenderly into Marilla\\'s eyes.  \"I\\'m not a bit changed--\\nnot really.  I\\'m only just pruned down and branched out.\\nThe real ME--back here--is just the same.  It won\\'t make a\\nbit of difference where I go or how much I change outwardly;\\nat heart I shall always be your little Anne, who will love\\nyou and Matthew and dear Green Gables more and better every\\nday of her life.\"\\n\\nAnne laid her fresh young cheek against Marilla\\'s faded\\none, and reached out a hand to pat Matthew\\'s shoulder.\\nMarilla would have given much just then to have possessed\\nAnne\\'s power of putting her feelings into words; but nature\\nand habit had willed it otherwise, and she could only put her\\narms close about her girl and hold her tenderly to her heart,\\nwishing that she need never let her go.\\n\\nMatthew, with a suspicious moisture in his eyes, got up\\nand went out-of-doors.  Under the stars of the blue summer\\nnight he walked agitatedly across the yard to the gate\\nunder the poplars.\\n\\n\"Well now, I guess she ain\\'t been much spoiled,\" he\\nmuttered, proudly.  \"I guess my putting in my oar occasional\\nnever did much harm after all.  She\\'s smart and pretty,\\nand loving, too, which is better than all the rest.\\nShe\\'s been a blessing to us, and there never was a\\nluckier mistake than what Mrs. Spencer made--if it WAS luck.\\nI don\\'t believe it was any such thing.  It was Providence,\\nbecause the Almighty saw we needed her, I reckon.\"\\n\\nThe day finally came when Anne must go to town.  She\\nand Matthew drove in one fine September morning, after a\\ntearful parting with Diana and an untearful practical one--\\non Marilla\\'s side at least--with Marilla.  But when Anne\\nhad gone Diana dried her tears and went to a beach\\npicnic at White Sands with some of her Carmody cousins,\\nwhere she contrived to enjoy herself tolerably well; while\\nMarilla plunged fiercely into unnecessary work and kept at\\nit all day long with the bitterest kind of heartache--the\\nache that burns and gnaws and cannot wash itself away in\\nready tears.  But that night, when Marilla went to bed,\\nacutely and miserably conscious that the little gable room\\nat the end of the hall was untenanted by any vivid young\\nlife and unstirred by any soft breathing, she buried her\\nface in her pillow, and wept for her girl in a passion of\\nsobs that appalled her when she grew calm enough to reflect\\nhow very wicked it must be to take on so about a sinful\\nfellow creature.\\n\\nAnne and the rest of the Avonlea scholars reached town\\njust in time to hurry off to the Academy.  That first day\\npassed pleasantly enough in a whirl of excitement, meeting\\nall the new students, learning to know the professors by\\nsight and being assorted and organized into classes.\\nAnne intended taking up the Second Year work being advised\\nto do so by Miss Stacy; Gilbert Blythe elected to do the same.\\nThis meant getting a First Class teacher\\'s license in\\none year instead of two, if they were successful; but it also\\nmeant much more and harder work.  Jane, Ruby, Josie,\\nCharlie, and Moody Spurgeon, not being troubled with\\nthe stirrings of ambition, were content to take up the\\nSecond Class work.  Anne was conscious of a pang of\\nloneliness when she found herself in a room with fifty\\nother students, not one of whom she knew, except the\\ntall, brown-haired boy across the room; and knowing him\\nin the fashion she did, did not help her much, as she\\nreflected pessimistically.  Yet she was undeniably glad that\\nthey were in the same class; the old rivalry could still be\\ncarried on, and Anne would hardly have known what to do\\nif it had been lacking.\\n\\n\"I wouldn\\'t feel comfortable without it,\" she thought.\\n\"Gilbert looks awfully determined.  I suppose he\\'s making\\nup his mind, here and now, to win the medal.  What a\\nsplendid chin he has!  I never noticed it before.  I do wish\\nJane and Ruby had gone in for First Class, too.  I suppose I\\nwon\\'t feel so much like a cat in a strange garret when I get\\nacquainted, though.  I wonder which of the girls here are\\ngoing to be my friends.  It\\'s really an interesting speculation.\\nOf course I promised Diana that no Queen\\'s girl, no matter\\nhow much I liked her, should ever be as dear to me as she is;\\nbut I\\'ve lots of second-best affections to bestow.  I like\\nthe look of that girl with the brown eyes and the crimson\\nwaist.  She looks vivid and red-rosy; there\\'s that pale, fair\\none gazing out of the window.  She has lovely hair, and looks\\nas if she knew a thing or two about dreams.  I\\'d like to know\\nthem both--know them well--well enough to walk with my arm\\nabout their waists, and call them nicknames.  But just now I\\ndon\\'t know them and they don\\'t know me, and probably don\\'t\\nwant to know me particularly.  Oh, it\\'s lonesome!\"\\n\\nIt was lonesomer still when Anne found herself alone in\\nher hall bedroom that night at twilight.  She was not to\\nboard with the other girls, who all had relatives in town to\\ntake pity on them.  Miss Josephine Barry would have liked\\nto board her, but Beechwood was so far from the Academy\\nthat it was out of the question; so miss Barry hunted up a\\nboarding-house, assuring Matthew and Marilla that it was\\nthe very place for Anne.\\n\\n\"The lady who keeps it is a reduced gentlewoman,\"\\nexplained Miss Barry.  \"Her husband was a British officer,\\nand she is very careful what sort of boarders she takes.\\nAnne will not meet with any objectionable persons under\\nher roof.  The table is good, and the house is near the\\nAcademy, in a quiet neighborhood.\"\\n\\nAll this might be quite true, and indeed, proved to be so,\\nbut it did not materially help Anne in the first agony\\nof homesickness that seized upon her.  She looked dismally\\nabout her narrow little room, with its dull-papered,\\npictureless walls, its small iron bedstead and empty book-\\ncase; and a horrible choke came into her throat as she\\nthought of her own white room at Green Gables, where\\nshe would have the pleasant consciousness of a great green\\nstill outdoors, of sweet peas growing in the garden, and\\nmoonlight falling on the orchard, of the brook below the\\nslope and the spruce boughs tossing in the night wind\\nbeyond it, of a vast starry sky, and the light from Diana\\'s\\nwindow shining out through the gap in the trees.  Here\\nthere was nothing of this; Anne knew that outside of her\\nwindow was a hard street, with a network of telephone\\nwires shutting out the sky, the tramp of alien feet, and a\\nthousand lights gleaming on stranger faces.  She knew that\\nshe was going to cry, and fought against it.\\n\\n\"I WON\\'T cry.  It\\'s silly--and weak--there\\'s the third\\ntear splashing down by my nose.  There are more coming!\\nI must think of something funny to stop them.  But there\\'s\\nnothing funny except what is connected with Avonlea, and\\nthat only makes things worse--four--five--I\\'m going home\\nnext Friday, but that seems a hundred years away.  Oh,\\nMatthew is nearly home by now--and Marilla is at the\\ngate, looking down the lane for him--six--seven--eight--\\noh, there\\'s no use in counting them!  They\\'re coming in a\\nflood presently.  I can\\'t cheer up--I don\\'t WANT to cheer\\nup.  It\\'s nicer to be miserable!\"\\n\\nThe flood of tears would have come, no doubt, had not\\nJosie Pye appeared at that moment.  In the joy of seeing\\na familiar face Anne forgot that there had never been much\\nlove lost between her and Josie.  As a part of Avonlea life\\neven a Pye was welcome.\\n\\n\"I\\'m so glad you came up,\" Anne said sincerely.\\n\\n\"You\\'ve been crying,\" remarked Josie, with aggravating pity.\\n\"I suppose you\\'re homesick--some people have so little\\nself-control in that respect.  I\\'ve no intention of being\\nhomesick, I can tell you.  Town\\'s too jolly after that poky\\nold Avonlea.  I wonder how I ever existed there so long.\\nYou shouldn\\'t cry, Anne; it isn\\'t becoming, for your\\nnose and eyes get red, and then you seem ALL red.  I\\'d a\\nperfectly scrumptious time in the Academy today.  Our French\\nprofessor is simply a duck.  His moustache would give you\\nkerwollowps of the heart.  Have you anything eatable around,\\nAnne?  I\\'m literally starving.  Ah, I guessed likely Marilla\\'d\\nload you up with cake.  That\\'s why I called round.  Otherwise\\nI\\'d have gone to the park to hear the band play with Frank\\nStockley.  He boards same place as I do, and he\\'s a sport.\\nHe noticed you in class today, and asked me who the red-headed\\ngirl was.  I told him you were an orphan that the Cuthberts\\nhad adopted, and nobody knew very much about what you\\'d been\\nbefore that.\"\\n\\nAnne was wondering if, after all, solitude and tears were\\nnot more satisfactory than Josie Pye\\'s companionship when\\nJane and Ruby appeared, each with an inch of Queen\\'s\\ncolor ribbon--purple and scarlet--pinned proudly to her\\ncoat.  As Josie was not \"speaking\" to Jane just then she had\\nto subside into comparative harmlessness.\\n\\n\"Well,\" said Jane with a sigh, \"I feel as if I\\'d lived many\\nmoons since the morning.  I ought to be home studying my\\nVirgil--that horrid old professor gave us twenty lines to\\nstart in on tomorrow.  But I simply couldn\\'t settle down to\\nstudy tonight.  Anne, methinks I see the traces of tears.  If\\nyou\\'ve been crying DO own up.  It will restore my self-respect,\\nfor I was shedding tears freely before Ruby came along.  I\\ndon\\'t mind being a goose so much if somebody else is goosey,\\ntoo.  Cake?  You\\'ll give me a teeny piece, won\\'t you?  Thank\\nyou.  It has the real Avonlea flavor.\"\\n\\nRuby, perceiving the Queen\\'s calendar lying on the table,\\nwanted to know if Anne meant to try for the gold medal.\\n\\nAnne blushed and admitted she was thinking of it.\\n\\n\"Oh, that reminds me,\" said Josie, \"Queen\\'s is to get one\\nof the Avery scholarships after all.  The word came today.\\nFrank Stockley told me--his uncle is one of the board of\\ngovernors, you know.  It will be announced in the\\nAcademy tomorrow.\"\\n\\nAn Avery scholarship!  Anne felt her heart beat more\\nquickly, and the horizons of her ambition shifted and\\nbroadened as if by magic.  Before Josie had told the news\\nAnne\\'s highest pinnacle of aspiration had been a teacher\\'s\\nprovincial license, First Class, at the end of the year, and\\nperhaps the medal!  But now in one moment Anne saw herself\\nwinning the Avery scholarship, taking an Arts course at\\nRedmond College, and graduating in a gown and mortar board,\\nbefore the echo of Josie\\'s words had died away.  For the\\nAvery scholarship was in English, and Anne felt that here\\nher foot was on native heath.\\n\\nA wealthy manufacturer of New Brunswick had died and left\\npart of his fortune to endow a large number of scholarships\\nto be distributed among the various high schools and academies\\nof the Maritime Provinces, according to their respective\\nstandings.  There had been much doubt whether one would be\\nallotted to Queen\\'s, but the matter was settled at last, and\\nat the end of the year the graduate who made the highest mark\\nin English and English Literature would win the scholarship--\\ntwo hundred and fifty dollars a year for four years at Redmond\\nCollege.  No wonder that Anne went to bed that night with\\ntingling cheeks!\\n\\n\"I\\'ll win that scholarship if hard work can do it,\" she\\nresolved.  \"Wouldn\\'t Matthew be proud if I got to be a B.A.?\\nOh, it\\'s delightful to have ambitions.  I\\'m so glad I have\\nsuch a lot.  And there never seems to be any end to them--\\nthat\\'s the best of it.  Just as soon as you attain to one\\nambition you see another one glittering higher up still.\\nIt does make life so interesting.\"\\n\\n\\n\\n\\nCHAPTER XXXV\\n\\nThe Winter at Queen\\'s\\n\\n\\nAnne\\'s homesickness wore off, greatly helped in the wearing\\nby her weekend visits home.  As long as the open weather lasted\\nthe Avonlea students went out to Carmody on the new branch\\nrailway every Friday night.  Diana and several other Avonlea\\nyoung folks were generally on hand to meet them and they all\\nwalked over to Avonlea in a merry party.  Anne thought those\\nFriday evening gypsyings over the autumnal hills in the crisp\\ngolden air, with the homelights of Avonlea twinkling beyond,\\nwere the best and dearest hours in the whole week.\\n\\nGilbert Blythe nearly always walked with Ruby Gillis and carried\\nher satchel for her.  Ruby was a very handsome young lady,\\nnow thinking herself quite as grown up as she really was;\\nshe wore her skirts as long as her mother would let her and\\ndid her hair up in town, though she had to take it down\\nwhen she went home.  She had large, bright-blue eyes, a\\nbrilliant complexion, and a plump showy figure.  She laughed\\na great deal, was cheerful and good-tempered, and enjoyed the\\npleasant things of life frankly.\\n\\n\"But I shouldn\\'t think she was the sort of girl Gilbert would like,\"\\nwhispered Jane to Anne.  Anne did not think so either, but she would\\nnot have said so for the Avery scholarship.  She could not help\\nthinking, too, that it would be very pleasant to have such a friend\\nas Gilbert to jest and chatter with and exchange ideas about books\\nand studies and ambitions.  Gilbert had ambitions, she knew, and\\nRuby Gillis did not seem the sort of person with whom such could\\nbe profitably discussed.\\n\\nThere was no silly sentiment in Anne\\'s ideas concerning Gilbert.\\nBoys were to her, when she thought about them at all, merely\\npossible good comrades.  If she and Gilbert had been friends\\nshe would not have cared how many other friends he had\\nnor with whom he walked.  She had a genius for friendship;\\ngirl friends she had in plenty; but she had a vague consciousness\\nthat masculine friendship might also be a good thing to round\\nout one\\'s conceptions of companionship and furnish broader\\nstandpoints of judgment and comparison.  Not that Anne could\\nhave put her feelings on the matter into just such clear definition.\\nBut she thought that if Gilbert had ever walked home with her\\nfrom the train, over the crisp fields and along the ferny byways,\\nthey might have had many and merry and interesting conversations\\nabout the new world that was opening around them and their hopes\\nand ambitions therein.  Gilbert was a clever young fellow, with\\nhis own thoughts about things and a determination to get the best\\nout of life and put the best into it.  Ruby Gillis told Jane Andrews\\nthat she didn\\'t understand half the things Gilbert Blythe said;\\nhe talked just like Anne Shirley did when she had a thoughtful fit\\non and for her part she didn\\'t think it any fun to be bothering about\\nbooks and that sort of thing when you didn\\'t have to.  Frank Stockley\\nhad lots more dash and go, but then he wasn\\'t half as good-looking as\\nGilbert and she really couldn\\'t decide which she liked best!\\n\\nIn the Academy Anne gradually drew a little circle of friends about her,\\nthoughtful, imaginative, ambitious students like herself.  With the\\n\"rose-red\" girl, Stella Maynard, and the \"dream girl,\" Priscilla Grant,\\nshe soon became intimate, finding the latter pale spiritual-looking\\nmaiden to be full to the brim of mischief and pranks and fun,\\nwhile the vivid, black-eyed Stella had a heartful of wistful\\ndreams and fancies, as aerial and rainbow-like as Anne\\'s own.\\n\\nAfter the Christmas holidays the Avonlea students gave\\nup going home on Fridays and settled down to hard work.\\nBy this time all the Queen\\'s scholars had gravitated into\\ntheir own places in the ranks and the various classes had\\nassumed distinct and settled shadings of individuality.\\nCertain facts had become generally accepted.  It was admitted\\nthat the medal contestants had practically narrowed down to\\nthree--Gilbert Blythe, Anne Shirley, and Lewis Wilson; the\\nAvery scholarship was more doubtful, any one of a certain six\\nbeing a possible winner.  The bronze medal for mathematics\\nwas considered as good as won by a fat, funny little up-country\\nboy with a bumpy forehead and a patched coat.\\n\\nRuby Gillis was the handsomest girl of the year at the Academy;\\nin the Second Year classes Stella Maynard carried off the palm\\nfor beauty, with small but critical minority in favor of Anne Shirley.\\nEthel Marr was admitted by all competent judges to have the most\\nstylish modes of hair-dressing, and Jane Andrews--plain, plodding,\\nconscientious Jane--carried off the honors in the domestic science course.\\nEven Josie Pye attained a certain preeminence as the sharpest-\\ntongued young lady in attendance at Queen\\'s.  So it may be\\nfairly stated that Miss Stacy\\'s old pupil\\'s held their own in\\nthe wider arena of the academical course.\\n\\nAnne worked hard and steadily.  Her rivalry with Gilbert\\nwas as intense as it had ever been in Avonlea school,\\nalthough it was not known in the class at large, but somehow\\nthe bitterness had gone out of it.  Anne no longer wished\\nto win for the sake of defeating Gilbert; rather, for the\\nproud consciousness of a well-won victory over a worthy foeman.\\nIt would be worth while to win, but she no longer thought life\\nwould be insupportable if she did not.\\n\\nIn spite of lessons the students found opportunities for\\npleasant times.  Anne spent many of her spare hours at\\nBeechwood and generally ate her Sunday dinners there and\\nwent to church with Miss Barry.  The latter was, as she\\nadmitted, growing old, but her black eyes were not dim nor\\nthe vigor of her tongue in the least abated.  But she never\\nsharpened the latter on Anne, who continued to be a prime\\nfavorite with the critical old lady.\\n\\n\"That Anne-girl improves all the time,\" she said.  \"I get\\ntired of other girls--there is such a provoking and eternal\\nsameness about them.  Anne has as many shades as a rainbow\\nand every shade is the prettiest while it lasts.  I don\\'t\\nknow that she is as amusing as she was when she was a child,\\nbut she makes me love her and I like people who make me love them.\\nIt saves me so much trouble in making myself love them.\"\\n\\nThen, almost before anybody realized it, spring had come;\\nout in Avonlea the Mayflowers were peeping pinkly out\\non the sere barrens where snow-wreaths lingered; and\\nthe \"mist of green\" was on the woods and in the valleys.\\nBut in Charlottetown harassed Queen\\'s students thought\\nand talked only of examinations.\\n\\n\"It doesn\\'t seem possible that the term is nearly over,\"\\nsaid Anne.  \"Why, last fall it seemed so long to look\\nforward to--a whole winter of studies and classes.  And here\\nwe are, with the exams looming up next week.  Girls,\\nsometimes I feel as if those exams meant everything, but\\nwhen I look at the big buds swelling on those chestnut trees\\nand the misty blue air at the end of the streets they don\\'t\\nseem half so important.\"\\n\\nJane and Ruby and Josie, who had dropped in, did not\\ntake this view of it.  To them the coming examinations\\nwere constantly very important indeed--far more important\\nthan chestnut buds or Maytime hazes.  It was all very well\\nfor Anne, who was sure of passing at least, to have her\\nmoments of belittling them, but when your whole future\\ndepended on them--as the girls truly thought theirs did--\\nyou could not regard them philosophically.\\n\\n\"I\\'ve lost seven pounds in the last two weeks,\" sighed\\nJane.  \"It\\'s no use to say don\\'t worry.  I WILL worry.\\nWorrying helps you some--it seems as if you were doing\\nsomething when you\\'re worrying.  It would be dreadful if I\\nfailed to get my license after going to Queen\\'s all winter\\nand spending so much money.\"\\n\\n\"_I_ don\\'t care,\" said Josie Pye.  \"If I don\\'t pass this year\\nI\\'m coming back next.  My father can afford to send me.\\nAnne, Frank Stockley says that Professor Tremaine said\\nGilbert Blythe was sure to get the medal and that Emily Clay\\nwould likely win the Avery scholarship.\"\\n\\n\"That may make me feel badly tomorrow, Josie,\" laughed\\nAnne, \"but just now I honestly feel that as long as I know\\nthe violets are coming out all purple down in the hollow\\nbelow Green Gables and that little ferns are poking their\\nheads up in Lovers\\' Lane, it\\'s not a great deal of difference\\nwhether I win the Avery or not.  I\\'ve done my best and I\\nbegin to understand what is meant by the `joy of the strife.\\'\\nNext to trying and winning, the best thing is trying and failing.\\nGirls, don\\'t talk about exams!  Look at that arch of pale green\\nsky over those houses and picture to yourself what it must look\\nlike over the purply-dark beech-woods back of Avonlea.\"\\n\\n\"What are you going to wear for commencement, Jane?\"\\nasked Ruby practically.\\n\\nJane and Josie both answered at once and the chatter\\ndrifted into a side eddy of fashions.  But Anne, with her\\nelbows on the window sill, her soft cheek laid against her\\nclasped hands, and her eyes filled with visions, looked out\\nunheedingly across city roof and spire to that glorious dome\\nof sunset sky and wove her dreams of a possible future from\\nthe golden tissue of youth\\'s own optimism.  All the Beyond\\nwas hers with its possibilities lurking rosily in the\\noncoming years--each year a rose of promise to be woven into\\nan immortal chaplet.\\n\\n\\n\\n\\nCHAPTER XXXVI\\n\\nThe Glory and the Dream\\n\\n\\nOn the morning when the final results of all the examinations\\nwere to be posted on the bulletin board at Queen\\'s, Anne\\nand Jane walked down the street together.  Jane was\\nsmiling and happy; examinations were over and she was\\ncomfortably sure she had made a pass at least; further\\nconsiderations troubled Jane not at all; she had no soaring\\nambitions and consequently was not affected with the\\nunrest attendant thereon.  For we pay a price for everything\\nwe get or take in this world; and although ambitions are\\nwell worth having, they are not to be cheaply won, but\\nexact their dues of work and self-denial, anxiety and\\ndiscouragement.  Anne was pale and quiet; in ten more minutes\\nshe would know who had won the medal and who the Avery.\\nBeyond those ten minutes there did not seem, just then,\\nto be anything worth being called Time.\\n\\n\"Of course you\\'ll win one of them anyhow,\" said Jane,\\nwho couldn\\'t understand how the faculty could be so\\nunfair as to order it otherwise.\\n\\n\"I have not hope of the Avery,\" said Anne.  \"Everybody\\nsays Emily Clay will win it.  And I\\'m not going to march\\nup to that bulletin board and look at it before everybody.\\nI haven\\'t the moral courage.  I\\'m going straight to the girls\\'\\ndressing room.  You must read the announcements and then\\ncome and tell me, Jane.  And I implore you in the name\\nof our old friendship to do it as quickly as possible.\\nIf I have failed just say so, without trying to break it\\ngently; and whatever you do DON\\'T sympathize with me.\\nPromise me this, Jane.\"\\n\\nJane promised solemnly; but, as it happened, there was no\\nnecessity for such a promise.  When they went up the entrance\\nsteps of Queen\\'s they found the hall full of boys who were\\ncarrying Gilbert Blythe around on their shoulders and yelling\\nat the tops of their voices, \"Hurrah for Blythe, Medalist!\"\\n\\nFor a moment Anne felt one sickening pang of defeat and\\ndisappointment.  So she had failed and Gilbert had won!\\nWell, Matthew would be sorry--he had been so sure she\\nwould win.\\n\\nAnd then!\\n\\nSomebody called out:\\n\\n\"Three cheers for Miss Shirley, winner of the Avery!\"\\n\\n\"Oh, Anne,\" gasped Jane, as they fled to the girls\\' dressing room\\namid hearty cheers.  \"Oh, Anne I\\'m so proud!  Isn\\'t it splendid?\"\\n\\nAnd then the girls were around them and Anne was the\\ncenter of a laughing, congratulating group.  Her shoulders\\nwere thumped and her hands shaken vigorously.  She was\\npushed and pulled and hugged and among it all she managed\\nto whisper to Jane:\\n\\n\"Oh, won\\'t Matthew and Marilla be pleased!  I must write the\\nnews home right away.\"\\n\\nCommencement was the next important happening.  The exercises\\nwere held in the big assembly hall of the Academy.  Addresses\\nwere given, essays read, songs sung, the public award of diplomas,\\nprizes and medals made.\\n\\nMatthew and Marilla were there, with eyes and ears for only\\none student on the platform--a tall girl in pale green,\\nwith faintly flushed cheeks and starry eyes, who read the\\nbest essay and was pointed out and whispered about as the\\nAvery winner.\\n\\n\"Reckon you\\'re glad we kept her, Marilla?\" whispered Matthew,\\nspeaking for the first time since he had entered the hall,\\nwhen Anne had finished her essay.\\n\\n\"It\\'s not the first time I\\'ve been glad,\" retorted Marilla.\\n\"You do like to rub things in, Matthew Cuthbert.\"\\n\\nMiss Barry, who was sitting behind them, leaned forward\\nand poked Marilla in the back with her parasol.\\n\\n\"Aren\\'t you proud of that Anne-girl?  I am,\" she said.\\n\\nAnne went home to Avonlea with Matthew and Marilla\\nthat evening.  She had not been home since April and she\\nfelt that she could not wait another day.  The apple blossoms\\nwere out and the world was fresh and young.  Diana was at\\nGreen Gables to meet her.  In her own white room, where\\nMarilla had set a flowering house rose on the window sill,\\nAnne looked about her and drew a long breath of happiness.\\n\\n\"Oh, Diana, it\\'s so good to be back again.  It\\'s so good to\\nsee those pointed firs coming out against the pink sky--\\nand that white orchard and the old Snow Queen.  Isn\\'t the\\nbreath of the mint delicious?  And that tea rose--why, it\\'s\\na song and a hope and a prayer all in one.  And it\\'s GOOD to\\nsee you again, Diana!\"\\n\\n\"I thought you liked that Stella Maynard better than me,\"\\nsaid Diana reproachfully.  \"Josie Pye told me you did.\\nJosie said you were INFATUATED with her.\"\\n\\nAnne laughed and pelted Diana with the faded \"June lilies\"\\nof her bouquet.\\n\\n\"Stella Maynard is the dearest girl in the world except\\none and you are that one, Diana,\" she said.  \"I love you\\nmore than ever--and I\\'ve so many things to tell you.  But\\njust now I feel as if it were joy enough to sit here and\\nlook at you.  I\\'m tired, I think--tired of being studious\\nand ambitious.  I mean to spend at least two hours tomorrow\\nlying out in the orchard grass, thinking of absolutely nothing.\"\\n\\n\"You\\'ve done splendidly, Anne.  I suppose you won\\'t be teaching\\nnow that you\\'ve won the Avery?\"\\n\\n\"No.  I\\'m going to Redmond in September.  Doesn\\'t it\\nseem wonderful?  I\\'ll have a brand new stock of ambition\\nlaid in by that time after three glorious, golden months of\\nvacation.  Jane and Ruby are going to teach.  Isn\\'t it splendid\\nto think we all got through even to Moody Spurgeon and Josie Pye?\"\\n\\n\"The Newbridge trustees have offered Jane their school already,\"\\nsaid Diana.  \"Gilbert Blythe is going to teach, too.  He has to.\\nHis father can\\'t afford to send him to college next year, after all,\\nso he means to earn his own way through.  I expect he\\'ll get the\\nschool here if Miss Ames decides to leave.\"\\n\\nAnne felt a queer little sensation of dismayed surprise.\\nShe had not known this; she had expected that Gilbert\\nwould be going to Redmond also.  What would she do without\\ntheir inspiring rivalry?  Would not work, even at a\\ncoeducational college with a real degree in prospect, be\\nrather flat without her friend the enemy?\\n\\nThe next morning at breakfast it suddenly struck Anne\\nthat Matthew was not looking well.  Surely he was much\\ngrayer than he had been a year before.\\n\\n\"Marilla,\" she said hesitatingly when he had gone out,\\n\"is Matthew quite well?\"\\n\\n\"No, he isn\\'t,\" said Marilla in a troubled tone.  \"He\\'s\\nhad some real bad spells with his heart this spring and he\\nwon\\'t spare himself a mite.  I\\'ve been real worried about\\nhim, but he\\'s some better this while back and we\\'ve got a\\ngood hired man, so I\\'m hoping he\\'ll kind of rest and pick up.\\nMaybe he will now you\\'re home.  You always cheer him up.\"\\n\\nAnne leaned across the table and took Marilla\\'s face in\\nher hands.\\n\\n\"You are not looking as well yourself as I\\'d like to see\\nyou, Marilla.  You look tired.  I\\'m afraid you\\'ve been\\nworking too hard.  You must take a rest, now that I\\'m home.\\nI\\'m just going to take this one day off to visit all the dear\\nold spots and hunt up my old dreams, and then it will be\\nyour turn to be lazy while I do the work.\"\\n\\nMarilla smiled affectionately at her girl.\\n\\n\"It\\'s not the work--it\\'s my head.  I\\'ve got a pain so often\\nnow--behind my eyes.  Doctor Spencer\\'s been fussing with\\nglasses, but they don\\'t do me any good.  There is a \\ndistinguished oculist coming to the Island the last of June\\nand the doctor says I must see him.  I guess I\\'ll have to.\\nI can\\'t read or sew with any comfort now.  Well, Anne, you\\'ve\\ndone real well at Queen\\'s I must say.  To take First Class\\nLicense in one year and win the Avery scholarship--well,\\nwell, Mrs. Lynde says pride goes before a fall and she\\ndoesn\\'t believe in the higher education of women at all;\\nshe says it unfits them for woman\\'s true sphere.  I don\\'t\\nbelieve a word of it.  Speaking of Rachel reminds me--did\\nyou hear anything about the Abbey Bank lately, Anne?\"\\n\\n\"I heard it was shaky,\" answered Anne.  \"Why?\"\\n\\n\"That is what Rachel said.  She was up here one day last\\nweek and said there was some talk about it.  Matthew felt\\nreal worried.  All we have saved is in that bank--every\\npenny.  I wanted Matthew to put it in the Savings Bank in\\nthe first place, but old Mr. Abbey was a great friend of\\nfather\\'s and he\\'d always banked with him.  Matthew said any\\nbank with him at the head of it was good enough for anybody.\"\\n\\n\"I think he has only been its nominal head for many\\nyears,\" said Anne.  \"He is a very old man; his nephews\\nare really at the head of the institution.\"\\n\\n\"Well, when Rachel told us that, I wanted Matthew to draw\\nour money right out and he said he\\'d think of it.  But\\nMr. Russell told him yesterday that the bank was all right.\"\\n\\nAnne had her good day in the companionship of the outdoor world.\\nShe never forgot that day; it was so bright and golden and fair,\\nso free from shadow and so lavish of blossom.  Anne spent some\\nof its rich hours in the orchard; she went to the Dryad\\'s Bubble\\nand Willowmere and Violet Vale; she called at the manse and had\\na satisfying talk with Mrs. Allan; and finally in the evening\\nshe went with Matthew for the cows, through Lovers\\' Lane to the\\nback pasture.  The woods were all gloried through with sunset\\nand the warm splendor of it streamed down through the hill gaps\\nin the west.  Matthew walked slowly with bent head; Anne, tall\\nand erect, suited her springing step to his.\\n\\n\"You\\'ve been working too hard today, Matthew,\" she said\\nreproachfully.  \"Why won\\'t you take things easier?\"\\n\\n\"Well now, I can\\'t seem to,\" said Matthew, as he opened\\nthe yard gate to let the cows through.  \"It\\'s only that I\\'m\\ngetting old, Anne, and keep forgetting it.  Well, well, I\\'ve\\nalways worked pretty hard and I\\'d rather drop in harness.\"\\n\\n\"If I had been the boy you sent for,\" said Anne wistfully,\\n\"I\\'d be able to help you so much now and spare you in a\\nhundred ways.  I could find it in my heart to wish I had\\nbeen, just for that.\"\\n\\n\"Well now, I\\'d rather have you than a dozen boys, Anne,\"\\nsaid Matthew patting her hand.  \"Just mind you that--\\nrather than a dozen boys.  Well now, I guess it wasn\\'t\\na boy that took the Avery scholarship, was it?  It was\\na girl--my girl--my girl that I\\'m proud of.\"\\n\\nHe smiled his shy smile at her as he went into the yard.\\nAnne took the memory of it with her when she went to her\\nroom that night and sat for a long while at her open window,\\nthinking of the past and dreaming of the future.\\nOutside the Snow Queen was mistily white in the moonshine;\\nthe frogs were singing in the marsh beyond Orchard Slope.\\nAnne always remembered the silvery, peaceful beauty and\\nfragrant calm of that night.  It was the last night before\\nsorrow touched her life; and no life is ever quite the same\\nagain when once that cold, sanctifying touch has been laid upon it.\\n\\n\\n\\n\\nCHAPTER XXXVII\\n\\nThe Reaper Whose Name Is Death\\n\\n\\n\"Matthew--Matthew--what is the matter?  Matthew, are you sick?\"\\n\\nIt was Marilla who spoke, alarm in every jerky word.  Anne\\ncame through the hall, her hands full of white narcissus,--it\\nwas long before Anne could love the sight or odor of white\\nnarcissus again,--in time to hear her and to see Matthew\\nstanding in the porch doorway, a folded paper in his hand,\\nand his face strangely drawn and gray.  Anne dropped her flowers\\nand sprang across the kitchen to him at the same moment as\\nMarilla.  They were both too late; before they could reach him\\nMatthew had fallen across the threshold.\\n\\n\"He\\'s fainted,\" gasped Marilla.  \"Anne, run for Martin--\\nquick, quick!  He\\'s at the barn.\"\\n\\nMartin, the hired man, who had just driven home from\\nthe post office, started at once for the doctor, calling at\\nOrchard Slope on his way to send Mr. and Mrs. Barry over.\\nMrs. Lynde, who was there on an errand, came too.  They\\nfound Anne and Marilla distractedly trying to restore\\nMatthew to consciousness.\\n\\nMrs. Lynde pushed them gently aside, tried his pulse,\\nand then laid her ear over his heart.  She looked at their\\nanxious faces sorrowfully and the tears came into her eyes.\\n\\n\"Oh, Marilla,\" she said gravely.  \"I don\\'t think--we can do\\nanything for him.\"\\n\\n\"Mrs. Lynde, you don\\'t think--you can\\'t think Matthew is-- is--\"\\nAnne could not say the dreadful word; she turned sick and pallid.\\n\\n\"Child, yes, I\\'m afraid of it.  Look at his face.  When you\\'ve\\nseen that look as often as I have you\\'ll know what it means.\"\\n\\nAnne looked at the still face and there beheld the seal of\\nthe Great Presence.\\n\\nWhen the doctor came he said that death had been instantaneous\\nand probably painless, caused in all likelihood by some sudden shock.\\nThe secret of the shock was discovered to be in the paper Matthew\\nhad held and which Martin had brought from the office that morning.\\nIt contained an account of the failure of the Abbey Bank.\\n\\nThe news spread quickly through Avonlea, and all day\\nfriends and neighbors thronged Green Gables and came\\nand went on errands of kindness for the dead and living.\\nFor the first time shy, quiet Matthew Cuthbert was a\\nperson of central importance; the white majesty of death\\nhad fallen on him and set him apart as one crowned.\\n\\nWhen the calm night came softly down over Green Gables\\nthe old house was hushed and tranquil.  In the parlor lay\\nMatthew Cuthbert in his coffin, his long gray hair framing\\nhis placid face on which there was a little kindly smile\\nas if he but slept, dreaming pleasant dreams.  There were\\nflowers about him--sweet old-fashioned flowers which his mother\\nhad planted in the homestead garden in her bridal days and\\nfor which Matthew had always had a secret, wordless love.\\nAnne had gathered them and brought them to him, her anguished,\\ntearless eyes burning in her white face.  It was the last thing\\nshe could do for him.\\n\\nThe Barrys and Mrs. Lynde stayed with them that night.\\nDiana, going to the east gable, where Anne was standing\\nat her window, said gently:\\n\\n\"Anne dear, would you like to have me sleep with you tonight?\"\\n\\n\"Thank you, Diana.\"  Anne looked earnestly into her friend\\'s face.\\n\"I think you won\\'t misunderstand me when I say I want to be alone.\\nI\\'m not afraid.  I haven\\'t been alone one minute since it happened--\\nand I want to be.  I want to be quite silent and quiet and try to\\nrealize it.  I can\\'t realize it.  Half the time it seems to me that\\nMatthew can\\'t be dead; and the other half it seems as if he must\\nhave been dead for a long time and I\\'ve had this horrible\\ndull ache ever since.\"\\n\\nDiana did not quite understand.  Marilla\\'s impassioned grief,\\nbreaking all the bounds of natural reserve and lifelong habit\\nin its stormy rush, she could comprehend better than Anne\\'s\\ntearless agony.  But she went away kindly, leaving Anne alone\\nto keep her first vigil with sorrow.\\n\\nAnne hoped that the tears would come in solitude.  It seemed\\nto her a terrible thing that she could not shed a tear for\\nMatthew, whom she had loved so much and who had been\\nso kind to her, Matthew who had walked with her last\\nevening at sunset and was now lying in the dim room\\nbelow with that awful peace on his brow.  But no tears\\ncame at first, even when she knelt by her window in the\\ndarkness and prayed, looking up to the stars beyond the\\nhills--no tears, only the same horrible dull ache of\\nmisery that kept on aching until she fell asleep,\\nworn out with the day\\'s pain and excitement.\\n\\nIn the night she awakened, with the stillness and the\\ndarkness about her, and the recollection of the day came\\nover her like a wave of sorrow.  She could see Matthew\\'s\\nface smiling at her as he had smiled when they parted at\\nthe gate that last evening--she could hear his voice saying,\\n\"My girl--my girl that I\\'m proud of.\"  Then the tears came\\nand Anne wept her heart out.  Marilla heard her and crept\\nin to comfort her.\\n\\n\"There--there--don\\'t cry so, dearie.  It can\\'t bring him back.\\nIt--it--isn\\'t right to cry so.  I knew that today, but I\\ncouldn\\'t help it then.  He\\'d always been such a good,\\nkind brother to me--but God knows best.\"\\n\\n\"Oh, just let me cry, Marilla,\" sobbed Anne.  \"The tears\\ndon\\'t hurt me like that ache did.  Stay here for a little\\nwhile with me and keep your arm round me--so.  I couldn\\'t\\nhave Diana stay, she\\'s good and kind and sweet--but it\\'s\\nnot her sorrow--she\\'s outside of it and she couldn\\'t come\\nclose enough to my heart to help me.  It\\'s our sorrow--\\nyours and mine.  Oh, Marilla, what will we do without him?\"\\n\\n\"We\\'ve got each other, Anne.  I don\\'t know what I\\'d do\\nif you weren\\'t here--if you\\'d never come.  Oh, Anne, I\\nknow I\\'ve been kind of strict and harsh with you maybe--\\nbut you mustn\\'t think I didn\\'t love you as well as Matthew\\ndid, for all that.  I want to tell you now when I can.  It\\'s\\nnever been easy for me to say things out of my heart, but\\nat times like this it\\'s easier.  I love you as dear as if\\nyou were my own flesh and blood and you\\'ve been my joy and\\ncomfort ever since you came to Green Gables.\"\\n\\nTwo days afterwards they carried Matthew Cuthbert\\nover his homestead threshold and away from the fields he\\nhad tilled and the orchards he had loved and the trees he\\nhad planted; and then Avonlea settled back to its usual\\nplacidity and even at Green Gables affairs slipped into\\ntheir old groove and work was done and duties fulfilled\\nwith regularity as before, although always with the aching\\nsense of \"loss in all familiar things.\"  Anne, new to grief,\\nthought it almost sad that it could be so--that they COULD\\ngo on in the old way without Matthew.  She felt something\\nlike shame and remorse when she discovered that the\\nsunrises behind the firs and the pale pink buds opening in\\nthe garden gave her the old inrush of gladness when she\\nsaw them--that Diana\\'s visits were pleasant to her and\\nthat Diana\\'s merry words and ways moved her to laughter\\nand smiles--that, in brief, the beautiful world of blossom\\nand love and friendship had lost none of its power to\\nplease her fancy and thrill her heart, that life still\\ncalled to her with many insistent voices.\\n\\n\"It seems like disloyalty to Matthew, somehow, to find\\npleasure in these things now that he has gone,\" she said\\nwistfully to Mrs. Allan one evening when they were together\\nin the manse garden.  \"I miss him so much--all the time--\\nand yet, Mrs. Allan, the world and life seem very beautiful\\nand interesting to me for all.  Today Diana said something\\nfunny and I found myself laughing.  I thought when it\\nhappened I could never laugh again.  And it somehow seems\\nas if I oughtn\\'t to.\"\\n\\n\"When Matthew was here he liked to hear you laugh\\nand he liked to know that you found pleasure in the\\npleasant things around you,\" said Mrs. Allan gently.\\n\"He is just away now; and he likes to know it just the same.\\nI am sure we should not shut our hearts against the healing\\ninfluences that nature offers us.  But I can understand\\nyour feeling.  I think we all experience the same thing.\\nWe resent the thought that anything can please us when someone\\nwe love is no longer here to share the pleasure with us,\\nand we almost feel as if we were unfaithful to our sorrow\\nwhen we find our interest in life returning to us.\"\\n\\n\"I was down to the graveyard to plant a rosebush on\\nMatthew\\'s grave this afternoon,\" said Anne dreamily.\\n\"I took a slip of the little white Scotch rosebush his\\nmother brought out from Scotland long ago; Matthew always\\nliked those roses the best--they were so small and sweet on\\ntheir thorny stems.  It made me feel glad that I could plant\\nit by his grave--as if I were doing something that must please\\nhim in taking it there to be near him.  I hope he has roses\\nlike them in heaven.  Perhaps the souls of all those little\\nwhite roses that he has loved so many summers were all there\\nto meet him.  I must go home now.  Marilla is all alone and\\nshe gets lonely at twilight.\"\\n\\n\"She will be lonelier still, I fear, when you go away again\\nto college,\" said Mrs. Allan.\\n\\nAnne did not reply; she said good night and went slowly\\nback to green Gables.  Marilla was sitting on the front\\ndoor-steps and Anne sat down beside her.  The door was\\nopen behind them, held back by a big pink conch shell\\nwith hints of sea sunsets in its smooth inner convolutions.\\n\\nAnne gathered some sprays of pale-yellow honeysuckle and put\\nthem in her hair.  She liked the delicious hint of fragrance,\\nas some aerial benediction, above her every time she moved.\\n\\n\"Doctor Spencer was here while you were away,\" Marilla said.\\n\"He says that the specialist will be in town tomorrow\\nand he insists that I must go in and have my eyes examined.\\nI suppose I\\'d better go and have it over.  I\\'ll be more\\nthan thankful if the man can give me the right kind of\\nglasses to suit my eyes.  You won\\'t mind staying here alone\\nwhile I\\'m away, will you?  Martin will have to drive me in\\nand there\\'s ironing and baking to do.\"\\n\\n\"I shall be all right.  Diana will come over for company\\nfor me.  I shall attend to the ironing and baking beautifully--\\nyou needn\\'t fear that I\\'ll starch the handkerchiefs or flavor\\nthe cake with liniment.\"\\n\\nMarilla laughed.\\n\\n\"What a girl you were for making mistakes in them days, Anne.\\nYou were always getting into scrapes.  I did use to think you\\nwere possessed.  Do you mind the time you dyed your hair?\"\\n\\n\"Yes, indeed.  I shall never forget it,\" smiled Anne,\\ntouching the heavy braid of hair that was wound about her\\nshapely head.  \"I laugh a little now sometimes when I\\nthink what a worry my hair used to be to me--but I don\\'t\\nlaugh MUCH, because it was a very real trouble then.\\nI did suffer terribly over my hair and my freckles.\\nMy freckles are really gone; and people are nice enough\\nto tell me my hair is auburn now--all but Josie Pye.\\nShe informed me yesterday that she really thought it\\nwas redder than ever, or at least my black dress made\\nit look redder, and she asked me if people who had red\\nhair ever got used to having it.  Marilla, I\\'ve almost\\ndecided to give up trying to like Josie Pye.  I\\'ve made\\nwhat I would once have called a heroic effort to like her,\\nbut Josie Pye won\\'t BE liked.\"\\n\\n\"Josie is a Pye,\" said Marilla sharply, \"so she can\\'t help\\nbeing disagreeable.  I suppose people of that kind serve\\nsome useful purpose in society, but I must say I don\\'t\\nknow what it is any more than I know the use of thistles.\\nIs Josie going to teach?\"\\n\\n\"No, she is going back to Queen\\'s next year.  So are\\nMoody Spurgeon and Charlie Sloane.  Jane and Ruby are\\ngoing to teach and they have both got schools--Jane at\\nNewbridge and Ruby at some place up west.\"\\n\\n\"Gilbert Blythe is going to teach too, isn\\'t he?\"\\n\\n\"Yes\"--briefly.\\n\\n\"What a nice-looking fellow he is,\" said Marilla absently.\\n\"I saw him in church last Sunday and he seemed so tall and manly.\\nHe looks a lot like his father did at the same age.  John Blythe\\nwas a nice boy.  We used to be real good friends, he and I.\\nPeople called him my beau.\"\\n\\nAnne looked up with swift interest.\\n\\n\"Oh, Marilla--and what happened?--why didn\\'t you--\"\\n\\n\"We had a quarrel.  I wouldn\\'t forgive him when he asked me to.\\nI meant to, after awhile--but I was sulky and angry and I wanted\\nto punish him first.  He never came back--the Blythes were all\\nmighty independent.  But I always felt--rather sorry.  I\\'ve always\\nkind of wished I\\'d forgiven him when I had the chance.\"\\n\\n\"So you\\'ve had a bit of romance in your life, too,\" said Anne softly.\\n\\n\"Yes, I suppose you might call it that.  You wouldn\\'t think so\\nto look at me, would you?  But you never can tell about people\\nfrom their outsides.  Everybody has forgot about me and John.\\nI\\'d forgotten myself.  But it all came back to me when I saw\\nGilbert last Sunday.\"\\n\\n\\n\\n\\n\\nCHAPTER XXXVIII\\n\\nThe Bend in the road\\n\\n\\nMarilla went to town the next day and returned in the\\nevening.  Anne had gone over to Orchard Slope with Diana\\nand came back to find Marilla in the kitchen, sitting\\nby the table with her head leaning on her hand.  Something\\nin her dejected attitude struck a chill to Anne\\'s heart.\\nShe had never seen Marilla sit limply inert like that.\\n\\n\"Are you very tired, Marilla?\"\\n\\n\"Yes--no--I don\\'t know,\" said Marilla wearily, looking\\nup.  \"I suppose I am tired but I haven\\'t thought about it.\\nIt\\'s not that.\"\\n\\n\"Did you see the oculist?  What did he say?\" asked Anne\\nanxiously.\\n\\n\"Yes, I saw him.  He examined my eyes.  He says that if\\nI give up all reading and sewing entirely and any kind of\\nwork that strains the eyes, and if I\\'m careful not to cry,\\nand if I wear the glasses he\\'s given me he thinks my eyes\\nmay not get any worse and my headaches will be cured.  But\\nif I don\\'t he says I\\'ll certainly be stone-blind in six\\nmonths.  Blind!  Anne, just think of it!\"\\n\\nFor a minute Anne, after her first quick exclamation of\\ndismay, was silent.  It seemed to her that she could NOT\\nspeak.  Then she said bravely, but with a catch in her voice:\\n\\n\"Marilla, DON\\'T think of it.  You know he has given you hope.\\nIf you are careful you won\\'t lose your sight altogether;\\nand if his glasses cure your headaches it will be a great thing.\"\\n\\n\"I don\\'t call it much hope,\" said Marilla bitterly.  \"What\\nam I to live for if I can\\'t read or sew or do anything like\\nthat?  I might as well be blind--or dead.  And as for crying,\\nI can\\'t help that when I get lonesome.  But there, it\\'s no\\ngood talking about it.  If you\\'ll get me a cup of tea I\\'ll be\\nthankful.  I\\'m about done out.  Don\\'t say anything about this\\nto any one for a spell yet, anyway.  I can\\'t bear that folks\\nshould come here to question and sympathize and talk about it.\"\\n\\nWhen Marilla had eaten her lunch Anne persuaded her to go\\nto bed.  Then Anne went herself to the east gable and sat\\ndown by her window in the darkness alone with her tears\\nand her heaviness of heart.  How sadly things had changed\\nsince she had sat there the night after coming home!  Then\\nshe had been full of hope and joy and the future had looked\\nrosy with promise.  Anne felt as if she had lived years\\nsince then, but before she went to bed there was a smile on\\nher lips and peace in her heart.  She had looked her duty\\ncourageously in the face and found it a friend--as duty ever\\nis when we meet it frankly.\\n\\nOne afternoon a few days later Marilla came slowly in\\nfrom the front yard where she had been talking to a caller--\\na man whom Anne knew by sight as Sadler from Carmody.\\nAnne wondered what he could have been saying to bring that\\nlook to Marilla\\'s face.\\n\\n\"What did Mr. Sadler want, Marilla?\"\\n\\nMarilla sat down by the window and looked at Anne.\\nThere were tears in her eyes in defiance of the oculist\\'s\\nprohibition and her voice broke as she said:\\n\\n\"He heard that I was going to sell Green Gables and\\nhe wants to buy it.\"\\n\\n\"Buy it!  Buy Green Gables?\"  Anne wondered if she had heard aright.\\n\"Oh, Marilla, you don\\'t mean to sell Green Gables!\"\\n\\n\"Anne, I don\\'t know what else is to be done.  I\\'ve thought\\nit all over.  If my eyes were strong I could stay here\\nand make out to look after things and manage, with a good\\nhired man.  But as it is I can\\'t.  I may lose my sight\\naltogether; and anyway I\\'ll not be fit to run things.\\nOh, I never thought I\\'d live to see the day when I\\'d have\\nto sell my home.  But things would only go behind worse and\\nworse all the time, till nobody would want to buy it.\\nEvery cent of our money went in that bank; and there\\'s\\nsome notes Matthew gave last fall to pay.  Mrs. Lynde\\nadvises me to sell the farm and board somewhere--with\\nher I suppose.  It won\\'t bring much--it\\'s small and the\\nbuildings are old.  But it\\'ll be enough for me to live on\\nI reckon.  I\\'m thankful you\\'re provided for with that\\nscholarship, Anne.  I\\'m sorry you won\\'t have a home to\\ncome to in your vacations, that\\'s all, but I suppose you\\'ll\\nmanage somehow.\"\\n\\nMarilla broke down and wept bitterly.\\n\\n\"You mustn\\'t sell Green Gables,\" said Anne resolutely.\\n\\n\"Oh, Anne, I wish I didn\\'t have to.  But you can see for yourself.\\nI can\\'t stay here alone.  I\\'d go crazy with trouble and loneliness.\\nAnd my sight would go--I know it would.\"\\n\\n\"You won\\'t have to stay here alone, Marilla.  I\\'ll be with you.\\nI\\'m not going to Redmond.\"\\n\\n\"Not going to Redmond!\"  Marilla lifted her worn face\\nfrom her hands and looked at Anne.  \"Why, what do you mean?\"\\n\\n\"Just what I say.  I\\'m not going to take the scholarship.\\nI decided so the night after you came home from town.  You\\nsurely don\\'t think I could leave you alone in your trouble,\\nMarilla, after all you\\'ve done for me.  I\\'ve been thinking\\nand planning.  Let me tell you my plans.  Mr. Barry wants\\nto rent the farm for next year.  So you won\\'t have any\\nbother over that.  And I\\'m going to teach.  I\\'ve applied\\nfor the school here--but I don\\'t expect to get it for I\\nunderstand the trustees have promised it to Gilbert Blythe.\\nBut I can have the Carmody school--Mr. Blair told me so last\\nnight at the store.  Of course that won\\'t be quite as nice\\nor convenient as if I had the Avonlea school.  But I can board\\nhome and drive myself over to Carmody and back, in the\\nwarm weather at least.  And even in winter I can come home\\nFridays.  We\\'ll keep a horse for that.  Oh, I have it all\\nplanned out, Marilla.  And I\\'ll read to you and keep you\\ncheered up.  You sha\\'n\\'t be dull or lonesome.  And we\\'ll be\\nreal cozy and happy here together, you and I.\"\\n\\nMarilla had listened like a woman in a dream.\\n\\n\"Oh, Anne, I could get on real well if you were here, I know.\\nBut I can\\'t let you sacrifice yourself so for me. It would be terrible.\"\\n\\n\"Nonsense!\" Anne laughed merrily.  \"There is no sacrifice.\\nNothing could be worse than giving up Green Gables--nothing\\ncould hurt me more.  We must keep the dear old place.\\nMy mind is quite made up, Marilla.  I\\'m NOT going\\nto Redmond; and I AM going to stay here and teach.\\nDon\\'t you worry about me a bit.\"\\n\\n\"But your ambitions--and--\"\\n\\n\"I\\'m just as ambitious as ever.  Only, I\\'ve changed the\\nobject of my ambitions.  I\\'m going to be a good teacher--\\nand I\\'m going to save your eyesight.  Besides, I mean to study\\nat home here and take a little college course all by myself.\\nOh, I\\'ve dozens of plans, Marilla.  I\\'ve been thinking them\\nout for a week.  I shall give life here my best, and I believe\\nit will give its best to me in return.  When I left Queen\\'s\\nmy future seemed to stretch out before me like a straight road.\\nI thought I could see along it for many a milestone.  Now there\\nis a bend in it.  I don\\'t know what lies around the bend,\\nbut I\\'m going to believe that the best does.  It has a\\nfascination of its own, that bend, Marilla.  I wonder how\\nthe road beyond it goes--what there is of green glory and soft,\\ncheckered light and shadows--what new landscapes--what new\\nbeauties--what curves and hills and valleys further on.\"\\n\\n\"I don\\'t feel as if I ought to let you give it up,\" said Marilla,\\nreferring to the scholarship.\\n\\n\"But you can\\'t prevent me.  I\\'m sixteen and a half, `obstinate\\nas a mule,\\' as Mrs. Lynde once told me,\" laughed Anne.\\n\"Oh, Marilla, don\\'t you go pitying me.  I don\\'t like\\nto be pitied, and there is no need for it.  I\\'m heart glad\\nover the very thought of staying at dear Green Gables.\\nNobody could love it as you and I do--so we must keep it.\"\\n\\n\"You blessed girl!\" said Marilla, yielding.  \"I feel as if\\nyou\\'d given me new life.  I guess I ought to stick out and\\nmake you go to college--but I know I can\\'t, so I ain\\'t\\ngoing to try.  I\\'ll make it up to you though, Anne.\"\\n\\nWhen it became noised abroad in Avonlea that Anne\\nShirley had given up the idea of going to college and\\nintended to stay home and teach there was a good deal of\\ndiscussion over it.  Most of the good folks, not knowing\\nabout Marilla\\'s eyes, thought she was foolish.  Mrs. Allan\\ndid not.  She told Anne so in approving words that brought\\ntears of pleasure to the girl\\'s eyes.  Neither did good\\nMrs. Lynde.  She came up one evening and found Anne and Marilla\\nsitting at the front door in the warm, scented summer dusk.\\nThey liked to sit there when the twilight came down and the\\nwhite moths flew about in the garden and the odor of mint\\nfilled the dewy air.\\n\\nMrs. Rachel deposited her substantial person upon the\\nstone bench by the door, behind which grew a row of tall\\npink and yellow hollyhocks, with a long breath of mingled\\nweariness and relief.\\n\\n\"I declare I\\'m getting glad to sit down.  I\\'ve been on my feet\\nall day, and two hundred pounds is a good bit for two feet to\\ncarry round.  It\\'s a great blessing not to be fat, Marilla.\\nI hope you appreciate it.  Well, Anne, I hear you\\'ve given up\\nyour notion of going to college.  I was real glad to hear it.\\nYou\\'ve got as much education now as a woman can be comfortable\\nwith.  I don\\'t believe in girls going to college with the men and\\ncramming their heads full of Latin and Greek and all that nonsense.\"\\n\\n\"But I\\'m going to study Latin and Greek just the same,\\nMrs. Lynde,\" said Anne laughing.  \"I\\'m going to take my\\nArts course right here at Green Gables, and study everything\\nthat I would at college.\"\\n\\nMrs. Lynde lifted her hands in holy horror.\\n\\n\"Anne Shirley, you\\'ll kill yourself.\"\\n\\n\"Not a bit of it.  I shall thrive on it.  Oh, I\\'m not going\\nto overdo things.  As `Josiah Allen\\'s wife,\\' says, I shall\\nbe `mejum\\'.  But I\\'ll have lots of spare time in the long\\nwinter evenings, and I\\'ve no vocation for fancy work.\\nI\\'m going to teach over at Carmody, you know.\"\\n\\n\"I don\\'t know it.  I guess you\\'re going to teach right here\\nin Avonlea.  The trustees have decided to give you the school.\"\\n\\n\"Mrs. Lynde!\" cried Anne, springing to her feet in her surprise.\\n\"Why, I thought they had promised it to Gilbert Blythe!\"\\n\\n\"So they did.  But as soon as Gilbert heard that you had\\napplied for it he went to them--they had a business meeting\\nat the school last night, you know--and told them that he\\nwithdrew his application, and suggested that they accept yours.\\nHe said he was going to teach at White Sands.  Of course he\\nknew how much you wanted to stay with Marilla, and I must say\\nI think it was real kind and thoughtful in him, that\\'s what.\\nReal self-sacrificing, too, for he\\'ll have his board to pay\\nat White Sands, and everybody knows he\\'s got to earn his own\\nway through college.  So the trustees decided to take you.\\nI was tickled to death when Thomas came home and told me.\"\\n\\n\"I don\\'t feel that I ought to take it,\" murmured Anne.\\n\"I mean--I don\\'t think I ought to let Gilbert make such \\na sacrifice for--for me.\"\\n\\n\"I guess you can\\'t prevent him now.  He\\'s signed papers with\\nthe White Sands trustees.  So it wouldn\\'t do him any good now\\nif you were to refuse.  Of course you\\'ll take the school.\\nYou\\'ll get along all right, now that there are no Pyes going.\\nJosie was the last of them, and a good thing she was, that\\'s what.\\nThere\\'s been some Pye or other going to Avonlea school for the\\nlast twenty years, and I guess their mission in life was to\\nkeep school teachers reminded that earth isn\\'t their home.\\nBless my heart! What does all that winking and blinking\\nat the Barry gable mean?\"\\n\\n\"Diana is signaling for me to go over,\" laughed Anne.\\n\"You know we keep up the old custom.  Excuse me while I\\nrun over and see what she wants.\"\\n\\nAnne ran down the clover slope like a deer, and disappeared\\nin the firry shadows of the Haunted Wood.  Mrs. Lynde looked\\nafter her indulgently.\\n\\n\"There\\'s a good deal of the child about her yet in some ways.\"\\n\\n\"There\\'s a good deal more of the woman about her in others,\"\\nretorted Marilla, with a momentary return of her old crispness.\\n\\nBut crispness was no longer Marilla\\'s distinguishing\\ncharacteristic.  As Mrs. Lynde told her Thomas that night.\\n\\n\"Marilla Cuthbert has got MELLOW.  That\\'s what.\"\\n\\nAnne went to the little Avonlea graveyard the next\\nevening to put fresh flowers on Matthew\\'s grave and water\\nthe Scotch rosebush.  She lingered there until dusk, liking\\nthe peace and calm of the little place, with its poplars\\nwhose rustle was like low, friendly speech, and its\\nwhispering grasses growing at will among the graves.\\nWhen she finally left it and walked down the long hill that\\nsloped to the Lake of Shining Waters it was past sunset and\\nall Avonlea lay before her in a dreamlike afterlight--\\n\"a haunt of ancient peace.\"  There was a freshness in the air\\nas of a wind that had blown over honey-sweet fields of clover.\\nHome lights twinkled out here and there among the homestead\\ntrees.  Beyond lay the sea, misty and purple, with its\\nhaunting, unceasing murmur.  The west was a glory of soft\\nmingled hues, and the pond reflected them all in still\\nsofter shadings.  The beauty of it all thrilled Anne\\'s heart,\\nand she gratefully opened the gates of her soul to it.\\n\\n\"Dear old world,\" she murmured, \"you are very lovely,\\nand I am glad to be alive in you.\"\\n\\nHalfway down the hill a tall lad came whistling out of a\\ngate before the Blythe homestead.  It was Gilbert, and the\\nwhistle died on his lips as he recognized Anne.  He lifted\\nhis cap courteously, but he would have passed on in\\nsilence, if Anne had not stopped and held out her hand.\\n\\n\"Gilbert,\" she said, with scarlet cheeks, \"I want to\\nthank you for giving up the school for me.  It was very\\ngood of you--and I want you to know that I appreciate it.\"\\n\\nGilbert took the offered hand eagerly.\\n\\n\"It wasn\\'t particularly good of me at all, Anne.  I was\\npleased to be able to do you some small service.  Are we\\ngoing to be friends after this?  Have you really forgiven\\nme my old fault?\"\\n\\nAnne laughed and tried unsuccessfully to withdraw her hand.\\n\\n\"I forgave you that day by the pond landing, although\\nI didn\\'t know it.  What a stubborn little goose I was.\\nI\\'ve been--I may as well make a complete confession--I\\'ve\\nbeen sorry ever since.\"\\n\\n\"We are going to be the best of friends,\" said Gilbert,\\njubilantly.  \"We were born to be good friends, Anne.\\nYou\\'ve thwarted destiny enough.  I know we can help each\\nother in many ways.  You are going to keep up your studies,\\naren\\'t you?  So am I.  Come, I\\'m going to walk home with you.\"\\n\\nMarilla looked curiously at Anne when the latter entered\\nthe kitchen.\\n\\n\"Who was that came up the lane with you, Anne?\"\\n\\n\"Gilbert Blythe,\" answered Anne, vexed to find herself\\nblushing.  \"I met him on Barry\\'s hill.\"\\n\\n\"I didn\\'t think you and Gilbert Blythe were such good\\nfriends that you\\'d stand for half an hour at the gate\\ntalking to him,\" said Marilla with a dry smile.\\n\\n\"We haven\\'t been--we\\'ve been good enemies.  But we\\nhave decided that it will be much more sensible to be\\ngood friends in the future.  Were we really there half an\\nhour?  It seemed just a few minutes.  But, you see, we have\\nfive years\\' lost conversations to catch up with, Marilla.\"\\n\\nAnne sat long at her window that night companioned by\\na glad content.  The wind purred softly in the cherry\\nboughs, and the mint breaths came up to her.  The stars\\ntwinkled over the pointed firs in the hollow and Diana\\'s\\nlight gleamed through the old gap.\\n\\nAnne\\'s horizons had closed in since the night she had\\nsat there after coming home from Queen\\'s; but if the path\\nset before her feet was to be narrow she knew that flowers\\nof quiet happiness would bloom along it.  The joy of\\nsincere work and worthy aspiration and congenial friendship\\nwere to be hers; nothing could rob her of her birthright\\nof fancy or her ideal world of dreams.  And there was always\\nthe bend in the road!\\n\\n\"`God\\'s in his heaven, all\\'s right with the world,\\'\"\\nwhispered Anne softly.\\n\\n***\\n\\nEnd of the Project Gutenberg Edition of Anne of Green Gables\\nby Lucy Maud Montgomery\\n\\n'"
      ]
     },
     "execution_count": 17,
     "metadata": {},
     "output_type": "execute_result"
    }
   ],
   "source": [
    "text = t[450000:]\n",
    "text"
   ]
  },
  {
   "cell_type": "code",
   "execution_count": 18,
   "metadata": {},
   "outputs": [
    {
     "name": "stdout",
     "output_type": "stream",
     "text": [
      "추출적 요약 01 : Anne?\n",
      "Anne\"\n",
      "\"You've done pretty well, I must say, Anne,\" said Marilla,\n",
      "Anne,\n",
      "Anne, your\n",
      "\"Oh, no, don't say things like that, Jane,\" said Anne quickly,\n",
      "\"Oh, Marilla, it's just lovely,\" said Anne.\n",
      "Anne put it\n",
      "But when Anne\n",
      "Anne?\n",
      "Not that Anne could\n",
      "But Anne, with her\n",
      "Anne went home to Avonlea with Matthew and Marilla\n",
      "Anne\n",
      "추출적 요약 02 : ['Anne?', 'Anne\"', '\"You\\'ve done pretty well, I must say, Anne,\" said Marilla,', 'Anne,', 'Anne, your', '\"Oh, no, don\\'t say things like that, Jane,\" said Anne quickly,', '\"Oh, Marilla, it\\'s just lovely,\" said Anne.', 'Anne put it', 'But when Anne', 'Anne?', 'Not that Anne could', 'But Anne, with her', 'Anne went home to Avonlea with Matthew and Marilla', 'Anne']\n",
      "추출적 요약 03 : Anne?\n",
      "\"Oh, I'm so glad,\" said Anne, with shining eyes.\n",
      "Anne\"\n",
      "\"Oh, Matthew,\" exclaimed Anne, \"I've passed and I'm first--or one\n",
      "\"You've done pretty well, I must say, Anne,\" said Marilla,\n",
      "Anne, and Mrs. Allan says you look like a Madonna when you part\n",
      "\"I'm so glad my window looks east into the sunrising,\" said Anne,\n",
      "Anne,\n",
      "Anne, your\n",
      "\"Oh, no, don't say things like that, Jane,\" said Anne quickly,\n",
      "\"Oh, Marilla, it's just lovely,\" said Anne.\n",
      "Anne put it\n",
      "But when Anne\n",
      "Anne?\n",
      "Not that Anne could\n",
      "But Anne, with her\n",
      "Anne went home to Avonlea with Matthew and Marilla\n",
      "Anne\n",
      "\n",
      "\n"
     ]
    }
   ],
   "source": [
    "print(\"추출적 요약 01 :\", summarize(text, ratio=0.005))\n",
    "print(\"추출적 요약 02 :\", summarize(text, ratio=0.005, split=True))\n",
    "print(\"추출적 요약 03 :\", summarize(text, ratio=0.005, words=100))\n",
    "\n",
    "print(\"\\n\")"
   ]
  },
  {
   "cell_type": "code",
   "execution_count": null,
   "metadata": {},
   "outputs": [],
   "source": []
  },
  {
   "cell_type": "code",
   "execution_count": null,
   "metadata": {},
   "outputs": [],
   "source": []
  },
  {
   "cell_type": "code",
   "execution_count": null,
   "metadata": {},
   "outputs": [],
   "source": []
  },
  {
   "cell_type": "code",
   "execution_count": null,
   "metadata": {},
   "outputs": [],
   "source": []
  },
  {
   "cell_type": "code",
   "execution_count": null,
   "metadata": {},
   "outputs": [],
   "source": []
  },
  {
   "cell_type": "code",
   "execution_count": null,
   "metadata": {},
   "outputs": [],
   "source": []
  },
  {
   "cell_type": "code",
   "execution_count": null,
   "metadata": {},
   "outputs": [],
   "source": []
  },
  {
   "cell_type": "code",
   "execution_count": null,
   "metadata": {},
   "outputs": [],
   "source": []
  },
  {
   "cell_type": "code",
   "execution_count": null,
   "metadata": {},
   "outputs": [],
   "source": []
  },
  {
   "cell_type": "code",
   "execution_count": null,
   "metadata": {},
   "outputs": [],
   "source": []
  },
  {
   "cell_type": "code",
   "execution_count": null,
   "metadata": {},
   "outputs": [],
   "source": []
  },
  {
   "cell_type": "code",
   "execution_count": null,
   "metadata": {},
   "outputs": [],
   "source": []
  },
  {
   "cell_type": "code",
   "execution_count": null,
   "metadata": {},
   "outputs": [],
   "source": []
  },
  {
   "cell_type": "code",
   "execution_count": null,
   "metadata": {},
   "outputs": [],
   "source": []
  },
  {
   "cell_type": "code",
   "execution_count": null,
   "metadata": {},
   "outputs": [],
   "source": []
  },
  {
   "cell_type": "code",
   "execution_count": null,
   "metadata": {},
   "outputs": [],
   "source": []
  },
  {
   "cell_type": "code",
   "execution_count": null,
   "metadata": {},
   "outputs": [],
   "source": []
  },
  {
   "cell_type": "code",
   "execution_count": null,
   "metadata": {},
   "outputs": [],
   "source": []
  },
  {
   "cell_type": "code",
   "execution_count": null,
   "metadata": {},
   "outputs": [],
   "source": []
  },
  {
   "cell_type": "code",
   "execution_count": null,
   "metadata": {},
   "outputs": [],
   "source": []
  },
  {
   "cell_type": "code",
   "execution_count": null,
   "metadata": {},
   "outputs": [],
   "source": []
  },
  {
   "cell_type": "code",
   "execution_count": null,
   "metadata": {},
   "outputs": [],
   "source": []
  },
  {
   "cell_type": "code",
   "execution_count": null,
   "metadata": {},
   "outputs": [],
   "source": []
  },
  {
   "cell_type": "code",
   "execution_count": null,
   "metadata": {},
   "outputs": [],
   "source": []
  },
  {
   "cell_type": "code",
   "execution_count": null,
   "metadata": {},
   "outputs": [],
   "source": []
  },
  {
   "cell_type": "code",
   "execution_count": null,
   "metadata": {},
   "outputs": [],
   "source": []
  },
  {
   "cell_type": "code",
   "execution_count": null,
   "metadata": {},
   "outputs": [],
   "source": []
  },
  {
   "cell_type": "code",
   "execution_count": null,
   "metadata": {},
   "outputs": [],
   "source": []
  },
  {
   "cell_type": "code",
   "execution_count": null,
   "metadata": {},
   "outputs": [],
   "source": []
  },
  {
   "cell_type": "code",
   "execution_count": null,
   "metadata": {},
   "outputs": [],
   "source": []
  },
  {
   "cell_type": "code",
   "execution_count": null,
   "metadata": {},
   "outputs": [],
   "source": []
  },
  {
   "cell_type": "code",
   "execution_count": null,
   "metadata": {},
   "outputs": [],
   "source": []
  },
  {
   "cell_type": "code",
   "execution_count": null,
   "metadata": {},
   "outputs": [],
   "source": []
  },
  {
   "cell_type": "code",
   "execution_count": null,
   "metadata": {},
   "outputs": [],
   "source": []
  },
  {
   "cell_type": "code",
   "execution_count": null,
   "metadata": {},
   "outputs": [],
   "source": []
  },
  {
   "cell_type": "code",
   "execution_count": null,
   "metadata": {},
   "outputs": [],
   "source": []
  },
  {
   "cell_type": "code",
   "execution_count": null,
   "metadata": {},
   "outputs": [],
   "source": []
  },
  {
   "cell_type": "code",
   "execution_count": null,
   "metadata": {},
   "outputs": [],
   "source": []
  },
  {
   "cell_type": "code",
   "execution_count": null,
   "metadata": {},
   "outputs": [],
   "source": []
  },
  {
   "cell_type": "code",
   "execution_count": null,
   "metadata": {},
   "outputs": [],
   "source": []
  },
  {
   "cell_type": "code",
   "execution_count": null,
   "metadata": {},
   "outputs": [],
   "source": []
  },
  {
   "cell_type": "code",
   "execution_count": null,
   "metadata": {},
   "outputs": [],
   "source": []
  },
  {
   "cell_type": "code",
   "execution_count": null,
   "metadata": {},
   "outputs": [],
   "source": []
  },
  {
   "cell_type": "code",
   "execution_count": null,
   "metadata": {},
   "outputs": [],
   "source": []
  },
  {
   "cell_type": "code",
   "execution_count": null,
   "metadata": {},
   "outputs": [],
   "source": []
  },
  {
   "cell_type": "code",
   "execution_count": null,
   "metadata": {},
   "outputs": [],
   "source": []
  },
  {
   "cell_type": "code",
   "execution_count": null,
   "metadata": {},
   "outputs": [],
   "source": []
  },
  {
   "cell_type": "code",
   "execution_count": null,
   "metadata": {},
   "outputs": [],
   "source": []
  },
  {
   "cell_type": "code",
   "execution_count": null,
   "metadata": {},
   "outputs": [],
   "source": []
  },
  {
   "cell_type": "code",
   "execution_count": null,
   "metadata": {},
   "outputs": [],
   "source": []
  },
  {
   "cell_type": "code",
   "execution_count": null,
   "metadata": {},
   "outputs": [],
   "source": []
  },
  {
   "cell_type": "code",
   "execution_count": null,
   "metadata": {},
   "outputs": [],
   "source": []
  },
  {
   "cell_type": "code",
   "execution_count": null,
   "metadata": {},
   "outputs": [],
   "source": []
  },
  {
   "cell_type": "code",
   "execution_count": null,
   "metadata": {},
   "outputs": [],
   "source": []
  },
  {
   "cell_type": "code",
   "execution_count": null,
   "metadata": {},
   "outputs": [],
   "source": []
  },
  {
   "cell_type": "code",
   "execution_count": null,
   "metadata": {},
   "outputs": [],
   "source": []
  },
  {
   "cell_type": "code",
   "execution_count": null,
   "metadata": {},
   "outputs": [],
   "source": []
  }
 ],
 "metadata": {
  "kernelspec": {
   "display_name": "Python 3",
   "language": "python",
   "name": "python3"
  },
  "language_info": {
   "codemirror_mode": {
    "name": "ipython",
    "version": 3
   },
   "file_extension": ".py",
   "mimetype": "text/x-python",
   "name": "python",
   "nbconvert_exporter": "python",
   "pygments_lexer": "ipython3",
   "version": "3.7.9"
  }
 },
 "nbformat": 4,
 "nbformat_minor": 4
}
