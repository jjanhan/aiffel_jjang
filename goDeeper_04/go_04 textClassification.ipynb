{
 "cells": [
  {
   "cell_type": "markdown",
   "metadata": {},
   "source": [
    "# 결과\n",
    "num_words|None|5000|10000\n",
    "---|---|---|---\n",
    "ComplementNB|0.7649|0.7707|0.7707\n",
    "LinearRegression|0.8134|0.8059|0.8077\n",
    "LinearSVC|0.7774|0.7667|0.7814\n",
    "DecisionTree|0.6211|0.6180|0.6202\n",
    "RandomForest|0.6545|0.7012|0.6741\n",
    "GradientBoosting|0.7703|0.7676|0.7667\n"
   ]
  },
  {
   "cell_type": "code",
   "execution_count": null,
   "metadata": {},
   "outputs": [],
   "source": []
  },
  {
   "cell_type": "markdown",
   "metadata": {},
   "source": [
    "# 회고\n",
    "  - 딥러닝에 대해 부족한 점이 많음을 실감\n",
    "    - 층을 쌓는 것에 대한 이해도 부족\n",
    "    - 전달하는 인자들의 의미를 제대로 파악하지 못함\n",
    "    - 층들이 하는 역할에 대해서도 이해하지 못함\n",
    "    - 전반적으로 층에 대해 재학습이 필요함  \n",
    "      \n",
    "  - 층을 쌓다가 계속 오류가 발생해 지움  \n",
    "    \n",
    "  - Voting은 시간이 너무 걸려 일단 주석 처리함\n",
    "    - 과제 제출 시한이 임박해서 누락시킴\n",
    "    - 정확도가 가장 높았던 것 같지만 제출 기한을 넘길 수 없다고 판단\n",
    "    - 다음에 딥러닝으로 구현할 때 이 부분도 같이 실행해보고자 함  \n",
    "    \n",
    "  \n",
    "  - 과제가 그냥 노드를 합친 것에 지나지 않음\n",
    "    - 과제 제출 때마다 부족함을 느끼게 됨\n",
    "    - 잘 할 수 있을까 하는 생각을 계속하게 됨\n",
    "    - 다음 과제는 좀더 열심히 해야지 하며 각오를 다짐\n",
    "      \n",
    "  - 다음 과제에서는 지금 부족한 부분을 좀더 채울 수 있기를 기대\n",
    "  \n",
    "  "
   ]
  },
  {
   "cell_type": "code",
   "execution_count": null,
   "metadata": {},
   "outputs": [],
   "source": []
  },
  {
   "cell_type": "code",
   "execution_count": 40,
   "metadata": {},
   "outputs": [],
   "source": [
    "from tensorflow.keras.datasets import reuters\n",
    "import matplotlib.pyplot as plt\n",
    "import seaborn as sns\n",
    "import numpy as np\n",
    "import pandas as pd\n"
   ]
  },
  {
   "cell_type": "code",
   "execution_count": 41,
   "metadata": {},
   "outputs": [],
   "source": [
    "def decoded_func(x):\n",
    "    decoded = []\n",
    "    \n",
    "    for i in range(len(x)):\n",
    "        t = ' '.join([index_to_word[index] for index in x[i]])\n",
    "        \n",
    "        decoded.append(t)\n",
    "        \n",
    "    return decoded"
   ]
  },
  {
   "cell_type": "code",
   "execution_count": 42,
   "metadata": {},
   "outputs": [],
   "source": [
    "def data_align(num_words):\n",
    "\n",
    "#    num_words = [None, 5000, 10000]\n",
    "    \n",
    "#    num_word = num_words[i]\n",
    "\n",
    "    (x_train, y_train), (x_test, y_test) = \\\n",
    "        reuters.load_data(num_words=num_words, test_split=0.2)\n",
    "\n",
    "\n",
    "    x_train = decoded_func(x_train)\n",
    "    x_test = decoded_func(x_test)\n",
    "    \n",
    "    return x_train, y_train, x_test, y_test"
   ]
  },
  {
   "cell_type": "code",
   "execution_count": 43,
   "metadata": {},
   "outputs": [],
   "source": [
    "from sklearn.feature_extraction.text import CountVectorizer\n",
    "from sklearn.feature_extraction.text import TfidfTransformer\n",
    "from sklearn.metrics import classification_report\n",
    "\n",
    "from sklearn.naive_bayes import MultinomialNB\n",
    "# 다항분포 나이브 베이즈 모델\n",
    "\n",
    "from sklearn.linear_model import LogisticRegression, SGDClassifier\n",
    "from sklearn.naive_bayes import ComplementNB\n",
    "from sklearn.tree import DecisionTreeClassifier\n",
    "from sklearn.ensemble import RandomForestClassifier\n",
    "from sklearn.ensemble import GradientBoostingClassifier\n",
    "from sklearn.ensemble import VotingClassifier\n",
    "from sklearn.svm import LinearSVC\n",
    "from sklearn.metrics import accuracy_score  # 정확도 계산"
   ]
  },
  {
   "cell_type": "code",
   "execution_count": 44,
   "metadata": {},
   "outputs": [],
   "source": [
    "def data_tfidf(x_train, x_test):\n",
    "    dtmvector = CountVectorizer()\n",
    "    x_train_dtm = dtmvector.fit_transform(x_train)\n",
    "\n",
    "    tfidf_transformer = TfidfTransformer()\n",
    "    tfidfv = tfidf_transformer.fit_transform(x_train_dtm)\n",
    "\n",
    "    # 테스트 데이터를 DTM으로 변환\n",
    "    x_test_dtm = dtmvector.transform(x_test)\n",
    "\n",
    "    # DTM을 TF-IDF 행렬로 변환\n",
    "    tfidfv_test = tfidf_transformer.transform(x_test_dtm)\n",
    "    \n",
    "    return tfidfv, tfidfv_test"
   ]
  },
  {
   "cell_type": "code",
   "execution_count": 45,
   "metadata": {},
   "outputs": [],
   "source": [
    "def run_model(tfidfv, y_train, tfidfv_test):\n",
    "\n",
    "    cb = ComplementNB()\n",
    "    cb.fit(tfidfv, y_train)\n",
    "\n",
    "    predicted = cb.predict(tfidfv_test)\n",
    "    print('ComplementNB 정확도: ', accuracy_score(y_test, predicted))\n",
    "\n",
    "\n",
    "    lr = LogisticRegression(C=10000, penalty='l2')\n",
    "    lr.fit(tfidfv, y_train)\n",
    "\n",
    "    predicted = lr.predict(tfidfv_test)\n",
    "    print('LogisticRegression 정확도: ', accuracy_score(y_test, predicted))\n",
    "\n",
    "\n",
    "    lsvc = LinearSVC(C=1000, penalty='l1', max_iter=500, dual=False)\n",
    "    lsvc.fit(tfidfv, y_train)\n",
    "\n",
    "    predicted = lsvc.predict(tfidfv_test)\n",
    "    print('LinearSVC정확도: ', accuracy_score(y_test, predicted))\n",
    "\n",
    "\n",
    "    tree = DecisionTreeClassifier(max_depth=10, random_state=0)\n",
    "    tree.fit(tfidfv, y_train)\n",
    "\n",
    "    predicted = tree.predict(tfidfv_test)\n",
    "    print('DecisionTree 정확도: ', accuracy_score(y_test, predicted))\n",
    "\n",
    "\n",
    "    forest = RandomForestClassifier(n_estimators=5, random_state=0)\n",
    "    forest.fit(tfidfv, y_train)\n",
    "\n",
    "    predicted = forest.predict(tfidfv_test)\n",
    "    print('RandomForest 정확도: ', accuracy_score(y_test, predicted))\n",
    "\n",
    "\n",
    "    grbt = GradientBoostingClassifier(random_state=0)\n",
    "    grbt.fit(tfidfv, y_train)\n",
    "\n",
    "    predicted = grbt.predict(tfidfv_test)\n",
    "    print('GradientBoosting 정확도: ', accuracy_score(y_test, predicted))\n",
    "\n",
    "\n",
    "#     voting_classifier = VotingClassifier(estimators=[\n",
    "#         ('lr', LogisticRegression(C=10000, penalty='l2')),\n",
    "#         ('cb', ComplementNB()),\n",
    "#         ('grbt', GradientBoostingClassifier(random_state=0))\n",
    "#     ], voting='soft', n_jobs=1)\n",
    "\n",
    "#     voting_classifier.fit(tfidfv, y_train)\n",
    "\n",
    "#     predicted = voting_classifier.predict(tfidfv_test)\n",
    "#     print('Voting 정확도: ', accuracy_score(y_test, predicted))"
   ]
  },
  {
   "cell_type": "code",
   "execution_count": null,
   "metadata": {},
   "outputs": [],
   "source": []
  },
  {
   "cell_type": "code",
   "execution_count": 46,
   "metadata": {},
   "outputs": [],
   "source": [
    "word_index = reuters.get_word_index(path='reuters_word_index.json')\n",
    "index_to_word = {index+3: word for word, index in word_index.items()}\n",
    "for index, token in enumerate(('<pad>', '<sos>', '<unk>')):\n",
    "    index_to_word[index] = token\n",
    "    \n",
    "# x_train, y_train, x_test, y_test = data_align()\n",
    "# tfidfv, tfidfv_test = data_tfidf(x_train, x_test)\n",
    "# #run_cb(tfidfv, y_train, tfidfv_test)\n",
    "# run_model(tfidfv, y_train, tfidfv_test)"
   ]
  },
  {
   "cell_type": "code",
   "execution_count": 47,
   "metadata": {
    "scrolled": true
   },
   "outputs": [
    {
     "name": "stdout",
     "output_type": "stream",
     "text": [
      "==================================================\n",
      "num_words = None\n",
      "\n",
      "ComplementNB 정확도:  0.7649154051647373\n"
     ]
    },
    {
     "name": "stderr",
     "output_type": "stream",
     "text": [
      "/home/aiffel/anaconda3/envs/aiffel/lib/python3.7/site-packages/sklearn/linear_model/_logistic.py:764: ConvergenceWarning: lbfgs failed to converge (status=1):\n",
      "STOP: TOTAL NO. of ITERATIONS REACHED LIMIT.\n",
      "\n",
      "Increase the number of iterations (max_iter) or scale the data as shown in:\n",
      "    https://scikit-learn.org/stable/modules/preprocessing.html\n",
      "Please also refer to the documentation for alternative solver options:\n",
      "    https://scikit-learn.org/stable/modules/linear_model.html#logistic-regression\n",
      "  extra_warning_msg=_LOGISTIC_SOLVER_CONVERGENCE_MSG)\n"
     ]
    },
    {
     "name": "stdout",
     "output_type": "stream",
     "text": [
      "LogisticRegression 정확도:  0.813446126447017\n"
     ]
    },
    {
     "name": "stderr",
     "output_type": "stream",
     "text": [
      "/home/aiffel/anaconda3/envs/aiffel/lib/python3.7/site-packages/sklearn/svm/_base.py:977: ConvergenceWarning: Liblinear failed to converge, increase the number of iterations.\n",
      "  \"the number of iterations.\", ConvergenceWarning)\n"
     ]
    },
    {
     "name": "stdout",
     "output_type": "stream",
     "text": [
      "LinearSVC정확도:  0.7773820124666073\n",
      "DecisionTree 정확도:  0.6211041852181657\n",
      "RandomForest 정확도:  0.6544968833481746\n",
      "GradientBoosting 정확도:  0.7702582368655387\n",
      "\n",
      "\n",
      "\n",
      "\n",
      "==================================================\n",
      "num_words = 5000\n",
      "\n",
      "ComplementNB 정확도:  0.7707034728406055\n"
     ]
    },
    {
     "name": "stderr",
     "output_type": "stream",
     "text": [
      "/home/aiffel/anaconda3/envs/aiffel/lib/python3.7/site-packages/sklearn/linear_model/_logistic.py:764: ConvergenceWarning: lbfgs failed to converge (status=1):\n",
      "STOP: TOTAL NO. of ITERATIONS REACHED LIMIT.\n",
      "\n",
      "Increase the number of iterations (max_iter) or scale the data as shown in:\n",
      "    https://scikit-learn.org/stable/modules/preprocessing.html\n",
      "Please also refer to the documentation for alternative solver options:\n",
      "    https://scikit-learn.org/stable/modules/linear_model.html#logistic-regression\n",
      "  extra_warning_msg=_LOGISTIC_SOLVER_CONVERGENCE_MSG)\n"
     ]
    },
    {
     "name": "stdout",
     "output_type": "stream",
     "text": [
      "LogisticRegression 정확도:  0.8058771148708815\n"
     ]
    },
    {
     "name": "stderr",
     "output_type": "stream",
     "text": [
      "/home/aiffel/anaconda3/envs/aiffel/lib/python3.7/site-packages/sklearn/svm/_base.py:977: ConvergenceWarning: Liblinear failed to converge, increase the number of iterations.\n",
      "  \"the number of iterations.\", ConvergenceWarning)\n"
     ]
    },
    {
     "name": "stdout",
     "output_type": "stream",
     "text": [
      "LinearSVC정확도:  0.7666963490650045\n",
      "DecisionTree 정확도:  0.6179875333926982\n",
      "RandomForest 정확도:  0.701246660730187\n",
      "GradientBoosting 정확도:  0.767586821015138\n",
      "\n",
      "\n",
      "\n",
      "\n",
      "==================================================\n",
      "num_words = 10000\n",
      "\n",
      "ComplementNB 정확도:  0.7707034728406055\n"
     ]
    },
    {
     "name": "stderr",
     "output_type": "stream",
     "text": [
      "/home/aiffel/anaconda3/envs/aiffel/lib/python3.7/site-packages/sklearn/linear_model/_logistic.py:764: ConvergenceWarning: lbfgs failed to converge (status=1):\n",
      "STOP: TOTAL NO. of ITERATIONS REACHED LIMIT.\n",
      "\n",
      "Increase the number of iterations (max_iter) or scale the data as shown in:\n",
      "    https://scikit-learn.org/stable/modules/preprocessing.html\n",
      "Please also refer to the documentation for alternative solver options:\n",
      "    https://scikit-learn.org/stable/modules/linear_model.html#logistic-regression\n",
      "  extra_warning_msg=_LOGISTIC_SOLVER_CONVERGENCE_MSG)\n"
     ]
    },
    {
     "name": "stdout",
     "output_type": "stream",
     "text": [
      "LogisticRegression 정확도:  0.8076580587711487\n"
     ]
    },
    {
     "name": "stderr",
     "output_type": "stream",
     "text": [
      "/home/aiffel/anaconda3/envs/aiffel/lib/python3.7/site-packages/sklearn/svm/_base.py:977: ConvergenceWarning: Liblinear failed to converge, increase the number of iterations.\n",
      "  \"the number of iterations.\", ConvergenceWarning)\n"
     ]
    },
    {
     "name": "stdout",
     "output_type": "stream",
     "text": [
      "LinearSVC정확도:  0.7813891362422084\n",
      "DecisionTree 정확도:  0.6202137132680321\n",
      "RandomForest 정확도:  0.674087266251113\n",
      "GradientBoosting 정확도:  0.7666963490650045\n",
      "\n",
      "\n",
      "\n",
      "\n"
     ]
    }
   ],
   "source": [
    "num_words = [None, 5000, 10000]\n",
    "\n",
    "for num_word in num_words:\n",
    "    print('='*50 + '\\n' + 'num_words = ' + str(num_word) + '\\n')\n",
    "    x_train, y_train, x_test, y_test = data_align(num_word)\n",
    "    tfidfv, tfidfv_test = data_tfidf(x_train, x_test)\n",
    "    #run_cb(tfidfv, y_train, tfidfv_test)\n",
    "    run_model(tfidfv, y_train, tfidfv_test)\n",
    "    \n",
    "    print('\\n\\n\\n')"
   ]
  },
  {
   "cell_type": "code",
   "execution_count": null,
   "metadata": {},
   "outputs": [],
   "source": []
  },
  {
   "cell_type": "code",
   "execution_count": null,
   "metadata": {},
   "outputs": [],
   "source": []
  }
 ],
 "metadata": {
  "kernelspec": {
   "display_name": "Python 3",
   "language": "python",
   "name": "python3"
  },
  "language_info": {
   "codemirror_mode": {
    "name": "ipython",
    "version": 3
   },
   "file_extension": ".py",
   "mimetype": "text/x-python",
   "name": "python",
   "nbconvert_exporter": "python",
   "pygments_lexer": "ipython3",
   "version": "3.7.9"
  }
 },
 "nbformat": 4,
 "nbformat_minor": 4
}
